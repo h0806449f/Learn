{
  "nbformat": 4,
  "nbformat_minor": 0,
  "metadata": {
    "colab": {
      "provenance": []
    },
    "kernelspec": {
      "name": "python3",
      "display_name": "Python 3"
    },
    "language_info": {
      "name": "python"
    }
  },
  "cells": [
    {
      "cell_type": "markdown",
      "source": [
        "#Titanic\n",
        "1. 載入資料集\n",
        "2. 資料預處理 (檢查有無缺失值)\n",
        "3. 資料預處理- Cabin, Ticket, Name 轉換成想要的資料型態  \n",
        "<br>\n",
        "4. 缺失值處理- 邏輯\n",
        "5. 缺失值處理- Age, Fare 中位數\n",
        "6. 缺失值處理- Embarked 最常出現的值  \n",
        "<br>\n",
        "7. 類別形資料的額外處理- one hot encoding\n",
        "8. 處理邏輯- 避免維度災難 太稀少的資料可以丟掉\n",
        "9. one hot額外處理- Name稀少的丟掉\n",
        "10. one hot encoding   \n",
        "<br>\n",
        "11. 資料額外處理- 兄弟姊妹, 雙親 可能也會影響\n",
        "12. 資料額外處理- Family 合併兩欄位  \n",
        "<br>\n",
        "13. 將資料分割回原本的 train / test\n",
        "14. 資料處理完畢  \n",
        "<br>\n",
        "15. 帶入演算法前的預處理- Normalized (這邊放到分割前做, 因所有資料都需要經過此處理)\n",
        "16. K近鄰 + 交叉驗證\n",
        "17. 隨機森林 + 交叉驗證\n",
        "18. 解釋性- 畫圖 \n",
        "<br>  \n",
        "小技巧"
      ],
      "metadata": {
        "id": "AaMKjTcA1jIP"
      }
    },
    {
      "cell_type": "code",
      "execution_count": 19,
      "metadata": {
        "id": "REa8gNrz0EGF"
      },
      "outputs": [],
      "source": [
        "# 載入資料集\n",
        "\n",
        "import pandas as pd\n",
        "\n",
        "\n",
        "train = pd.read_csv(\"/content/drive/MyDrive/Learn/Machine_Learn/_Titanic_train.csv\", encoding=\"utf-8\")\n",
        "test = pd.read_csv(\"/content/drive/MyDrive/Learn/Machine_Learn/_Titanic_test.csv\", encoding=\"utf-8\")"
      ]
    },
    {
      "cell_type": "code",
      "source": [
        "# 資料預處理 - 檢查有無缺失值\n",
        "# train data中 Age, Cabin, Embarked 有空值\n",
        "# test data中 Age, Fare, Cabin 有空值\n",
        "\n",
        "train.isna().sum()\n",
        "test.isna().sum()\n",
        "\n",
        "# 想一次處理兩個資料集的空值 -> concat\n",
        "total = pd.concat([train, test], axis=0)\n",
        "\n",
        "# 不需要處理 PassengerId, Survived -> drop\n",
        "total = total.drop([\"PassengerId\", \"Survived\"], axis=1)"
      ],
      "metadata": {
        "id": "OMXPkIyX1coq"
      },
      "execution_count": 20,
      "outputs": []
    },
    {
      "cell_type": "code",
      "source": [
        "# 資料預處理 - Cabin欄位\n",
        "# 想確認Cabin欄位有無資訊 -> if\n",
        "# 保留有資訊的欄位     -> apply\n",
        "\n",
        "# pd.isna\n",
        "def cabin_check(value):\n",
        "    if pd.isna(value):\n",
        "        return value\n",
        "    else:\n",
        "        return value[0]\n",
        "\n",
        "# apply\n",
        "total[\"Cabin\"] = total[\"Cabin\"].apply(cabin_check)"
      ],
      "metadata": {
        "id": "Ts2EctCmBhAQ"
      },
      "execution_count": 21,
      "outputs": []
    },
    {
      "cell_type": "code",
      "source": [
        "# 資料預處理 - Ticket欄位\n",
        "# 想看有多少人持有同一種票 -> value_counts\n",
        "\n",
        "# 計算數量\n",
        "ticket_count = total[\"Ticket\"].value_counts()\n",
        "\n",
        "# 流程\n",
        "def ticket_check(value):\n",
        "    if pd.isna(value):\n",
        "        return value\n",
        "    else:\n",
        "        return ticket_count[value]\n",
        "        # ticket_count[\"CA. 2343\"] # -> 11\n",
        "\n",
        "# apply\n",
        "total[\"Ticket\"] = total[\"Ticket\"].apply(ticket_check)"
      ],
      "metadata": {
        "id": "7VFH9MT-EIkI"
      },
      "execution_count": 22,
      "outputs": []
    },
    {
      "cell_type": "code",
      "source": [
        "# 資料預處理 - Name欄位\n",
        "# 想要擷取出姓名中的稱謂\n",
        "\n",
        "# 流程\n",
        "def name_check(value):\n",
        "    return value.split(\",\")[1].split(\".\")[0].strip()\n",
        "\n",
        "# apply\n",
        "total[\"Name\"] = total[\"Name\"].apply(name_check)"
      ],
      "metadata": {
        "id": "npzB6ynpFeU3"
      },
      "execution_count": 23,
      "outputs": []
    },
    {
      "cell_type": "code",
      "source": [
        "# pandas 篩選\n",
        "# 轉換成 跟資料一樣多的True / False\n",
        "\n",
        "null_check = total.isna().sum()\n",
        "TorF = null_check != 0 # 轉換成 True / False\n",
        "\n",
        "null_check[TorF].sort_values(ascending=False)"
      ],
      "metadata": {
        "colab": {
          "base_uri": "https://localhost:8080/"
        },
        "id": "bHT0f6ZWH5Dd",
        "outputId": "456b1251-1bbc-425d-8c2d-c56798e28c0d"
      },
      "execution_count": 24,
      "outputs": [
        {
          "output_type": "execute_result",
          "data": {
            "text/plain": [
              "Cabin       1014\n",
              "Age          263\n",
              "Embarked       2\n",
              "Fare           1\n",
              "dtype: int64"
            ]
          },
          "metadata": {},
          "execution_count": 24
        }
      ]
    },
    {
      "cell_type": "code",
      "source": [
        "# 缺失值處理- 邏輯\n",
        "# 數值 : 中位數\n",
        "# 類別 : 最常出現的值"
      ],
      "metadata": {
        "id": "u7ndS7SIJUIu"
      },
      "execution_count": 25,
      "outputs": []
    },
    {
      "cell_type": "code",
      "source": [
        "# 缺失值處理- Age\n",
        "\n",
        "# 找出中位數 -> median()\n",
        "age_median = total[\"Age\"].median()\n",
        "\n",
        "# fill\n",
        "total[\"Age\"] = total[\"Age\"].fillna(age_median)"
      ],
      "metadata": {
        "id": "oTlfXUgZKH9q"
      },
      "execution_count": 26,
      "outputs": []
    },
    {
      "cell_type": "code",
      "source": [
        "# 缺失值處理- Fare\n",
        "\n",
        "# 找出中位數 -> median()\n",
        "fare_median = total[\"Fare\"].median()\n",
        "\n",
        "# fill\n",
        "total[\"Fare\"] = total[\"Fare\"].fillna(fare_median)"
      ],
      "metadata": {
        "id": "tVMv1vDnLe-a"
      },
      "execution_count": 27,
      "outputs": []
    },
    {
      "cell_type": "code",
      "source": [
        "# 缺失值處理- Embarked\n",
        "\n",
        "# 找出最常出現的值 -> value_counts()\n",
        "total[\"Embarked\"].value_counts()\n",
        "\n",
        "# 取最大值 的index -> idxmax()\n",
        "total[\"Embarked\"].value_counts().idxmax()\n",
        "\n",
        "# fill\n",
        "embarked_most = total[\"Embarked\"].value_counts().idxmax()\n",
        "total[\"Embarked\"] = total[\"Embarked\"].fillna(embarked_most)"
      ],
      "metadata": {
        "id": "OZfTLnqzLuU5"
      },
      "execution_count": 28,
      "outputs": []
    },
    {
      "cell_type": "code",
      "source": [
        "# one hot額外處理- Name稀少的丟掉 \n",
        "\n",
        "# 計算\n",
        "name_count = total[\"Name\"].value_counts()\n",
        "\n",
        "# 欲保留的list\n",
        "name_be_keeped = name_count[name_count>10].index\n",
        "\n",
        "# 流程 -> 不保留的回傳 None -> 等等one hot encoding 會直接被丟掉\n",
        "def name_check_2(value):\n",
        "    if value in name_be_keeped:\n",
        "        return value\n",
        "    else:\n",
        "        return None\n",
        "\n",
        "# apply\n",
        "total[\"Name\"] = total[\"Name\"].apply(name_check_2)"
      ],
      "metadata": {
        "id": "XMvAc8OkOCBf"
      },
      "execution_count": 29,
      "outputs": []
    },
    {
      "cell_type": "code",
      "source": [
        "# one hot encoding\n",
        "total = pd.get_dummies(total)\n",
        "\n",
        "# Pclass 尚未被處理到\n",
        "total = pd.get_dummies(total, columns=[\"Pclass\"])"
      ],
      "metadata": {
        "id": "M721VnjWPNt0"
      },
      "execution_count": 30,
      "outputs": []
    },
    {
      "cell_type": "code",
      "source": [
        "# 增加欄位 有萃取額外資訊的必要 才需要做\n",
        "# 原本的資料 最好也保留下來\n",
        "\n",
        "total[\"Family\"] = total[\"SibSp\"] + total[\"Parch\"]"
      ],
      "metadata": {
        "id": "TYhAp0FkRjH8"
      },
      "execution_count": 31,
      "outputs": []
    },
    {
      "cell_type": "code",
      "source": [
        "# 帶入演算法前的預處理 Normalized\n",
        "from sklearn.preprocessing import MinMaxScaler\n",
        "\n",
        "\n",
        "# MinMaxScaler\n",
        "scaler = MinMaxScaler()\n",
        "\n",
        "# 這邊轉dataframe 是因為下一個要用iloc分割資料\n",
        "total_scale = pd.DataFrame(scaler.fit_transform(total))"
      ],
      "metadata": {
        "id": "flNkMr9mVWpo"
      },
      "execution_count": 32,
      "outputs": []
    },
    {
      "cell_type": "code",
      "source": [
        "# 將資料分割回原本的 train / test\n",
        "# 分割指定數量 -> iloc\n",
        "import numpy as np\n",
        "\n",
        "\n",
        "x_train_f = np.array(total_scale.iloc[:len(train)])\n",
        "x_test_f = np.array(total_scale.iloc[len(train):])\n",
        "\n",
        "y_train_f = np.array(train[\"Survived\"])"
      ],
      "metadata": {
        "id": "9IxtvPLDTRhF"
      },
      "execution_count": 33,
      "outputs": []
    },
    {
      "cell_type": "markdown",
      "source": [
        "#K近鄰+交叉驗證"
      ],
      "metadata": {
        "id": "UGkuV4GiVSJ7"
      }
    },
    {
      "cell_type": "code",
      "source": [
        "from sklearn.model_selection import cross_val_score # 交叉驗證\n",
        "from sklearn.neighbors import KNeighborsClassifier # K近鄰\n",
        "\n",
        "\n",
        "# 建立模型 -> 先假定有五群\n",
        "clf = KNeighborsClassifier(n_neighbors=5)\n",
        "\n",
        "# 將模型 套用交叉驗證\n",
        "KNNclf_score = cross_val_score(clf, x_train_f, y_train_f, cv=10, n_jobs=-1)\n",
        "# -> 此10個分數 就是K近鄰 分五群 的大概分數\n",
        "# -> 求平均 比較方便看\n",
        "np.average(KNNclf_score)"
      ],
      "metadata": {
        "colab": {
          "base_uri": "https://localhost:8080/"
        },
        "id": "xmGP9R2cX90q",
        "outputId": "04ab33f7-71be-4863-9a89-ee1a616b1e68"
      },
      "execution_count": 34,
      "outputs": [
        {
          "output_type": "execute_result",
          "data": {
            "text/plain": [
              "0.8170786516853932"
            ]
          },
          "metadata": {},
          "execution_count": 34
        }
      ]
    },
    {
      "cell_type": "code",
      "source": [
        "# 分五群的平均分數如上\n",
        "# 想測試不同群體分數 -> for \n",
        "\n",
        "best_k, best_average_score = None, 0\n",
        "\n",
        "for k in range(3, 21):\n",
        "    clf = KNeighborsClassifier(n_neighbors=k)\n",
        "    KNNclf_score = cross_val_score(clf, x_train_f, y_train_f, cv=10, n_jobs=-1)\n",
        "    average_score = np.average(KNNclf_score)\n",
        "    print(k, average_score)\n",
        "\n",
        "    if average_score > best_average_score:\n",
        "        best_k, best_average_score = k, average_score\n",
        "\n",
        "print(f\"最終比較:\\n最好的分群數: {best_k}\\n該分群平均分: {best_average_score}\")"
      ],
      "metadata": {
        "colab": {
          "base_uri": "https://localhost:8080/"
        },
        "id": "c7ifRw9EapKK",
        "outputId": "caba15f7-fe9c-4868-cdcf-1002ef34f1c5"
      },
      "execution_count": 35,
      "outputs": [
        {
          "output_type": "stream",
          "name": "stdout",
          "text": [
            "3 0.8204993757802747\n",
            "4 0.8081148564294631\n",
            "5 0.8170786516853932\n",
            "6 0.8227091136079899\n",
            "7 0.832796504369538\n",
            "8 0.8136828963795256\n",
            "9 0.8125842696629213\n",
            "10 0.8058676654182271\n",
            "11 0.818214731585518\n",
            "12 0.8069787765293384\n",
            "13 0.8137203495630463\n",
            "14 0.8125842696629213\n",
            "15 0.8227215980024967\n",
            "16 0.8137203495630463\n",
            "17 0.8193508114856429\n",
            "18 0.8137203495630461\n",
            "19 0.8137203495630463\n",
            "20 0.8170536828963794\n",
            "最終比較:\n",
            "最好的分群數: 7\n",
            "該分群平均分: 0.832796504369538\n"
          ]
        }
      ]
    },
    {
      "cell_type": "code",
      "source": [
        "# 得知最好分群數後 將該數字帶回模型\n",
        "\n",
        "# 建立\"最佳\"模型\n",
        "clf = KNeighborsClassifier(n_neighbors=7)\n",
        "clf.fit(x_train_f, y_train_f)\n",
        "\n",
        "# predict\n",
        "pre = clf.predict(x_test_f)\n",
        "\n",
        "# 將pre放入df 做成csv檔 上傳\n",
        "pd.DataFrame({\n",
        "    \"PassengerId\": test[\"PassengerId\"],\n",
        "    \"Survived\": pre\n",
        "}).to_csv(\"knn.csv\", encoding=\"utf-8\", index=False)"
      ],
      "metadata": {
        "id": "eNjsAv3jc4EF"
      },
      "execution_count": 36,
      "outputs": []
    },
    {
      "cell_type": "markdown",
      "source": [
        "#隨機森林+交叉驗證+GridSearch\n",
        "參數很多 -> GridSearch"
      ],
      "metadata": {
        "id": "g0epnixEZaeW"
      }
    },
    {
      "cell_type": "code",
      "source": [
        "from sklearn.model_selection import cross_val_score # 交叉驗證\n",
        "from sklearn.ensemble import RandomForestClassifier # 隨機森林\n",
        "from sklearn.model_selection import GridSearchCV  # GridSearch\n",
        "\n",
        "\n",
        "# GridSearch 參數設定\n",
        "params={\n",
        "    \"n_estimators\":range(21, 101, 2), #奇數投票較方便\n",
        "    \"max_depth\":range(5, 16)\n",
        "}\n",
        "\n",
        "# 建立模型\n",
        "clf = RandomForestClassifier()\n",
        "# n_estimators 此模型中有幾顆決策樹\n",
        "# max_depth 每顆決策樹的深度\n",
        "\n",
        "# 使用gridsearch\n",
        "search = GridSearchCV(clf, params, cv=10, n_jobs=-1)\n",
        "\n",
        "# fit\n",
        "search.fit(x_train_f, y_train_f)"
      ],
      "metadata": {
        "colab": {
          "base_uri": "https://localhost:8080/",
          "height": 117
        },
        "id": "E5JaP6KWZdDt",
        "outputId": "cddb269a-7c88-4e7f-f5ba-745914def3da"
      },
      "execution_count": 40,
      "outputs": [
        {
          "output_type": "execute_result",
          "data": {
            "text/plain": [
              "GridSearchCV(cv=10, estimator=RandomForestClassifier(), n_jobs=-1,\n",
              "             param_grid={'max_depth': range(5, 16),\n",
              "                         'n_estimators': range(21, 101, 2)})"
            ],
            "text/html": [
              "<style>#sk-container-id-1 {color: black;background-color: white;}#sk-container-id-1 pre{padding: 0;}#sk-container-id-1 div.sk-toggleable {background-color: white;}#sk-container-id-1 label.sk-toggleable__label {cursor: pointer;display: block;width: 100%;margin-bottom: 0;padding: 0.3em;box-sizing: border-box;text-align: center;}#sk-container-id-1 label.sk-toggleable__label-arrow:before {content: \"▸\";float: left;margin-right: 0.25em;color: #696969;}#sk-container-id-1 label.sk-toggleable__label-arrow:hover:before {color: black;}#sk-container-id-1 div.sk-estimator:hover label.sk-toggleable__label-arrow:before {color: black;}#sk-container-id-1 div.sk-toggleable__content {max-height: 0;max-width: 0;overflow: hidden;text-align: left;background-color: #f0f8ff;}#sk-container-id-1 div.sk-toggleable__content pre {margin: 0.2em;color: black;border-radius: 0.25em;background-color: #f0f8ff;}#sk-container-id-1 input.sk-toggleable__control:checked~div.sk-toggleable__content {max-height: 200px;max-width: 100%;overflow: auto;}#sk-container-id-1 input.sk-toggleable__control:checked~label.sk-toggleable__label-arrow:before {content: \"▾\";}#sk-container-id-1 div.sk-estimator input.sk-toggleable__control:checked~label.sk-toggleable__label {background-color: #d4ebff;}#sk-container-id-1 div.sk-label input.sk-toggleable__control:checked~label.sk-toggleable__label {background-color: #d4ebff;}#sk-container-id-1 input.sk-hidden--visually {border: 0;clip: rect(1px 1px 1px 1px);clip: rect(1px, 1px, 1px, 1px);height: 1px;margin: -1px;overflow: hidden;padding: 0;position: absolute;width: 1px;}#sk-container-id-1 div.sk-estimator {font-family: monospace;background-color: #f0f8ff;border: 1px dotted black;border-radius: 0.25em;box-sizing: border-box;margin-bottom: 0.5em;}#sk-container-id-1 div.sk-estimator:hover {background-color: #d4ebff;}#sk-container-id-1 div.sk-parallel-item::after {content: \"\";width: 100%;border-bottom: 1px solid gray;flex-grow: 1;}#sk-container-id-1 div.sk-label:hover label.sk-toggleable__label {background-color: #d4ebff;}#sk-container-id-1 div.sk-serial::before {content: \"\";position: absolute;border-left: 1px solid gray;box-sizing: border-box;top: 0;bottom: 0;left: 50%;z-index: 0;}#sk-container-id-1 div.sk-serial {display: flex;flex-direction: column;align-items: center;background-color: white;padding-right: 0.2em;padding-left: 0.2em;position: relative;}#sk-container-id-1 div.sk-item {position: relative;z-index: 1;}#sk-container-id-1 div.sk-parallel {display: flex;align-items: stretch;justify-content: center;background-color: white;position: relative;}#sk-container-id-1 div.sk-item::before, #sk-container-id-1 div.sk-parallel-item::before {content: \"\";position: absolute;border-left: 1px solid gray;box-sizing: border-box;top: 0;bottom: 0;left: 50%;z-index: -1;}#sk-container-id-1 div.sk-parallel-item {display: flex;flex-direction: column;z-index: 1;position: relative;background-color: white;}#sk-container-id-1 div.sk-parallel-item:first-child::after {align-self: flex-end;width: 50%;}#sk-container-id-1 div.sk-parallel-item:last-child::after {align-self: flex-start;width: 50%;}#sk-container-id-1 div.sk-parallel-item:only-child::after {width: 0;}#sk-container-id-1 div.sk-dashed-wrapped {border: 1px dashed gray;margin: 0 0.4em 0.5em 0.4em;box-sizing: border-box;padding-bottom: 0.4em;background-color: white;}#sk-container-id-1 div.sk-label label {font-family: monospace;font-weight: bold;display: inline-block;line-height: 1.2em;}#sk-container-id-1 div.sk-label-container {text-align: center;}#sk-container-id-1 div.sk-container {/* jupyter's `normalize.less` sets `[hidden] { display: none; }` but bootstrap.min.css set `[hidden] { display: none !important; }` so we also need the `!important` here to be able to override the default hidden behavior on the sphinx rendered scikit-learn.org. See: https://github.com/scikit-learn/scikit-learn/issues/21755 */display: inline-block !important;position: relative;}#sk-container-id-1 div.sk-text-repr-fallback {display: none;}</style><div id=\"sk-container-id-1\" class=\"sk-top-container\"><div class=\"sk-text-repr-fallback\"><pre>GridSearchCV(cv=10, estimator=RandomForestClassifier(), n_jobs=-1,\n",
              "             param_grid={&#x27;max_depth&#x27;: range(5, 16),\n",
              "                         &#x27;n_estimators&#x27;: range(21, 101, 2)})</pre><b>In a Jupyter environment, please rerun this cell to show the HTML representation or trust the notebook. <br />On GitHub, the HTML representation is unable to render, please try loading this page with nbviewer.org.</b></div><div class=\"sk-container\" hidden><div class=\"sk-item sk-dashed-wrapped\"><div class=\"sk-label-container\"><div class=\"sk-label sk-toggleable\"><input class=\"sk-toggleable__control sk-hidden--visually\" id=\"sk-estimator-id-1\" type=\"checkbox\" ><label for=\"sk-estimator-id-1\" class=\"sk-toggleable__label sk-toggleable__label-arrow\">GridSearchCV</label><div class=\"sk-toggleable__content\"><pre>GridSearchCV(cv=10, estimator=RandomForestClassifier(), n_jobs=-1,\n",
              "             param_grid={&#x27;max_depth&#x27;: range(5, 16),\n",
              "                         &#x27;n_estimators&#x27;: range(21, 101, 2)})</pre></div></div></div><div class=\"sk-parallel\"><div class=\"sk-parallel-item\"><div class=\"sk-item\"><div class=\"sk-label-container\"><div class=\"sk-label sk-toggleable\"><input class=\"sk-toggleable__control sk-hidden--visually\" id=\"sk-estimator-id-2\" type=\"checkbox\" ><label for=\"sk-estimator-id-2\" class=\"sk-toggleable__label sk-toggleable__label-arrow\">estimator: RandomForestClassifier</label><div class=\"sk-toggleable__content\"><pre>RandomForestClassifier()</pre></div></div></div><div class=\"sk-serial\"><div class=\"sk-item\"><div class=\"sk-estimator sk-toggleable\"><input class=\"sk-toggleable__control sk-hidden--visually\" id=\"sk-estimator-id-3\" type=\"checkbox\" ><label for=\"sk-estimator-id-3\" class=\"sk-toggleable__label sk-toggleable__label-arrow\">RandomForestClassifier</label><div class=\"sk-toggleable__content\"><pre>RandomForestClassifier()</pre></div></div></div></div></div></div></div></div></div></div>"
            ]
          },
          "metadata": {},
          "execution_count": 40
        }
      ]
    },
    {
      "cell_type": "code",
      "source": [
        "search.best_params_, search.best_score_"
      ],
      "metadata": {
        "colab": {
          "base_uri": "https://localhost:8080/"
        },
        "id": "mwdtP2tOeI0B",
        "outputId": "ffd447a1-0a63-4e26-bed3-81eeeffd722f"
      },
      "execution_count": 41,
      "outputs": [
        {
          "output_type": "execute_result",
          "data": {
            "text/plain": [
              "({'max_depth': 7, 'n_estimators': 37}, 0.8440074906367041)"
            ]
          },
          "metadata": {},
          "execution_count": 41
        }
      ]
    },
    {
      "cell_type": "code",
      "source": [
        "# 將最好的參數 重新帶入模型\n",
        "clf = RandomForestClassifier(max_depth=7, n_estimators=37)\n",
        "clf.fit(x_train_f, y_train_f)\n",
        "pre = clf.predict(x_test_f)\n",
        "\n",
        "randomforest_df = pd.DataFrame({\n",
        "    \"PassengerId\" : test[\"PassengerId\"],\n",
        "    \"Survuved\" : pre\n",
        "})\n",
        "\n",
        "randomforest_df"
      ],
      "metadata": {
        "colab": {
          "base_uri": "https://localhost:8080/",
          "height": 423
        },
        "id": "E-d4TTvFhfRU",
        "outputId": "f54f236d-09d9-4362-a1b9-763b46c4e4cf"
      },
      "execution_count": 48,
      "outputs": [
        {
          "output_type": "execute_result",
          "data": {
            "text/plain": [
              "     PassengerId  Survuved\n",
              "0            892         0\n",
              "1            893         0\n",
              "2            894         0\n",
              "3            895         0\n",
              "4            896         1\n",
              "..           ...       ...\n",
              "413         1305         0\n",
              "414         1306         1\n",
              "415         1307         0\n",
              "416         1308         0\n",
              "417         1309         1\n",
              "\n",
              "[418 rows x 2 columns]"
            ],
            "text/html": [
              "\n",
              "  <div id=\"df-fff2f3c8-ad66-40d1-923a-ee95f1e3e2f8\">\n",
              "    <div class=\"colab-df-container\">\n",
              "      <div>\n",
              "<style scoped>\n",
              "    .dataframe tbody tr th:only-of-type {\n",
              "        vertical-align: middle;\n",
              "    }\n",
              "\n",
              "    .dataframe tbody tr th {\n",
              "        vertical-align: top;\n",
              "    }\n",
              "\n",
              "    .dataframe thead th {\n",
              "        text-align: right;\n",
              "    }\n",
              "</style>\n",
              "<table border=\"1\" class=\"dataframe\">\n",
              "  <thead>\n",
              "    <tr style=\"text-align: right;\">\n",
              "      <th></th>\n",
              "      <th>PassengerId</th>\n",
              "      <th>Survuved</th>\n",
              "    </tr>\n",
              "  </thead>\n",
              "  <tbody>\n",
              "    <tr>\n",
              "      <th>0</th>\n",
              "      <td>892</td>\n",
              "      <td>0</td>\n",
              "    </tr>\n",
              "    <tr>\n",
              "      <th>1</th>\n",
              "      <td>893</td>\n",
              "      <td>0</td>\n",
              "    </tr>\n",
              "    <tr>\n",
              "      <th>2</th>\n",
              "      <td>894</td>\n",
              "      <td>0</td>\n",
              "    </tr>\n",
              "    <tr>\n",
              "      <th>3</th>\n",
              "      <td>895</td>\n",
              "      <td>0</td>\n",
              "    </tr>\n",
              "    <tr>\n",
              "      <th>4</th>\n",
              "      <td>896</td>\n",
              "      <td>1</td>\n",
              "    </tr>\n",
              "    <tr>\n",
              "      <th>...</th>\n",
              "      <td>...</td>\n",
              "      <td>...</td>\n",
              "    </tr>\n",
              "    <tr>\n",
              "      <th>413</th>\n",
              "      <td>1305</td>\n",
              "      <td>0</td>\n",
              "    </tr>\n",
              "    <tr>\n",
              "      <th>414</th>\n",
              "      <td>1306</td>\n",
              "      <td>1</td>\n",
              "    </tr>\n",
              "    <tr>\n",
              "      <th>415</th>\n",
              "      <td>1307</td>\n",
              "      <td>0</td>\n",
              "    </tr>\n",
              "    <tr>\n",
              "      <th>416</th>\n",
              "      <td>1308</td>\n",
              "      <td>0</td>\n",
              "    </tr>\n",
              "    <tr>\n",
              "      <th>417</th>\n",
              "      <td>1309</td>\n",
              "      <td>1</td>\n",
              "    </tr>\n",
              "  </tbody>\n",
              "</table>\n",
              "<p>418 rows × 2 columns</p>\n",
              "</div>\n",
              "      <button class=\"colab-df-convert\" onclick=\"convertToInteractive('df-fff2f3c8-ad66-40d1-923a-ee95f1e3e2f8')\"\n",
              "              title=\"Convert this dataframe to an interactive table.\"\n",
              "              style=\"display:none;\">\n",
              "        \n",
              "  <svg xmlns=\"http://www.w3.org/2000/svg\" height=\"24px\"viewBox=\"0 0 24 24\"\n",
              "       width=\"24px\">\n",
              "    <path d=\"M0 0h24v24H0V0z\" fill=\"none\"/>\n",
              "    <path d=\"M18.56 5.44l.94 2.06.94-2.06 2.06-.94-2.06-.94-.94-2.06-.94 2.06-2.06.94zm-11 1L8.5 8.5l.94-2.06 2.06-.94-2.06-.94L8.5 2.5l-.94 2.06-2.06.94zm10 10l.94 2.06.94-2.06 2.06-.94-2.06-.94-.94-2.06-.94 2.06-2.06.94z\"/><path d=\"M17.41 7.96l-1.37-1.37c-.4-.4-.92-.59-1.43-.59-.52 0-1.04.2-1.43.59L10.3 9.45l-7.72 7.72c-.78.78-.78 2.05 0 2.83L4 21.41c.39.39.9.59 1.41.59.51 0 1.02-.2 1.41-.59l7.78-7.78 2.81-2.81c.8-.78.8-2.07 0-2.86zM5.41 20L4 18.59l7.72-7.72 1.47 1.35L5.41 20z\"/>\n",
              "  </svg>\n",
              "      </button>\n",
              "      \n",
              "  <style>\n",
              "    .colab-df-container {\n",
              "      display:flex;\n",
              "      flex-wrap:wrap;\n",
              "      gap: 12px;\n",
              "    }\n",
              "\n",
              "    .colab-df-convert {\n",
              "      background-color: #E8F0FE;\n",
              "      border: none;\n",
              "      border-radius: 50%;\n",
              "      cursor: pointer;\n",
              "      display: none;\n",
              "      fill: #1967D2;\n",
              "      height: 32px;\n",
              "      padding: 0 0 0 0;\n",
              "      width: 32px;\n",
              "    }\n",
              "\n",
              "    .colab-df-convert:hover {\n",
              "      background-color: #E2EBFA;\n",
              "      box-shadow: 0px 1px 2px rgba(60, 64, 67, 0.3), 0px 1px 3px 1px rgba(60, 64, 67, 0.15);\n",
              "      fill: #174EA6;\n",
              "    }\n",
              "\n",
              "    [theme=dark] .colab-df-convert {\n",
              "      background-color: #3B4455;\n",
              "      fill: #D2E3FC;\n",
              "    }\n",
              "\n",
              "    [theme=dark] .colab-df-convert:hover {\n",
              "      background-color: #434B5C;\n",
              "      box-shadow: 0px 1px 3px 1px rgba(0, 0, 0, 0.15);\n",
              "      filter: drop-shadow(0px 1px 2px rgba(0, 0, 0, 0.3));\n",
              "      fill: #FFFFFF;\n",
              "    }\n",
              "  </style>\n",
              "\n",
              "      <script>\n",
              "        const buttonEl =\n",
              "          document.querySelector('#df-fff2f3c8-ad66-40d1-923a-ee95f1e3e2f8 button.colab-df-convert');\n",
              "        buttonEl.style.display =\n",
              "          google.colab.kernel.accessAllowed ? 'block' : 'none';\n",
              "\n",
              "        async function convertToInteractive(key) {\n",
              "          const element = document.querySelector('#df-fff2f3c8-ad66-40d1-923a-ee95f1e3e2f8');\n",
              "          const dataTable =\n",
              "            await google.colab.kernel.invokeFunction('convertToInteractive',\n",
              "                                                     [key], {});\n",
              "          if (!dataTable) return;\n",
              "\n",
              "          const docLinkHtml = 'Like what you see? Visit the ' +\n",
              "            '<a target=\"_blank\" href=https://colab.research.google.com/notebooks/data_table.ipynb>data table notebook</a>'\n",
              "            + ' to learn more about interactive tables.';\n",
              "          element.innerHTML = '';\n",
              "          dataTable['output_type'] = 'display_data';\n",
              "          await google.colab.output.renderOutput(dataTable, element);\n",
              "          const docLink = document.createElement('div');\n",
              "          docLink.innerHTML = docLinkHtml;\n",
              "          element.appendChild(docLink);\n",
              "        }\n",
              "      </script>\n",
              "    </div>\n",
              "  </div>\n",
              "  "
            ]
          },
          "metadata": {},
          "execution_count": 48
        }
      ]
    },
    {
      "cell_type": "code",
      "source": [
        "# 隨機森林的底層是決策樹 -> 優點: 可解釋性高\n",
        "# 畫出不同的決策樹\n",
        "clf.estimators_[1]"
      ],
      "metadata": {
        "colab": {
          "base_uri": "https://localhost:8080/",
          "height": 92
        },
        "id": "jWDK-fIEfQuh",
        "outputId": "d9e1603e-9671-4458-b65f-49b82fd19b25"
      },
      "execution_count": 49,
      "outputs": [
        {
          "output_type": "execute_result",
          "data": {
            "text/plain": [
              "DecisionTreeClassifier(max_depth=7, max_features='sqrt',\n",
              "                       random_state=1504987585)"
            ],
            "text/html": [
              "<style>#sk-container-id-2 {color: black;background-color: white;}#sk-container-id-2 pre{padding: 0;}#sk-container-id-2 div.sk-toggleable {background-color: white;}#sk-container-id-2 label.sk-toggleable__label {cursor: pointer;display: block;width: 100%;margin-bottom: 0;padding: 0.3em;box-sizing: border-box;text-align: center;}#sk-container-id-2 label.sk-toggleable__label-arrow:before {content: \"▸\";float: left;margin-right: 0.25em;color: #696969;}#sk-container-id-2 label.sk-toggleable__label-arrow:hover:before {color: black;}#sk-container-id-2 div.sk-estimator:hover label.sk-toggleable__label-arrow:before {color: black;}#sk-container-id-2 div.sk-toggleable__content {max-height: 0;max-width: 0;overflow: hidden;text-align: left;background-color: #f0f8ff;}#sk-container-id-2 div.sk-toggleable__content pre {margin: 0.2em;color: black;border-radius: 0.25em;background-color: #f0f8ff;}#sk-container-id-2 input.sk-toggleable__control:checked~div.sk-toggleable__content {max-height: 200px;max-width: 100%;overflow: auto;}#sk-container-id-2 input.sk-toggleable__control:checked~label.sk-toggleable__label-arrow:before {content: \"▾\";}#sk-container-id-2 div.sk-estimator input.sk-toggleable__control:checked~label.sk-toggleable__label {background-color: #d4ebff;}#sk-container-id-2 div.sk-label input.sk-toggleable__control:checked~label.sk-toggleable__label {background-color: #d4ebff;}#sk-container-id-2 input.sk-hidden--visually {border: 0;clip: rect(1px 1px 1px 1px);clip: rect(1px, 1px, 1px, 1px);height: 1px;margin: -1px;overflow: hidden;padding: 0;position: absolute;width: 1px;}#sk-container-id-2 div.sk-estimator {font-family: monospace;background-color: #f0f8ff;border: 1px dotted black;border-radius: 0.25em;box-sizing: border-box;margin-bottom: 0.5em;}#sk-container-id-2 div.sk-estimator:hover {background-color: #d4ebff;}#sk-container-id-2 div.sk-parallel-item::after {content: \"\";width: 100%;border-bottom: 1px solid gray;flex-grow: 1;}#sk-container-id-2 div.sk-label:hover label.sk-toggleable__label {background-color: #d4ebff;}#sk-container-id-2 div.sk-serial::before {content: \"\";position: absolute;border-left: 1px solid gray;box-sizing: border-box;top: 0;bottom: 0;left: 50%;z-index: 0;}#sk-container-id-2 div.sk-serial {display: flex;flex-direction: column;align-items: center;background-color: white;padding-right: 0.2em;padding-left: 0.2em;position: relative;}#sk-container-id-2 div.sk-item {position: relative;z-index: 1;}#sk-container-id-2 div.sk-parallel {display: flex;align-items: stretch;justify-content: center;background-color: white;position: relative;}#sk-container-id-2 div.sk-item::before, #sk-container-id-2 div.sk-parallel-item::before {content: \"\";position: absolute;border-left: 1px solid gray;box-sizing: border-box;top: 0;bottom: 0;left: 50%;z-index: -1;}#sk-container-id-2 div.sk-parallel-item {display: flex;flex-direction: column;z-index: 1;position: relative;background-color: white;}#sk-container-id-2 div.sk-parallel-item:first-child::after {align-self: flex-end;width: 50%;}#sk-container-id-2 div.sk-parallel-item:last-child::after {align-self: flex-start;width: 50%;}#sk-container-id-2 div.sk-parallel-item:only-child::after {width: 0;}#sk-container-id-2 div.sk-dashed-wrapped {border: 1px dashed gray;margin: 0 0.4em 0.5em 0.4em;box-sizing: border-box;padding-bottom: 0.4em;background-color: white;}#sk-container-id-2 div.sk-label label {font-family: monospace;font-weight: bold;display: inline-block;line-height: 1.2em;}#sk-container-id-2 div.sk-label-container {text-align: center;}#sk-container-id-2 div.sk-container {/* jupyter's `normalize.less` sets `[hidden] { display: none; }` but bootstrap.min.css set `[hidden] { display: none !important; }` so we also need the `!important` here to be able to override the default hidden behavior on the sphinx rendered scikit-learn.org. See: https://github.com/scikit-learn/scikit-learn/issues/21755 */display: inline-block !important;position: relative;}#sk-container-id-2 div.sk-text-repr-fallback {display: none;}</style><div id=\"sk-container-id-2\" class=\"sk-top-container\"><div class=\"sk-text-repr-fallback\"><pre>DecisionTreeClassifier(max_depth=7, max_features=&#x27;sqrt&#x27;,\n",
              "                       random_state=1504987585)</pre><b>In a Jupyter environment, please rerun this cell to show the HTML representation or trust the notebook. <br />On GitHub, the HTML representation is unable to render, please try loading this page with nbviewer.org.</b></div><div class=\"sk-container\" hidden><div class=\"sk-item\"><div class=\"sk-estimator sk-toggleable\"><input class=\"sk-toggleable__control sk-hidden--visually\" id=\"sk-estimator-id-4\" type=\"checkbox\" checked><label for=\"sk-estimator-id-4\" class=\"sk-toggleable__label sk-toggleable__label-arrow\">DecisionTreeClassifier</label><div class=\"sk-toggleable__content\"><pre>DecisionTreeClassifier(max_depth=7, max_features=&#x27;sqrt&#x27;,\n",
              "                       random_state=1504987585)</pre></div></div></div></div></div>"
            ]
          },
          "metadata": {},
          "execution_count": 49
        }
      ]
    },
    {
      "cell_type": "code",
      "source": [
        "# 解釋性\n",
        "\n",
        "feature_importance = pd.Series(clf.feature_importances_, index=total.columns)\n",
        "feature_importance.sort_values(ascending=False)"
      ],
      "metadata": {
        "colab": {
          "base_uri": "https://localhost:8080/"
        },
        "id": "2C5ydCGvfp4W",
        "outputId": "ecc950ca-dfac-4428-ab5a-49a3bb26c572"
      },
      "execution_count": 51,
      "outputs": [
        {
          "output_type": "execute_result",
          "data": {
            "text/plain": [
              "Name_Mr        0.182515\n",
              "Sex_male       0.174791\n",
              "Fare           0.084715\n",
              "Sex_female     0.078964\n",
              "Age            0.077037\n",
              "Family         0.063772\n",
              "Ticket         0.060788\n",
              "Pclass_3       0.042044\n",
              "Pclass_1       0.039568\n",
              "Name_Miss      0.035796\n",
              "SibSp          0.028938\n",
              "Name_Mrs       0.025870\n",
              "Name_Master    0.015336\n",
              "Parch          0.014988\n",
              "Cabin_E        0.013976\n",
              "Pclass_2       0.013244\n",
              "Cabin_D        0.009034\n",
              "Embarked_S     0.007689\n",
              "Embarked_Q     0.007274\n",
              "Cabin_B        0.006516\n",
              "Embarked_C     0.006461\n",
              "Cabin_C        0.005260\n",
              "Cabin_G        0.002496\n",
              "Cabin_A        0.002124\n",
              "Cabin_F        0.000545\n",
              "Cabin_T        0.000261\n",
              "dtype: float64"
            ]
          },
          "metadata": {},
          "execution_count": 51
        }
      ]
    },
    {
      "cell_type": "code",
      "source": [
        "# 畫圖- 針對較重要的特徵進行解釋\n",
        "# countplot\n",
        "import matplotlib.pyplot as plt\n",
        "import seaborn as sns\n",
        "\n",
        "# 以sex角度 去看生存率\n",
        "sns.countplot(data=train, y=\"Sex\", hue=\"Survived\")\n",
        "plt.title(\"Sex vs Survived\")"
      ],
      "metadata": {
        "colab": {
          "base_uri": "https://localhost:8080/",
          "height": 489
        },
        "id": "fsxgrg2BicDs",
        "outputId": "40f36be7-2989-4f61-e763-20514ea18074"
      },
      "execution_count": 59,
      "outputs": [
        {
          "output_type": "execute_result",
          "data": {
            "text/plain": [
              "Text(0.5, 1.0, 'Sex vs Survived')"
            ]
          },
          "metadata": {},
          "execution_count": 59
        },
        {
          "output_type": "display_data",
          "data": {
            "text/plain": [
              "<Figure size 640x480 with 1 Axes>"
            ],
            "image/png": "[encoded data removed]"
          },
          "metadata": {}
        }
      ]
    },
    {
      "cell_type": "code",
      "source": [
        "# 畫圖- 針對較重要的特徵進行解釋\n",
        "# histogram\n",
        "# 以所花費用 去看生存率\n",
        "\n",
        "cut_fare = pd.cut(train[\"Fare\"], bins=10)\n",
        "sns.countplot(x=cut_fare, hue=train[\"Survived\"])\n",
        "\n",
        "plt.xticks(rotation=20)\n",
        "plt.legend(loc=\"upper right\")\n",
        "plt.title(\"Fare vs Survived\")"
      ],
      "metadata": {
        "colab": {
          "base_uri": "https://localhost:8080/",
          "height": 534
        },
        "id": "kKukKA14jqq8",
        "outputId": "613fbf30-0902-4b8d-d187-15b09ddae689"
      },
      "execution_count": 58,
      "outputs": [
        {
          "output_type": "execute_result",
          "data": {
            "text/plain": [
              "Text(0.5, 1.0, 'Fare vs Survived')"
            ]
          },
          "metadata": {},
          "execution_count": 58
        },
        {
          "output_type": "display_data",
          "data": {
            "text/plain": [
              "<Figure size 640x480 with 1 Axes>"
            ],
            "image/png": "[encoded data removed]"
          },
          "metadata": {}
        }
      ]
    },
    {
      "cell_type": "code",
      "source": [
        "# 畫圖- 針對較重要的特徵進行解釋\n",
        "# histogram\n",
        "# 以年紀 去看生存率\n",
        "\n",
        "cut_fare = pd.cut(train[\"Age\"], bins=10)\n",
        "sns.countplot(x=cut_fare, hue=train[\"Survived\"])\n",
        "\n",
        "plt.xticks(rotation=20)\n",
        "plt.legend(loc=\"upper right\")\n",
        "plt.title(\"Age vs Survived\")"
      ],
      "metadata": {
        "colab": {
          "base_uri": "https://localhost:8080/",
          "height": 528
        },
        "id": "Kcc9ZkU_lJ2j",
        "outputId": "67f8cb9b-b932-431d-dbcc-1a20656cf349"
      },
      "execution_count": 57,
      "outputs": [
        {
          "output_type": "execute_result",
          "data": {
            "text/plain": [
              "Text(0.5, 1.0, 'Age vs Survived')"
            ]
          },
          "metadata": {},
          "execution_count": 57
        },
        {
          "output_type": "display_data",
          "data": {
            "text/plain": [
              "<Figure size 640x480 with 1 Axes>"
            ],
            "image/png": "[encoded data removed]"
          },
          "metadata": {}
        }
      ]
    },
    {
      "cell_type": "markdown",
      "source": [
        "#小技巧"
      ],
      "metadata": {
        "id": "5AccRmQrme6C"
      }
    },
    {
      "cell_type": "code",
      "source": [
        "# 所有資料經過Normalized之後 可以利用資料彼此之間的距離 來判斷整個資料的複雜程度\n",
        "from sklearn.preprocessing import MinMaxScaler\n",
        "from sklearn.manifold import TSNE\n",
        "\n",
        "# Normalized\n",
        "scaler = MinMaxScaler()\n",
        "total_scale = pd.DataFrame(scaler.fit_transform(total))\n",
        "\n",
        "# 分為 x_train, y_train\n",
        "x_scale = np.array(total_scale.iloc[:len(train)])\n",
        "y = np.array(train[\"Survived\"])\n",
        "\n",
        "# TSNE -> n_components: 降低成幾維度\n",
        "tsne = TSNE(n_components=2)\n",
        "x_tsne = tsne.fit_transform(x_scale)\n"
      ],
      "metadata": {
        "id": "MaRBV9wimegv"
      },
      "execution_count": 63,
      "outputs": []
    },
    {
      "cell_type": "code",
      "source": [
        "# 26個欄位 變成2個欄位了\n",
        "# 理解: 將26維空間的距離 濃縮為 2維空間的距離\n",
        "x_scale.shape, x_tsne.shape"
      ],
      "metadata": {
        "colab": {
          "base_uri": "https://localhost:8080/"
        },
        "id": "F8Q0mGCvn-Sd",
        "outputId": "9c400a28-6c9f-4e45-c61a-f126e1395148"
      },
      "execution_count": 64,
      "outputs": [
        {
          "output_type": "execute_result",
          "data": {
            "text/plain": [
              "((891, 26), (891, 2))"
            ]
          },
          "metadata": {},
          "execution_count": 64
        }
      ]
    },
    {
      "cell_type": "code",
      "source": [
        "x_tsne"
      ],
      "metadata": {
        "colab": {
          "base_uri": "https://localhost:8080/"
        },
        "id": "w7BmIVnsotTr",
        "outputId": "33b47cac-edf6-4452-afdf-df1c247e99c7"
      },
      "execution_count": 66,
      "outputs": [
        {
          "output_type": "execute_result",
          "data": {
            "text/plain": [
              "array([[-16.023462 ,  -9.421592 ],\n",
              "       [ 27.982689 ,  -0.6857979],\n",
              "       [ 14.266521 , -21.648748 ],\n",
              "       ...,\n",
              "       [ 14.179455 , -25.661177 ],\n",
              "       [  5.4961343,  26.723686 ],\n",
              "       [-34.576797 ,   7.5378504]], dtype=float32)"
            ]
          },
          "metadata": {},
          "execution_count": 66
        }
      ]
    },
    {
      "cell_type": "code",
      "source": [
        "x_left_side_data = x_tsne[:,0]\n",
        "x_right_side_data = x_tsne[:,1]\n",
        "\n",
        "\n",
        "# 剛剛: y = np.array(train[\"Survived\"])\n",
        "sns.scatterplot(x=x_left_side_data, y=x_right_side_data, hue=y)"
      ],
      "metadata": {
        "colab": {
          "base_uri": "https://localhost:8080/",
          "height": 447
        },
        "id": "-ncnP-ZhoI2M",
        "outputId": "c473c44b-fbed-497b-b8dd-4dc247f798df"
      },
      "execution_count": 67,
      "outputs": [
        {
          "output_type": "execute_result",
          "data": {
            "text/plain": [
              "<Axes: >"
            ]
          },
          "metadata": {},
          "execution_count": 67
        },
        {
          "output_type": "display_data",
          "data": {
            "text/plain": [
              "<Figure size 640x480 with 1 Axes>"
            ],
            "image/png": "[encoded data removed]"
          },
          "metadata": {}
        }
      ]
    },
    {
      "cell_type": "code",
      "source": [
        "# 圖形解析\n",
        "# 鐵達尼號 算比較簡單的問題\n",
        "# 生存者 與 死亡者 各自都較聚集\n",
        "# 僅有少數資料 混雜在一起"
      ],
      "metadata": {
        "id": "2dSJEiTKpTj3"
      },
      "execution_count": null,
      "outputs": []
    }
  ]
}