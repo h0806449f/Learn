{
 "cells": [
  {
   "attachments": {},
   "cell_type": "markdown",
   "metadata": {},
   "source": [
    "資料預處理  (ML最花費時間的地方)\n",
    "1. 資料蒐集\n",
    "2. 資料擷取\n",
    "3. 知識轉換\n",
    "4. 智慧生成"
   ]
  },
  {
   "attachments": {},
   "cell_type": "markdown",
   "metadata": {},
   "source": [
    "機器學習類別  \n",
    "1. 監督式學習 \n",
    "    1. 意義: 提供機器學習的資料稱為\"特徵值\" 作為答案的資料稱為\"目標值\"。\n",
    "    2. 依照目標值不同 又分為兩類\n",
    "        1. 分類: 目標值不是連續值 ex 客戶可否貸款\n",
    "        2. 回歸: 目標是連續值 ex 客戶可以貸款多少金額\n",
    "    3. 常見方法: K近鄰 單純貝氏分類 決策樹<br>\n",
    "<br>\n",
    "2. 非監督式學習\n",
    "    1. 意義: 沒有告訴機器正確答案是什麼 讓機器自己從資料中發現模式\n",
    "    2. 常見方法: K-means DBSCAN\n"
   ]
  },
  {
   "cell_type": "code",
   "execution_count": 48,
   "metadata": {},
   "outputs": [
    {
     "data": {
      "text/html": [
       "<div>\n",
       "<style scoped>\n",
       "    .dataframe tbody tr th:only-of-type {\n",
       "        vertical-align: middle;\n",
       "    }\n",
       "\n",
       "    .dataframe tbody tr th {\n",
       "        vertical-align: top;\n",
       "    }\n",
       "\n",
       "    .dataframe thead th {\n",
       "        text-align: right;\n",
       "    }\n",
       "</style>\n",
       "<table border=\"1\" class=\"dataframe\">\n",
       "  <thead>\n",
       "    <tr style=\"text-align: right;\">\n",
       "      <th></th>\n",
       "      <th>Gender</th>\n",
       "      <th>Age</th>\n",
       "      <th>Income(K)</th>\n",
       "      <th>CPI</th>\n",
       "    </tr>\n",
       "  </thead>\n",
       "  <tbody>\n",
       "    <tr>\n",
       "      <th>0</th>\n",
       "      <td>女</td>\n",
       "      <td>74</td>\n",
       "      <td>38</td>\n",
       "      <td>81</td>\n",
       "    </tr>\n",
       "    <tr>\n",
       "      <th>1</th>\n",
       "      <td>女</td>\n",
       "      <td>51</td>\n",
       "      <td>71</td>\n",
       "      <td>91</td>\n",
       "    </tr>\n",
       "    <tr>\n",
       "      <th>2</th>\n",
       "      <td>女</td>\n",
       "      <td>30</td>\n",
       "      <td>65</td>\n",
       "      <td>10</td>\n",
       "    </tr>\n",
       "    <tr>\n",
       "      <th>3</th>\n",
       "      <td>女</td>\n",
       "      <td>88</td>\n",
       "      <td>49</td>\n",
       "      <td>17</td>\n",
       "    </tr>\n",
       "    <tr>\n",
       "      <th>4</th>\n",
       "      <td>女</td>\n",
       "      <td>55</td>\n",
       "      <td>48</td>\n",
       "      <td>70</td>\n",
       "    </tr>\n",
       "    <tr>\n",
       "      <th>...</th>\n",
       "      <td>...</td>\n",
       "      <td>...</td>\n",
       "      <td>...</td>\n",
       "      <td>...</td>\n",
       "    </tr>\n",
       "    <tr>\n",
       "      <th>195</th>\n",
       "      <td>男</td>\n",
       "      <td>86</td>\n",
       "      <td>84</td>\n",
       "      <td>82</td>\n",
       "    </tr>\n",
       "    <tr>\n",
       "      <th>196</th>\n",
       "      <td>男</td>\n",
       "      <td>59</td>\n",
       "      <td>52</td>\n",
       "      <td>30</td>\n",
       "    </tr>\n",
       "    <tr>\n",
       "      <th>197</th>\n",
       "      <td>女</td>\n",
       "      <td>63</td>\n",
       "      <td>29</td>\n",
       "      <td>61</td>\n",
       "    </tr>\n",
       "    <tr>\n",
       "      <th>198</th>\n",
       "      <td>男</td>\n",
       "      <td>67</td>\n",
       "      <td>80</td>\n",
       "      <td>9</td>\n",
       "    </tr>\n",
       "    <tr>\n",
       "      <th>199</th>\n",
       "      <td>男</td>\n",
       "      <td>72</td>\n",
       "      <td>69</td>\n",
       "      <td>92</td>\n",
       "    </tr>\n",
       "  </tbody>\n",
       "</table>\n",
       "<p>200 rows × 4 columns</p>\n",
       "</div>"
      ],
      "text/plain": [
       "    Gender  Age  Income(K)  CPI\n",
       "0        女   74         38   81\n",
       "1        女   51         71   91\n",
       "2        女   30         65   10\n",
       "3        女   88         49   17\n",
       "4        女   55         48   70\n",
       "..     ...  ...        ...  ...\n",
       "195      男   86         84   82\n",
       "196      男   59         52   30\n",
       "197      女   63         29   61\n",
       "198      男   67         80    9\n",
       "199      男   72         69   92\n",
       "\n",
       "[200 rows x 4 columns]"
      ]
     },
     "execution_count": 48,
     "metadata": {},
     "output_type": "execute_result"
    }
   ],
   "source": [
    "# K-means\n",
    "from sklearn.cluster import KMeans\n",
    "import pandas as pd\n",
    "\n",
    "\n",
    "df = pd.read_csv(\"Yt_tearice_customer.csv\", encoding=\"utf-8\")\n",
    "df"
   ]
  },
  {
   "cell_type": "code",
   "execution_count": 49,
   "metadata": {},
   "outputs": [
    {
     "data": {
      "text/html": [
       "<div>\n",
       "<style scoped>\n",
       "    .dataframe tbody tr th:only-of-type {\n",
       "        vertical-align: middle;\n",
       "    }\n",
       "\n",
       "    .dataframe tbody tr th {\n",
       "        vertical-align: top;\n",
       "    }\n",
       "\n",
       "    .dataframe thead th {\n",
       "        text-align: right;\n",
       "    }\n",
       "</style>\n",
       "<table border=\"1\" class=\"dataframe\">\n",
       "  <thead>\n",
       "    <tr style=\"text-align: right;\">\n",
       "      <th></th>\n",
       "      <th>Age</th>\n",
       "      <th>Income(K)</th>\n",
       "      <th>CPI</th>\n",
       "      <th>Female</th>\n",
       "      <th>Male</th>\n",
       "    </tr>\n",
       "  </thead>\n",
       "  <tbody>\n",
       "    <tr>\n",
       "      <th>0</th>\n",
       "      <td>74</td>\n",
       "      <td>38</td>\n",
       "      <td>81</td>\n",
       "      <td>1</td>\n",
       "      <td>0</td>\n",
       "    </tr>\n",
       "    <tr>\n",
       "      <th>1</th>\n",
       "      <td>51</td>\n",
       "      <td>71</td>\n",
       "      <td>91</td>\n",
       "      <td>1</td>\n",
       "      <td>0</td>\n",
       "    </tr>\n",
       "    <tr>\n",
       "      <th>2</th>\n",
       "      <td>30</td>\n",
       "      <td>65</td>\n",
       "      <td>10</td>\n",
       "      <td>1</td>\n",
       "      <td>0</td>\n",
       "    </tr>\n",
       "    <tr>\n",
       "      <th>3</th>\n",
       "      <td>88</td>\n",
       "      <td>49</td>\n",
       "      <td>17</td>\n",
       "      <td>1</td>\n",
       "      <td>0</td>\n",
       "    </tr>\n",
       "    <tr>\n",
       "      <th>4</th>\n",
       "      <td>55</td>\n",
       "      <td>48</td>\n",
       "      <td>70</td>\n",
       "      <td>1</td>\n",
       "      <td>0</td>\n",
       "    </tr>\n",
       "    <tr>\n",
       "      <th>...</th>\n",
       "      <td>...</td>\n",
       "      <td>...</td>\n",
       "      <td>...</td>\n",
       "      <td>...</td>\n",
       "      <td>...</td>\n",
       "    </tr>\n",
       "    <tr>\n",
       "      <th>195</th>\n",
       "      <td>86</td>\n",
       "      <td>84</td>\n",
       "      <td>82</td>\n",
       "      <td>0</td>\n",
       "      <td>1</td>\n",
       "    </tr>\n",
       "    <tr>\n",
       "      <th>196</th>\n",
       "      <td>59</td>\n",
       "      <td>52</td>\n",
       "      <td>30</td>\n",
       "      <td>0</td>\n",
       "      <td>1</td>\n",
       "    </tr>\n",
       "    <tr>\n",
       "      <th>197</th>\n",
       "      <td>63</td>\n",
       "      <td>29</td>\n",
       "      <td>61</td>\n",
       "      <td>1</td>\n",
       "      <td>0</td>\n",
       "    </tr>\n",
       "    <tr>\n",
       "      <th>198</th>\n",
       "      <td>67</td>\n",
       "      <td>80</td>\n",
       "      <td>9</td>\n",
       "      <td>0</td>\n",
       "      <td>1</td>\n",
       "    </tr>\n",
       "    <tr>\n",
       "      <th>199</th>\n",
       "      <td>72</td>\n",
       "      <td>69</td>\n",
       "      <td>92</td>\n",
       "      <td>0</td>\n",
       "      <td>1</td>\n",
       "    </tr>\n",
       "  </tbody>\n",
       "</table>\n",
       "<p>200 rows × 5 columns</p>\n",
       "</div>"
      ],
      "text/plain": [
       "     Age  Income(K)  CPI  Female  Male\n",
       "0     74         38   81       1     0\n",
       "1     51         71   91       1     0\n",
       "2     30         65   10       1     0\n",
       "3     88         49   17       1     0\n",
       "4     55         48   70       1     0\n",
       "..   ...        ...  ...     ...   ...\n",
       "195   86         84   82       0     1\n",
       "196   59         52   30       0     1\n",
       "197   63         29   61       1     0\n",
       "198   67         80    9       0     1\n",
       "199   72         69   92       0     1\n",
       "\n",
       "[200 rows x 5 columns]"
      ]
     },
     "execution_count": 49,
     "metadata": {},
     "output_type": "execute_result"
    }
   ],
   "source": [
    "dict1 = {\"男\":\"Male\", \"女\":\"Female\"}\n",
    "df[\"Gender\"].replace(dict1, inplace=True)\n",
    "\n",
    "\n",
    "gender = pd.get_dummies(df[\"Gender\"])\n",
    "df = pd.concat([df, gender], axis=1)\n",
    "df = df.drop([\"Gender\"], axis=1)\n",
    "df"
   ]
  },
  {
   "cell_type": "code",
   "execution_count": 50,
   "metadata": {},
   "outputs": [
    {
     "name": "stderr",
     "output_type": "stream",
     "text": [
      "c:\\Users\\李重誼\\AppData\\Local\\Programs\\Python\\Python311\\Lib\\site-packages\\sklearn\\cluster\\_kmeans.py:870: FutureWarning: The default value of `n_init` will change from 10 to 'auto' in 1.4. Set the value of `n_init` explicitly to suppress the warning\n",
      "  warnings.warn(\n"
     ]
    },
    {
     "data": {
      "text/html": [
       "<style>#sk-container-id-5 {color: black;background-color: white;}#sk-container-id-5 pre{padding: 0;}#sk-container-id-5 div.sk-toggleable {background-color: white;}#sk-container-id-5 label.sk-toggleable__label {cursor: pointer;display: block;width: 100%;margin-bottom: 0;padding: 0.3em;box-sizing: border-box;text-align: center;}#sk-container-id-5 label.sk-toggleable__label-arrow:before {content: \"▸\";float: left;margin-right: 0.25em;color: #696969;}#sk-container-id-5 label.sk-toggleable__label-arrow:hover:before {color: black;}#sk-container-id-5 div.sk-estimator:hover label.sk-toggleable__label-arrow:before {color: black;}#sk-container-id-5 div.sk-toggleable__content {max-height: 0;max-width: 0;overflow: hidden;text-align: left;background-color: #f0f8ff;}#sk-container-id-5 div.sk-toggleable__content pre {margin: 0.2em;color: black;border-radius: 0.25em;background-color: #f0f8ff;}#sk-container-id-5 input.sk-toggleable__control:checked~div.sk-toggleable__content {max-height: 200px;max-width: 100%;overflow: auto;}#sk-container-id-5 input.sk-toggleable__control:checked~label.sk-toggleable__label-arrow:before {content: \"▾\";}#sk-container-id-5 div.sk-estimator input.sk-toggleable__control:checked~label.sk-toggleable__label {background-color: #d4ebff;}#sk-container-id-5 div.sk-label input.sk-toggleable__control:checked~label.sk-toggleable__label {background-color: #d4ebff;}#sk-container-id-5 input.sk-hidden--visually {border: 0;clip: rect(1px 1px 1px 1px);clip: rect(1px, 1px, 1px, 1px);height: 1px;margin: -1px;overflow: hidden;padding: 0;position: absolute;width: 1px;}#sk-container-id-5 div.sk-estimator {font-family: monospace;background-color: #f0f8ff;border: 1px dotted black;border-radius: 0.25em;box-sizing: border-box;margin-bottom: 0.5em;}#sk-container-id-5 div.sk-estimator:hover {background-color: #d4ebff;}#sk-container-id-5 div.sk-parallel-item::after {content: \"\";width: 100%;border-bottom: 1px solid gray;flex-grow: 1;}#sk-container-id-5 div.sk-label:hover label.sk-toggleable__label {background-color: #d4ebff;}#sk-container-id-5 div.sk-serial::before {content: \"\";position: absolute;border-left: 1px solid gray;box-sizing: border-box;top: 0;bottom: 0;left: 50%;z-index: 0;}#sk-container-id-5 div.sk-serial {display: flex;flex-direction: column;align-items: center;background-color: white;padding-right: 0.2em;padding-left: 0.2em;position: relative;}#sk-container-id-5 div.sk-item {position: relative;z-index: 1;}#sk-container-id-5 div.sk-parallel {display: flex;align-items: stretch;justify-content: center;background-color: white;position: relative;}#sk-container-id-5 div.sk-item::before, #sk-container-id-5 div.sk-parallel-item::before {content: \"\";position: absolute;border-left: 1px solid gray;box-sizing: border-box;top: 0;bottom: 0;left: 50%;z-index: -1;}#sk-container-id-5 div.sk-parallel-item {display: flex;flex-direction: column;z-index: 1;position: relative;background-color: white;}#sk-container-id-5 div.sk-parallel-item:first-child::after {align-self: flex-end;width: 50%;}#sk-container-id-5 div.sk-parallel-item:last-child::after {align-self: flex-start;width: 50%;}#sk-container-id-5 div.sk-parallel-item:only-child::after {width: 0;}#sk-container-id-5 div.sk-dashed-wrapped {border: 1px dashed gray;margin: 0 0.4em 0.5em 0.4em;box-sizing: border-box;padding-bottom: 0.4em;background-color: white;}#sk-container-id-5 div.sk-label label {font-family: monospace;font-weight: bold;display: inline-block;line-height: 1.2em;}#sk-container-id-5 div.sk-label-container {text-align: center;}#sk-container-id-5 div.sk-container {/* jupyter's `normalize.less` sets `[hidden] { display: none; }` but bootstrap.min.css set `[hidden] { display: none !important; }` so we also need the `!important` here to be able to override the default hidden behavior on the sphinx rendered scikit-learn.org. See: https://github.com/scikit-learn/scikit-learn/issues/21755 */display: inline-block !important;position: relative;}#sk-container-id-5 div.sk-text-repr-fallback {display: none;}</style><div id=\"sk-container-id-5\" class=\"sk-top-container\"><div class=\"sk-text-repr-fallback\"><pre>KMeans(n_clusters=2)</pre><b>In a Jupyter environment, please rerun this cell to show the HTML representation or trust the notebook. <br />On GitHub, the HTML representation is unable to render, please try loading this page with nbviewer.org.</b></div><div class=\"sk-container\" hidden><div class=\"sk-item\"><div class=\"sk-estimator sk-toggleable\"><input class=\"sk-toggleable__control sk-hidden--visually\" id=\"sk-estimator-id-5\" type=\"checkbox\" checked><label for=\"sk-estimator-id-5\" class=\"sk-toggleable__label sk-toggleable__label-arrow\">KMeans</label><div class=\"sk-toggleable__content\"><pre>KMeans(n_clusters=2)</pre></div></div></div></div></div>"
      ],
      "text/plain": [
       "KMeans(n_clusters=2)"
      ]
     },
     "execution_count": 50,
     "metadata": {},
     "output_type": "execute_result"
    }
   ],
   "source": [
    "# KMeans 分群\n",
    "\n",
    "clu = KMeans(n_clusters=2)\n",
    "# 自訂 分三類\n",
    "\n",
    "clu.fit(df)"
   ]
  },
  {
   "cell_type": "code",
   "execution_count": 51,
   "metadata": {},
   "outputs": [
    {
     "data": {
      "text/plain": [
       "array([0, 0, 1, 1, 0, 0, 0, 0, 1, 1, 1, 0, 1, 0, 0, 0, 1, 0, 1, 0, 0, 0,\n",
       "       0, 1, 1, 0, 1, 1, 0, 0, 0, 1, 0, 0, 1, 1, 1, 0, 1, 1, 0, 0, 0, 0,\n",
       "       0, 0, 1, 0, 0, 0, 1, 0, 0, 0, 1, 1, 1, 0, 1, 0, 0, 0, 1, 0, 0, 0,\n",
       "       0, 1, 1, 0, 1, 0, 0, 0, 0, 0, 0, 0, 0, 0, 1, 0, 0, 0, 0, 0, 0, 0,\n",
       "       0, 0, 0, 1, 0, 1, 1, 1, 0, 1, 1, 1, 1, 1, 0, 1, 1, 0, 1, 1, 1, 0,\n",
       "       0, 1, 0, 0, 1, 0, 1, 0, 1, 1, 0, 0, 1, 0, 1, 1, 0, 0, 1, 1, 0, 1,\n",
       "       1, 1, 1, 0, 1, 1, 0, 0, 1, 1, 1, 0, 1, 0, 1, 0, 0, 0, 1, 1, 0, 0,\n",
       "       1, 0, 1, 0, 0, 0, 0, 0, 1, 0, 0, 0, 0, 0, 1, 0, 0, 0, 0, 1, 1, 1,\n",
       "       0, 0, 0, 1, 0, 1, 1, 0, 0, 0, 0, 0, 1, 1, 1, 0, 0, 1, 1, 0, 1, 0,\n",
       "       1, 0])"
      ]
     },
     "execution_count": 51,
     "metadata": {},
     "output_type": "execute_result"
    }
   ],
   "source": [
    "# 貼標籤\n",
    "clu.labels_"
   ]
  },
  {
   "cell_type": "code",
   "execution_count": 52,
   "metadata": {},
   "outputs": [
    {
     "data": {
      "text/html": [
       "<div>\n",
       "<style scoped>\n",
       "    .dataframe tbody tr th:only-of-type {\n",
       "        vertical-align: middle;\n",
       "    }\n",
       "\n",
       "    .dataframe tbody tr th {\n",
       "        vertical-align: top;\n",
       "    }\n",
       "\n",
       "    .dataframe thead th {\n",
       "        text-align: right;\n",
       "    }\n",
       "</style>\n",
       "<table border=\"1\" class=\"dataframe\">\n",
       "  <thead>\n",
       "    <tr style=\"text-align: right;\">\n",
       "      <th></th>\n",
       "      <th>Age</th>\n",
       "      <th>Income(K)</th>\n",
       "      <th>CPI</th>\n",
       "      <th>Female</th>\n",
       "      <th>Male</th>\n",
       "      <th>KM_label</th>\n",
       "    </tr>\n",
       "  </thead>\n",
       "  <tbody>\n",
       "    <tr>\n",
       "      <th>0</th>\n",
       "      <td>74</td>\n",
       "      <td>38</td>\n",
       "      <td>81</td>\n",
       "      <td>1</td>\n",
       "      <td>0</td>\n",
       "      <td>0</td>\n",
       "    </tr>\n",
       "    <tr>\n",
       "      <th>1</th>\n",
       "      <td>51</td>\n",
       "      <td>71</td>\n",
       "      <td>91</td>\n",
       "      <td>1</td>\n",
       "      <td>0</td>\n",
       "      <td>0</td>\n",
       "    </tr>\n",
       "    <tr>\n",
       "      <th>2</th>\n",
       "      <td>30</td>\n",
       "      <td>65</td>\n",
       "      <td>10</td>\n",
       "      <td>1</td>\n",
       "      <td>0</td>\n",
       "      <td>1</td>\n",
       "    </tr>\n",
       "    <tr>\n",
       "      <th>3</th>\n",
       "      <td>88</td>\n",
       "      <td>49</td>\n",
       "      <td>17</td>\n",
       "      <td>1</td>\n",
       "      <td>0</td>\n",
       "      <td>1</td>\n",
       "    </tr>\n",
       "    <tr>\n",
       "      <th>4</th>\n",
       "      <td>55</td>\n",
       "      <td>48</td>\n",
       "      <td>70</td>\n",
       "      <td>1</td>\n",
       "      <td>0</td>\n",
       "      <td>0</td>\n",
       "    </tr>\n",
       "    <tr>\n",
       "      <th>...</th>\n",
       "      <td>...</td>\n",
       "      <td>...</td>\n",
       "      <td>...</td>\n",
       "      <td>...</td>\n",
       "      <td>...</td>\n",
       "      <td>...</td>\n",
       "    </tr>\n",
       "    <tr>\n",
       "      <th>195</th>\n",
       "      <td>86</td>\n",
       "      <td>84</td>\n",
       "      <td>82</td>\n",
       "      <td>0</td>\n",
       "      <td>1</td>\n",
       "      <td>0</td>\n",
       "    </tr>\n",
       "    <tr>\n",
       "      <th>196</th>\n",
       "      <td>59</td>\n",
       "      <td>52</td>\n",
       "      <td>30</td>\n",
       "      <td>0</td>\n",
       "      <td>1</td>\n",
       "      <td>1</td>\n",
       "    </tr>\n",
       "    <tr>\n",
       "      <th>197</th>\n",
       "      <td>63</td>\n",
       "      <td>29</td>\n",
       "      <td>61</td>\n",
       "      <td>1</td>\n",
       "      <td>0</td>\n",
       "      <td>0</td>\n",
       "    </tr>\n",
       "    <tr>\n",
       "      <th>198</th>\n",
       "      <td>67</td>\n",
       "      <td>80</td>\n",
       "      <td>9</td>\n",
       "      <td>0</td>\n",
       "      <td>1</td>\n",
       "      <td>1</td>\n",
       "    </tr>\n",
       "    <tr>\n",
       "      <th>199</th>\n",
       "      <td>72</td>\n",
       "      <td>69</td>\n",
       "      <td>92</td>\n",
       "      <td>0</td>\n",
       "      <td>1</td>\n",
       "      <td>0</td>\n",
       "    </tr>\n",
       "  </tbody>\n",
       "</table>\n",
       "<p>200 rows × 6 columns</p>\n",
       "</div>"
      ],
      "text/plain": [
       "     Age  Income(K)  CPI  Female  Male  KM_label\n",
       "0     74         38   81       1     0         0\n",
       "1     51         71   91       1     0         0\n",
       "2     30         65   10       1     0         1\n",
       "3     88         49   17       1     0         1\n",
       "4     55         48   70       1     0         0\n",
       "..   ...        ...  ...     ...   ...       ...\n",
       "195   86         84   82       0     1         0\n",
       "196   59         52   30       0     1         1\n",
       "197   63         29   61       1     0         0\n",
       "198   67         80    9       0     1         1\n",
       "199   72         69   92       0     1         0\n",
       "\n",
       "[200 rows x 6 columns]"
      ]
     },
     "execution_count": 52,
     "metadata": {},
     "output_type": "execute_result"
    }
   ],
   "source": [
    "df[\"KM_label\"] = clu.labels_\n",
    "df"
   ]
  },
  {
   "cell_type": "code",
   "execution_count": 53,
   "metadata": {},
   "outputs": [
    {
     "data": {
      "text/plain": [
       "<Axes: >"
      ]
     },
     "execution_count": 53,
     "metadata": {},
     "output_type": "execute_result"
    },
    {
     "data": {
      "image/png": "[encoded data removed]",
      "text/plain": [
       "<Figure size 1200x1200 with 2 Axes>"
      ]
     },
     "metadata": {},
     "output_type": "display_data"
    }
   ],
   "source": [
    "import matplotlib.pyplot as plt\n",
    "import seaborn as sns\n",
    "%matplotlib inline\n",
    "\n",
    "df.corr()\n",
    "# 找出相關係數\n",
    "\n",
    "plt.figure(figsize=(12,12))\n",
    "sns.heatmap(df.corr(), cmap=\"RdBu\", annot=True)\n",
    "# 熱度圖"
   ]
  },
  {
   "cell_type": "code",
   "execution_count": 54,
   "metadata": {},
   "outputs": [
    {
     "name": "stdout",
     "output_type": "stream",
     "text": [
      "群組數量:2,評分:111.70277006038481\n",
      "群組數量:3,評分:96.51635907337074\n",
      "群組數量:4,評分:86.66883854705407\n",
      "群組數量:5,評分:85.71972791277202\n",
      "群組數量:6,評分:90.1957327587255\n",
      "群組數量:7,評分:97.18896030829163\n",
      "群組數量:8,評分:100.8112789531854\n",
      "群組數量:9,評分:96.05732437160906\n",
      "群組數量:10,評分:93.60906496819332\n",
      "群組數量:11,評分:92.30073093043957\n",
      "群組數量:12,評分:86.28208268398132\n",
      "群組數量:13,評分:89.95885257161858\n",
      "群組數量:14,評分:80.76371706404936\n",
      "群組數量:15,評分:83.48761222610112\n"
     ]
    }
   ],
   "source": [
    "# KMeans 自我評估效果\n",
    "from sklearn.metrics import calinski_harabasz_score\n",
    "\n",
    "\n",
    "for k in range(2,16):\n",
    "    clu = KMeans(n_clusters=k, n_init=\"auto\")\n",
    "    clu.fit(df)\n",
    "    score = calinski_harabasz_score(df, clu.labels_)\n",
    "    print(f\"群組數量:{k},評分:{score}\")\n",
    "\n",
    "# 得知 分2群 時，分數最高\n",
    "# 再考量 分2群 時，能否達成資料分析的目的"
   ]
  },
  {
   "attachments": {},
   "cell_type": "markdown",
   "metadata": {},
   "source": [
    "K近鄰演算法"
   ]
  },
  {
   "cell_type": "code",
   "execution_count": 62,
   "metadata": {},
   "outputs": [],
   "source": [
    "from sklearn.neighbors import KNeighborsClassifier\n",
    "from sklearn.model_selection import train_test_split\n",
    "import numpy as np\n",
    "import matplotlib.pyplot as plt\n",
    "%matplotlib inline\n",
    "\n",
    "\n",
    "data = []\n",
    "for i in range(10):\n",
    "    for j in range(1,501):\n",
    "        data.append(plt.imread(\"D:/Learn/Machine_Learn/Yt_tearice_mnist500/mnist500/%d/%d_%d.bmp\" %(i, i, j)))\n",
    "# 將Yt_tearice_mnist500資料夾中的所有圖片，增加到 data list中"
   ]
  },
  {
   "cell_type": "code",
   "execution_count": 63,
   "metadata": {},
   "outputs": [
    {
     "data": {
      "text/plain": [
       "5000"
      ]
     },
     "execution_count": 63,
     "metadata": {},
     "output_type": "execute_result"
    }
   ],
   "source": [
    "len(data)\n",
    "# 確認使否讀取到5000張圖片"
   ]
  },
  {
   "cell_type": "code",
   "execution_count": 74,
   "metadata": {},
   "outputs": [],
   "source": [
    "xarray = np.array(data)\n",
    "# 轉array"
   ]
  },
  {
   "cell_type": "code",
   "execution_count": 75,
   "metadata": {},
   "outputs": [
    {
     "data": {
      "text/plain": [
       "<matplotlib.image.AxesImage at 0x29352e03590>"
      ]
     },
     "execution_count": 75,
     "metadata": {},
     "output_type": "execute_result"
    },
    {
     "data": {
      "image/png": "[encoded data removed]",
      "text/plain": [
       "<Figure size 640x480 with 1 Axes>"
      ]
     },
     "metadata": {},
     "output_type": "display_data"
    }
   ],
   "source": [
    "plt.axis(\"off\")\n",
    "# 不顯示xy軸座標\n",
    "\n",
    "plt.imshow(x[0], cmap=\"gray\")\n",
    "# 讀取圖片確認一下"
   ]
  },
  {
   "cell_type": "code",
   "execution_count": 78,
   "metadata": {},
   "outputs": [],
   "source": [
    "y = [0, 1, 2, 3, 4, 5, 6, 7, 8, 9] * 500\n",
    "# 因上 x 中 有 500張0的圖片 500張1的圖片\n",
    "# 製作 y 答案集\n",
    "\n",
    "y.sort()\n",
    "# 500 0 500 1 照訓序排列\n",
    "\n",
    "yarray = np.array(y)\n",
    "# 轉array\n",
    "\n",
    "# 現已有 xarray 資料集 & yarray 答案集"
   ]
  },
  {
   "cell_type": "code",
   "execution_count": 81,
   "metadata": {},
   "outputs": [
    {
     "name": "stdout",
     "output_type": "stream",
     "text": [
      "(4000, 28, 28, 3)\n",
      "(1000, 28, 28, 3)\n",
      "(4000,)\n",
      "(1000,)\n"
     ]
    }
   ],
   "source": [
    "from sklearn.model_selection import train_test_split\n",
    "\n",
    "x_train, x_test, y_train, y_test = train_test_split(xarray, yarray, test_size=0.2)\n",
    "\n",
    "print(x_train.shape)\n",
    "# 4000張 28*28像素 RGB圖片\n",
    "print(x_test.shape)\n",
    "print(y_train.shape)\n",
    "print(y_test.shape)"
   ]
  },
  {
   "cell_type": "code",
   "execution_count": 82,
   "metadata": {},
   "outputs": [],
   "source": [
    "from sklearn.neighbors import KNeighborsClassifier\n",
    "\n",
    "\n",
    "nei = KNeighborsClassifier(n_neighbors=5)\n",
    "# n_neighbors 分幾群\n",
    "# algorithm 使用何種演算法default auto 通常也使用auto\n",
    "# weight 權重 : uniform 權重相同default / distance 資料與樣本越近權重越大 / 自定義"
   ]
  },
  {
   "cell_type": "code",
   "execution_count": 85,
   "metadata": {},
   "outputs": [
    {
     "data": {
      "text/plain": [
       "array([6, 3, 6, 7, 1, 3, 4, 9, 5, 1, 3, 8, 5, 0, 6, 9, 6, 4, 9, 0, 7, 7,\n",
       "       4, 7, 6, 4, 0, 4, 4, 0, 4, 2, 7, 1, 4, 2, 3, 5, 3, 9, 4, 4, 2, 8,\n",
       "       3, 0, 2, 1, 2, 3, 8, 1, 8, 3, 6, 7, 1, 5, 2, 4, 7, 6, 8, 8, 3, 2,\n",
       "       6, 6, 4, 1, 3, 0, 4, 1, 9, 2, 0, 6, 1, 9, 2, 5, 4, 7, 2, 7, 2, 8,\n",
       "       5, 9, 4, 7, 2, 3, 8, 6, 8, 9, 5, 0, 4, 0, 6, 8, 6, 1, 6, 4, 5, 5,\n",
       "       5, 8, 0, 9, 9, 2, 5, 0, 9, 1, 3, 1, 3, 1, 0, 1, 6, 5, 7, 4, 9, 6,\n",
       "       4, 3, 0, 3, 1, 3, 7, 8, 6, 9, 1, 0, 5, 4, 2, 8, 4, 5, 6, 9, 6, 9,\n",
       "       4, 9, 3, 9, 8, 8, 1, 7, 9, 6, 5, 8, 7, 5, 8, 9, 6, 3, 6, 3, 2, 4,\n",
       "       9, 4, 0, 0, 4, 0, 1, 8, 7, 0, 7, 4, 7, 5, 1, 3, 6, 5, 8, 1, 2, 8,\n",
       "       4, 2, 3, 0, 4, 7, 2, 1, 0, 2, 1, 0, 6, 1, 6, 9, 0, 1, 1, 5, 5, 6,\n",
       "       1, 6, 1, 6, 2, 0, 8, 0, 4, 7, 4, 8, 1, 6, 1, 8, 2, 3, 5, 0, 4, 1,\n",
       "       3, 2, 2, 6, 2, 5, 5, 1, 7, 6, 9, 6, 1, 9, 4, 2, 3, 2, 9, 2, 0, 1,\n",
       "       8, 6, 8, 1, 8, 8, 2, 5, 6, 9, 0, 5, 7, 2, 6, 8, 6, 5, 8, 6, 0, 6,\n",
       "       3, 2, 5, 0, 0, 4, 9, 5, 0, 3, 6, 1, 4, 3, 3, 0, 9, 0, 5, 7, 9, 9,\n",
       "       8, 1, 4, 4, 4, 6, 4, 4, 4, 6, 8, 6, 2, 1, 3, 1, 4, 9, 8, 0, 7, 8,\n",
       "       3, 9, 0, 6, 5, 8, 7, 1, 8, 8, 7, 2, 6, 7, 6, 2, 6, 0, 4, 6, 7, 3,\n",
       "       6, 0, 0, 0, 6, 8, 3, 8, 2, 9, 8, 5, 3, 5, 2, 7, 7, 9, 0, 3, 9, 6,\n",
       "       2, 0, 1, 2, 9, 7, 7, 5, 6, 1, 4, 6, 8, 3, 0, 8, 4, 0, 2, 2, 7, 7,\n",
       "       9, 8, 8, 5, 9, 8, 0, 3, 7, 4, 6, 2, 4, 8, 5, 1, 1, 9, 2, 2, 6, 6,\n",
       "       6, 4, 4, 7, 1, 5, 3, 0, 4, 8, 5, 3, 1, 1, 0, 8, 7, 0, 4, 3, 0, 6,\n",
       "       6, 7, 0, 0, 5, 9, 5, 7, 3, 5, 2, 7, 8, 9, 3, 4, 4, 6, 4, 2, 8, 8,\n",
       "       3, 5, 6, 7, 0, 2, 9, 8, 7, 7, 1, 9, 0, 5, 5, 9, 2, 3, 8, 2, 5, 3,\n",
       "       1, 0, 1, 9, 3, 0, 0, 1, 6, 3, 8, 8, 3, 1, 5, 0, 7, 7, 8, 4, 1, 9,\n",
       "       5, 9, 8, 7, 6, 6, 1, 6, 5, 6, 9, 9, 4, 6, 9, 7, 7, 3, 7, 3, 5, 9,\n",
       "       4, 6, 3, 1, 7, 2, 4, 8, 8, 1, 2, 6, 9, 1, 4, 4, 0, 6, 4, 7, 4, 3,\n",
       "       6, 6, 2, 8, 9, 5, 8, 9, 2, 6, 6, 9, 8, 3, 4, 4, 5, 1, 2, 8, 3, 1,\n",
       "       3, 6, 0, 8, 9, 8, 3, 9, 0, 7, 2, 1, 6, 1, 6, 6, 7, 9, 1, 0, 6, 2,\n",
       "       3, 8, 5, 1, 2, 5, 8, 1, 4, 5, 3, 0, 8, 0, 4, 3, 5, 4, 1, 6, 5, 4,\n",
       "       4, 5, 4, 1, 4, 8, 4, 9, 1, 5, 9, 2, 5, 7, 4, 0, 1, 5, 4, 3, 9, 9,\n",
       "       0, 9, 0, 5, 2, 6, 0, 9, 1, 0, 8, 2, 9, 6, 2, 5, 3, 9, 7, 9, 3, 6,\n",
       "       5, 4, 4, 4, 6, 2, 6, 2, 9, 6, 1, 7, 7, 5, 1, 6, 3, 9, 0, 4, 4, 4,\n",
       "       7, 9, 6, 7, 3, 5, 0, 1, 7, 1, 8, 4, 2, 5, 7, 0, 5, 9, 3, 9, 8, 9,\n",
       "       2, 5, 7, 6, 6, 6, 1, 8, 0, 8, 4, 8, 2, 2, 5, 8, 1, 8, 7, 0, 7, 0,\n",
       "       3, 1, 8, 8, 1, 9, 6, 7, 4, 4, 6, 4, 7, 0, 5, 9, 2, 8, 6, 3, 2, 7,\n",
       "       1, 6, 7, 2, 8, 9, 1, 1, 2, 8, 1, 8, 0, 0, 7, 2, 8, 5, 0, 2, 5, 5,\n",
       "       3, 5, 2, 5, 5, 7, 0, 0, 0, 0, 1, 3, 2, 2, 3, 9, 9, 8, 4, 7, 3, 7,\n",
       "       1, 0, 7, 0, 2, 4, 7, 3, 4, 4, 4, 0, 9, 2, 2, 0, 1, 7, 4, 7, 2, 7,\n",
       "       0, 8, 0, 3, 3, 2, 5, 0, 1, 1, 5, 1, 6, 4, 1, 3, 1, 2, 8, 1, 1, 9,\n",
       "       0, 9, 7, 7, 2, 8, 6, 0, 3, 8, 0, 9, 5, 6, 2, 1, 8, 6, 4, 1, 3, 6,\n",
       "       1, 1, 0, 6, 5, 2, 1, 7, 4, 8, 9, 4, 1, 6, 7, 2, 0, 3, 7, 6, 0, 7,\n",
       "       8, 0, 6, 8, 3, 6, 9, 5, 1, 4, 3, 1, 3, 0, 0, 5, 4, 7, 6, 1, 3, 4,\n",
       "       8, 3, 4, 4, 5, 2, 2, 8, 2, 3, 7, 5, 0, 8, 5, 8, 3, 5, 7, 1, 9, 2,\n",
       "       7, 6, 1, 5, 8, 6, 3, 3, 0, 7, 1, 0, 6, 8, 5, 8, 8, 6, 1, 2, 0, 3,\n",
       "       8, 6, 7, 4, 7, 8, 6, 2, 2, 6, 3, 4, 4, 9, 8, 8, 0, 7, 0, 3, 9, 1,\n",
       "       9, 8, 2, 7, 2, 1, 6, 1, 9, 1, 1, 5, 6, 3, 2, 9, 0, 2, 3, 1, 5, 9,\n",
       "       6, 2, 1, 8, 4, 9, 1, 5, 4, 1])"
      ]
     },
     "execution_count": 85,
     "metadata": {},
     "output_type": "execute_result"
    }
   ],
   "source": [
    "# nei.fit(x_train, y_train)\n",
    "# 錯誤，因為只能只用二維資料\n",
    "\n",
    "nei.fit(x_train.reshape(4000, -1), y_train)\n",
    "# reshape (有多少筆資料, -1自動計算降維)\n",
    "\n",
    "nei.fit(x_train.reshape(4000, -1), y_train)\n",
    "# 將資料帶入模型訓練\n",
    "\n",
    "pre = nei.predict(x_test.reshape(1000, -1))\n",
    "pre"
   ]
  },
  {
   "cell_type": "code",
   "execution_count": 86,
   "metadata": {},
   "outputs": [
    {
     "data": {
      "text/plain": [
       "0.945"
      ]
     },
     "execution_count": 86,
     "metadata": {},
     "output_type": "execute_result"
    }
   ],
   "source": [
    "from sklearn.metrics import accuracy_score\n",
    "\n",
    "\n",
    "accuracy_score(y_test, pre)\n",
    "# 計算正確率"
   ]
  },
  {
   "cell_type": "code",
   "execution_count": 87,
   "metadata": {},
   "outputs": [
    {
     "data": {
      "text/plain": [
       "['K鄰近_6000數字.pkl']"
      ]
     },
     "execution_count": 87,
     "metadata": {},
     "output_type": "execute_result"
    }
   ],
   "source": [
    "# 儲存模型\n",
    "import joblib\n",
    "joblib.dump(nei, \"Yt_tearice_K鄰近_6000數字.pkl\")"
   ]
  },
  {
   "cell_type": "code",
   "execution_count": 89,
   "metadata": {},
   "outputs": [],
   "source": [
    "# 讀取模型\n",
    "nei2 = joblib.load(\"D:\\Learn\\Machine_Learn\\Yt_tearice_K鄰近_6000數字.pkl\")"
   ]
  },
  {
   "cell_type": "code",
   "execution_count": 90,
   "metadata": {},
   "outputs": [
    {
     "data": {
      "text/plain": [
       "array([6])"
      ]
     },
     "execution_count": 90,
     "metadata": {},
     "output_type": "execute_result"
    }
   ],
   "source": [
    "# 隨便找一張圖片測試\n",
    "\n",
    "img = plt.imread(r\"D:\\Learn\\Machine_Learn\\Yt_tearice_mnist500\\mnist500\\6\\6_7.bmp\")\n",
    "# 讀取圖片\n",
    "\n",
    "imgpre = nei2.predict(img.reshape(1, -1))\n",
    "# 預測 reshape(一張圖, -1自動降維計算)\n",
    "\n",
    "imgpre\n",
    "# array([6])   <- 預測正確"
   ]
  },
  {
   "cell_type": "code",
   "execution_count": 94,
   "metadata": {},
   "outputs": [
    {
     "data": {
      "text/html": [
       "<style>#sk-container-id-6 {color: black;background-color: white;}#sk-container-id-6 pre{padding: 0;}#sk-container-id-6 div.sk-toggleable {background-color: white;}#sk-container-id-6 label.sk-toggleable__label {cursor: pointer;display: block;width: 100%;margin-bottom: 0;padding: 0.3em;box-sizing: border-box;text-align: center;}#sk-container-id-6 label.sk-toggleable__label-arrow:before {content: \"▸\";float: left;margin-right: 0.25em;color: #696969;}#sk-container-id-6 label.sk-toggleable__label-arrow:hover:before {color: black;}#sk-container-id-6 div.sk-estimator:hover label.sk-toggleable__label-arrow:before {color: black;}#sk-container-id-6 div.sk-toggleable__content {max-height: 0;max-width: 0;overflow: hidden;text-align: left;background-color: #f0f8ff;}#sk-container-id-6 div.sk-toggleable__content pre {margin: 0.2em;color: black;border-radius: 0.25em;background-color: #f0f8ff;}#sk-container-id-6 input.sk-toggleable__control:checked~div.sk-toggleable__content {max-height: 200px;max-width: 100%;overflow: auto;}#sk-container-id-6 input.sk-toggleable__control:checked~label.sk-toggleable__label-arrow:before {content: \"▾\";}#sk-container-id-6 div.sk-estimator input.sk-toggleable__control:checked~label.sk-toggleable__label {background-color: #d4ebff;}#sk-container-id-6 div.sk-label input.sk-toggleable__control:checked~label.sk-toggleable__label {background-color: #d4ebff;}#sk-container-id-6 input.sk-hidden--visually {border: 0;clip: rect(1px 1px 1px 1px);clip: rect(1px, 1px, 1px, 1px);height: 1px;margin: -1px;overflow: hidden;padding: 0;position: absolute;width: 1px;}#sk-container-id-6 div.sk-estimator {font-family: monospace;background-color: #f0f8ff;border: 1px dotted black;border-radius: 0.25em;box-sizing: border-box;margin-bottom: 0.5em;}#sk-container-id-6 div.sk-estimator:hover {background-color: #d4ebff;}#sk-container-id-6 div.sk-parallel-item::after {content: \"\";width: 100%;border-bottom: 1px solid gray;flex-grow: 1;}#sk-container-id-6 div.sk-label:hover label.sk-toggleable__label {background-color: #d4ebff;}#sk-container-id-6 div.sk-serial::before {content: \"\";position: absolute;border-left: 1px solid gray;box-sizing: border-box;top: 0;bottom: 0;left: 50%;z-index: 0;}#sk-container-id-6 div.sk-serial {display: flex;flex-direction: column;align-items: center;background-color: white;padding-right: 0.2em;padding-left: 0.2em;position: relative;}#sk-container-id-6 div.sk-item {position: relative;z-index: 1;}#sk-container-id-6 div.sk-parallel {display: flex;align-items: stretch;justify-content: center;background-color: white;position: relative;}#sk-container-id-6 div.sk-item::before, #sk-container-id-6 div.sk-parallel-item::before {content: \"\";position: absolute;border-left: 1px solid gray;box-sizing: border-box;top: 0;bottom: 0;left: 50%;z-index: -1;}#sk-container-id-6 div.sk-parallel-item {display: flex;flex-direction: column;z-index: 1;position: relative;background-color: white;}#sk-container-id-6 div.sk-parallel-item:first-child::after {align-self: flex-end;width: 50%;}#sk-container-id-6 div.sk-parallel-item:last-child::after {align-self: flex-start;width: 50%;}#sk-container-id-6 div.sk-parallel-item:only-child::after {width: 0;}#sk-container-id-6 div.sk-dashed-wrapped {border: 1px dashed gray;margin: 0 0.4em 0.5em 0.4em;box-sizing: border-box;padding-bottom: 0.4em;background-color: white;}#sk-container-id-6 div.sk-label label {font-family: monospace;font-weight: bold;display: inline-block;line-height: 1.2em;}#sk-container-id-6 div.sk-label-container {text-align: center;}#sk-container-id-6 div.sk-container {/* jupyter's `normalize.less` sets `[hidden] { display: none; }` but bootstrap.min.css set `[hidden] { display: none !important; }` so we also need the `!important` here to be able to override the default hidden behavior on the sphinx rendered scikit-learn.org. See: https://github.com/scikit-learn/scikit-learn/issues/21755 */display: inline-block !important;position: relative;}#sk-container-id-6 div.sk-text-repr-fallback {display: none;}</style><div id=\"sk-container-id-6\" class=\"sk-top-container\"><div class=\"sk-text-repr-fallback\"><pre>GridSearchCV(cv=10, estimator=KNeighborsClassifier(),\n",
       "             param_grid={&#x27;algorithm&#x27;: [&#x27;auto&#x27;], &#x27;n_neighbors&#x27;: range(2, 11),\n",
       "                         &#x27;weights&#x27;: [&#x27;uniform&#x27;, &#x27;distance&#x27;]})</pre><b>In a Jupyter environment, please rerun this cell to show the HTML representation or trust the notebook. <br />On GitHub, the HTML representation is unable to render, please try loading this page with nbviewer.org.</b></div><div class=\"sk-container\" hidden><div class=\"sk-item sk-dashed-wrapped\"><div class=\"sk-label-container\"><div class=\"sk-label sk-toggleable\"><input class=\"sk-toggleable__control sk-hidden--visually\" id=\"sk-estimator-id-6\" type=\"checkbox\" ><label for=\"sk-estimator-id-6\" class=\"sk-toggleable__label sk-toggleable__label-arrow\">GridSearchCV</label><div class=\"sk-toggleable__content\"><pre>GridSearchCV(cv=10, estimator=KNeighborsClassifier(),\n",
       "             param_grid={&#x27;algorithm&#x27;: [&#x27;auto&#x27;], &#x27;n_neighbors&#x27;: range(2, 11),\n",
       "                         &#x27;weights&#x27;: [&#x27;uniform&#x27;, &#x27;distance&#x27;]})</pre></div></div></div><div class=\"sk-parallel\"><div class=\"sk-parallel-item\"><div class=\"sk-item\"><div class=\"sk-label-container\"><div class=\"sk-label sk-toggleable\"><input class=\"sk-toggleable__control sk-hidden--visually\" id=\"sk-estimator-id-7\" type=\"checkbox\" ><label for=\"sk-estimator-id-7\" class=\"sk-toggleable__label sk-toggleable__label-arrow\">estimator: KNeighborsClassifier</label><div class=\"sk-toggleable__content\"><pre>KNeighborsClassifier()</pre></div></div></div><div class=\"sk-serial\"><div class=\"sk-item\"><div class=\"sk-estimator sk-toggleable\"><input class=\"sk-toggleable__control sk-hidden--visually\" id=\"sk-estimator-id-8\" type=\"checkbox\" ><label for=\"sk-estimator-id-8\" class=\"sk-toggleable__label sk-toggleable__label-arrow\">KNeighborsClassifier</label><div class=\"sk-toggleable__content\"><pre>KNeighborsClassifier()</pre></div></div></div></div></div></div></div></div></div></div>"
      ],
      "text/plain": [
       "GridSearchCV(cv=10, estimator=KNeighborsClassifier(),\n",
       "             param_grid={'algorithm': ['auto'], 'n_neighbors': range(2, 11),\n",
       "                         'weights': ['uniform', 'distance']})"
      ]
     },
     "execution_count": 94,
     "metadata": {},
     "output_type": "execute_result"
    }
   ],
   "source": [
    "# 交叉驗證 & 網格搜索\n",
    "# 很像凡剛老師教的 : grid search\n",
    "from sklearn.model_selection import GridSearchCV\n",
    "\n",
    "nei = KNeighborsClassifier()\n",
    "# 使用 K近鄰\n",
    "\n",
    "param = {\n",
    "    \"n_neighbors\":range(2,11),\n",
    "    \"algorithm\":[\"auto\"],\n",
    "    \"weights\":[\"uniform\", \"distance\"]   \n",
    "}\n",
    "# 所有想調整的變數 與 範圍\n",
    "\n",
    "gs = GridSearchCV(nei, param, cv=10)\n",
    "# 帶入 (cv 交叉驗證切割的份數)\n",
    "\n",
    "gs.fit(x_train.reshape(4000,-1), y_train)\n",
    "# 訓練模型"
   ]
  },
  {
   "cell_type": "code",
   "execution_count": 95,
   "metadata": {},
   "outputs": [
    {
     "name": "stdout",
     "output_type": "stream",
     "text": [
      "最佳準確率: 0.9422499999999999\n",
      "最佳組合參數: {'algorithm': 'auto', 'n_neighbors': 3, 'weights': 'distance'}\n",
      "各交叉驗證準確率: {'mean_fit_time': array([0.00590029, 0.00520005, 0.00430176, 0.00470374, 0.0042006 ,\n",
      "       0.00590606, 0.00470967, 0.00459905, 0.00580106, 0.00690587,\n",
      "       0.00869832, 0.00760312, 0.00640378, 0.00550311, 0.00700202,\n",
      "       0.00620227, 0.0077981 , 0.00600402]), 'std_fit_time': array([0.00284019, 0.00302861, 0.00100643, 0.0010071 , 0.00074772,\n",
      "       0.00274334, 0.00110664, 0.00091589, 0.00235908, 0.00263199,\n",
      "       0.00517934, 0.00276267, 0.00307393, 0.00201226, 0.00286526,\n",
      "       0.00193843, 0.00360229, 0.00200978]), 'mean_score_time': array([0.21649735, 0.22839882, 0.20219736, 0.19979606, 0.21199863,\n",
      "       0.20699146, 0.21378908, 0.2535053 , 0.25589759, 0.28519406,\n",
      "       0.3406014 , 0.27069619, 0.35007081, 0.29349699, 0.3083972 ,\n",
      "       0.25760193, 0.31380234, 0.27361183]), 'std_score_time': array([0.01718242, 0.05324206, 0.00759862, 0.00865408, 0.00523459,\n",
      "       0.00806389, 0.01508351, 0.05763038, 0.02632025, 0.07880041,\n",
      "       0.08901182, 0.04178561, 0.11009257, 0.07437132, 0.05692242,\n",
      "       0.02974358, 0.06319752, 0.01621836]), 'param_algorithm': masked_array(data=['auto', 'auto', 'auto', 'auto', 'auto', 'auto', 'auto',\n",
      "                   'auto', 'auto', 'auto', 'auto', 'auto', 'auto', 'auto',\n",
      "                   'auto', 'auto', 'auto', 'auto'],\n",
      "             mask=[False, False, False, False, False, False, False, False,\n",
      "                   False, False, False, False, False, False, False, False,\n",
      "                   False, False],\n",
      "       fill_value='?',\n",
      "            dtype=object), 'param_n_neighbors': masked_array(data=[2, 2, 3, 3, 4, 4, 5, 5, 6, 6, 7, 7, 8, 8, 9, 9, 10, 10],\n",
      "             mask=[False, False, False, False, False, False, False, False,\n",
      "                   False, False, False, False, False, False, False, False,\n",
      "                   False, False],\n",
      "       fill_value='?',\n",
      "            dtype=object), 'param_weights': masked_array(data=['uniform', 'distance', 'uniform', 'distance',\n",
      "                   'uniform', 'distance', 'uniform', 'distance',\n",
      "                   'uniform', 'distance', 'uniform', 'distance',\n",
      "                   'uniform', 'distance', 'uniform', 'distance',\n",
      "                   'uniform', 'distance'],\n",
      "             mask=[False, False, False, False, False, False, False, False,\n",
      "                   False, False, False, False, False, False, False, False,\n",
      "                   False, False],\n",
      "       fill_value='?',\n",
      "            dtype=object), 'params': [{'algorithm': 'auto', 'n_neighbors': 2, 'weights': 'uniform'}, {'algorithm': 'auto', 'n_neighbors': 2, 'weights': 'distance'}, {'algorithm': 'auto', 'n_neighbors': 3, 'weights': 'uniform'}, {'algorithm': 'auto', 'n_neighbors': 3, 'weights': 'distance'}, {'algorithm': 'auto', 'n_neighbors': 4, 'weights': 'uniform'}, {'algorithm': 'auto', 'n_neighbors': 4, 'weights': 'distance'}, {'algorithm': 'auto', 'n_neighbors': 5, 'weights': 'uniform'}, {'algorithm': 'auto', 'n_neighbors': 5, 'weights': 'distance'}, {'algorithm': 'auto', 'n_neighbors': 6, 'weights': 'uniform'}, {'algorithm': 'auto', 'n_neighbors': 6, 'weights': 'distance'}, {'algorithm': 'auto', 'n_neighbors': 7, 'weights': 'uniform'}, {'algorithm': 'auto', 'n_neighbors': 7, 'weights': 'distance'}, {'algorithm': 'auto', 'n_neighbors': 8, 'weights': 'uniform'}, {'algorithm': 'auto', 'n_neighbors': 8, 'weights': 'distance'}, {'algorithm': 'auto', 'n_neighbors': 9, 'weights': 'uniform'}, {'algorithm': 'auto', 'n_neighbors': 9, 'weights': 'distance'}, {'algorithm': 'auto', 'n_neighbors': 10, 'weights': 'uniform'}, {'algorithm': 'auto', 'n_neighbors': 10, 'weights': 'distance'}], 'split0_test_score': array([0.94  , 0.95  , 0.9525, 0.9525, 0.95  , 0.9525, 0.94  , 0.9425,\n",
      "       0.94  , 0.9425, 0.9425, 0.9425, 0.9325, 0.9375, 0.9325, 0.935 ,\n",
      "       0.935 , 0.94  ]), 'split1_test_score': array([0.9025, 0.91  , 0.9275, 0.925 , 0.915 , 0.9225, 0.92  , 0.925 ,\n",
      "       0.9175, 0.9225, 0.9175, 0.92  , 0.915 , 0.9175, 0.9075, 0.91  ,\n",
      "       0.905 , 0.9125]), 'split2_test_score': array([0.9325, 0.95  , 0.9375, 0.9475, 0.9375, 0.9475, 0.9375, 0.9525,\n",
      "       0.9375, 0.945 , 0.9325, 0.95  , 0.935 , 0.94  , 0.93  , 0.9375,\n",
      "       0.9275, 0.9325]), 'split3_test_score': array([0.93  , 0.9475, 0.9475, 0.945 , 0.9425, 0.95  , 0.945 , 0.945 ,\n",
      "       0.9375, 0.9475, 0.945 , 0.9425, 0.935 , 0.9425, 0.935 , 0.94  ,\n",
      "       0.935 , 0.9425]), 'split4_test_score': array([0.9225, 0.9475, 0.9375, 0.9425, 0.93  , 0.945 , 0.9375, 0.9425,\n",
      "       0.9375, 0.95  , 0.9375, 0.9425, 0.9425, 0.945 , 0.9475, 0.9475,\n",
      "       0.9475, 0.9475]), 'split5_test_score': array([0.9375, 0.94  , 0.9475, 0.9525, 0.9475, 0.95  , 0.94  , 0.9425,\n",
      "       0.9425, 0.945 , 0.935 , 0.935 , 0.9375, 0.9375, 0.935 , 0.9375,\n",
      "       0.935 , 0.935 ]), 'split6_test_score': array([0.925 , 0.9475, 0.9275, 0.935 , 0.9275, 0.935 , 0.9175, 0.9325,\n",
      "       0.925 , 0.94  , 0.9275, 0.9375, 0.935 , 0.9375, 0.925 , 0.9325,\n",
      "       0.94  , 0.9425]), 'split7_test_score': array([0.955 , 0.9525, 0.955 , 0.95  , 0.955 , 0.9475, 0.9475, 0.945 ,\n",
      "       0.9575, 0.95  , 0.945 , 0.945 , 0.9475, 0.945 , 0.93  , 0.93  ,\n",
      "       0.9275, 0.94  ]), 'split8_test_score': array([0.9175, 0.93  , 0.925 , 0.9325, 0.9225, 0.9225, 0.93  , 0.9225,\n",
      "       0.93  , 0.93  , 0.93  , 0.9325, 0.9225, 0.93  , 0.93  , 0.9275,\n",
      "       0.92  , 0.92  ]), 'split9_test_score': array([0.9275, 0.9425, 0.925 , 0.94  , 0.925 , 0.935 , 0.9225, 0.9225,\n",
      "       0.925 , 0.93  , 0.92  , 0.9175, 0.91  , 0.9125, 0.9125, 0.9125,\n",
      "       0.915 , 0.915 ]), 'mean_test_score': array([0.929  , 0.94175, 0.93825, 0.94225, 0.93525, 0.94075, 0.93375,\n",
      "       0.93725, 0.935  , 0.94025, 0.93325, 0.9365 , 0.93125, 0.9345 ,\n",
      "       0.9285 , 0.931  , 0.92875, 0.93275]), 'std_test_score': array([0.01333229, 0.01225   , 0.01112711, 0.00869267, 0.01257229,\n",
      "       0.01072672, 0.01007782, 0.01021335, 0.01066536, 0.00904503,\n",
      "       0.00922293, 0.01007472, 0.01125   , 0.01065364, 0.01085127,\n",
      "       0.01119151, 0.01195042, 0.01185591]), 'rank_test_score': array([16,  2,  5,  1,  8,  3, 11,  6,  9,  4, 12,  7, 14, 10, 18, 15, 17,\n",
      "       13])}\n"
     ]
    }
   ],
   "source": [
    "# GridSearchCV 變數   文件(https://scikit-learn.org/stable/modules/generated/sklearn.model_selection.GridSearchCV.html)\n",
    "# best_score_   交叉驗證中，最佳準確率\n",
    "# best_params_  最佳組合參數\n",
    "# cv_results_   每次交叉驗證的準確率\n",
    "\n",
    "print(\"最佳準確率:\", gs.best_score_)\n",
    "print(\"最佳組合參數:\", gs.best_params_)\n",
    "print(\"各交叉驗證準確率:\", gs.cv_results_)"
   ]
  },
  {
   "attachments": {},
   "cell_type": "markdown",
   "metadata": {},
   "source": [
    "單純貝氏"
   ]
  },
  {
   "cell_type": "code",
   "execution_count": 97,
   "metadata": {},
   "outputs": [
    {
     "data": {
      "text/plain": [
       "<2x9 sparse matrix of type '<class 'numpy.int64'>'\n",
       "\twith 13 stored elements in Compressed Sparse Row format>"
      ]
     },
     "execution_count": 97,
     "metadata": {},
     "output_type": "execute_result"
    }
   ],
   "source": [
    "# 英文文句特徵處理\n",
    "from sklearn.feature_extraction.text import CountVectorizer\n",
    "\n",
    "\n",
    "eng = CountVectorizer()\n",
    "# 使用模組: CountVectorizer\n",
    "\n",
    "data = eng.fit_transform([\"code is easy, I like python code.\", \"code is too hard, I did not like python code.\"])\n",
    "# 訓練"
   ]
  },
  {
   "cell_type": "code",
   "execution_count": 101,
   "metadata": {},
   "outputs": [
    {
     "data": {
      "text/plain": [
       "array([[2, 0, 1, 0, 1, 1, 0, 1, 0],\n",
       "       [2, 1, 0, 1, 1, 1, 1, 1, 1]], dtype=int64)"
      ]
     },
     "execution_count": 101,
     "metadata": {},
     "output_type": "execute_result"
    }
   ],
   "source": [
    "data.toarray()\n",
    "# 轉array\n",
    "\n",
    "eng.get_feature_names_out()\n",
    "# 找出特徵"
   ]
  },
  {
   "cell_type": "code",
   "execution_count": 103,
   "metadata": {},
   "outputs": [
    {
     "data": {
      "text/html": [
       "<div>\n",
       "<style scoped>\n",
       "    .dataframe tbody tr th:only-of-type {\n",
       "        vertical-align: middle;\n",
       "    }\n",
       "\n",
       "    .dataframe tbody tr th {\n",
       "        vertical-align: top;\n",
       "    }\n",
       "\n",
       "    .dataframe thead th {\n",
       "        text-align: right;\n",
       "    }\n",
       "</style>\n",
       "<table border=\"1\" class=\"dataframe\">\n",
       "  <thead>\n",
       "    <tr style=\"text-align: right;\">\n",
       "      <th></th>\n",
       "      <th>code</th>\n",
       "      <th>did</th>\n",
       "      <th>easy</th>\n",
       "      <th>hard</th>\n",
       "      <th>is</th>\n",
       "      <th>like</th>\n",
       "      <th>not</th>\n",
       "      <th>python</th>\n",
       "      <th>too</th>\n",
       "    </tr>\n",
       "  </thead>\n",
       "  <tbody>\n",
       "    <tr>\n",
       "      <th>0</th>\n",
       "      <td>2</td>\n",
       "      <td>0</td>\n",
       "      <td>1</td>\n",
       "      <td>0</td>\n",
       "      <td>1</td>\n",
       "      <td>1</td>\n",
       "      <td>0</td>\n",
       "      <td>1</td>\n",
       "      <td>0</td>\n",
       "    </tr>\n",
       "    <tr>\n",
       "      <th>1</th>\n",
       "      <td>2</td>\n",
       "      <td>1</td>\n",
       "      <td>0</td>\n",
       "      <td>1</td>\n",
       "      <td>1</td>\n",
       "      <td>1</td>\n",
       "      <td>1</td>\n",
       "      <td>1</td>\n",
       "      <td>1</td>\n",
       "    </tr>\n",
       "  </tbody>\n",
       "</table>\n",
       "</div>"
      ],
      "text/plain": [
       "   code  did  easy  hard  is  like  not  python  too\n",
       "0     2    0     1     0   1     1    0       1    0\n",
       "1     2    1     0     1   1     1    1       1    1"
      ]
     },
     "execution_count": 103,
     "metadata": {},
     "output_type": "execute_result"
    }
   ],
   "source": [
    "import pandas as pd\n",
    "\n",
    "\n",
    "pd.DataFrame(data.toarray(), columns=eng.get_feature_names_out())\n",
    "# 第一句 : code *2 / did *0 / easy *1 ....\n",
    "# 第二句 : code *2 / did *1 / easy *0 ...."
   ]
  },
  {
   "cell_type": "code",
   "execution_count": 105,
   "metadata": {},
   "outputs": [
    {
     "data": {
      "text/html": [
       "<div>\n",
       "<style scoped>\n",
       "    .dataframe tbody tr th:only-of-type {\n",
       "        vertical-align: middle;\n",
       "    }\n",
       "\n",
       "    .dataframe tbody tr th {\n",
       "        vertical-align: top;\n",
       "    }\n",
       "\n",
       "    .dataframe thead th {\n",
       "        text-align: right;\n",
       "    }\n",
       "</style>\n",
       "<table border=\"1\" class=\"dataframe\">\n",
       "  <thead>\n",
       "    <tr style=\"text-align: right;\">\n",
       "      <th></th>\n",
       "      <th>code</th>\n",
       "      <th>did</th>\n",
       "      <th>easy</th>\n",
       "      <th>hard</th>\n",
       "      <th>is</th>\n",
       "      <th>like</th>\n",
       "      <th>not</th>\n",
       "      <th>python</th>\n",
       "      <th>too</th>\n",
       "    </tr>\n",
       "  </thead>\n",
       "  <tbody>\n",
       "    <tr>\n",
       "      <th>0</th>\n",
       "      <td>0.667582</td>\n",
       "      <td>0.000000</td>\n",
       "      <td>0.469132</td>\n",
       "      <td>0.000000</td>\n",
       "      <td>0.333791</td>\n",
       "      <td>0.333791</td>\n",
       "      <td>0.000000</td>\n",
       "      <td>0.333791</td>\n",
       "      <td>0.000000</td>\n",
       "    </tr>\n",
       "    <tr>\n",
       "      <th>1</th>\n",
       "      <td>0.518105</td>\n",
       "      <td>0.364089</td>\n",
       "      <td>0.000000</td>\n",
       "      <td>0.364089</td>\n",
       "      <td>0.259052</td>\n",
       "      <td>0.259052</td>\n",
       "      <td>0.364089</td>\n",
       "      <td>0.259052</td>\n",
       "      <td>0.364089</td>\n",
       "    </tr>\n",
       "  </tbody>\n",
       "</table>\n",
       "</div>"
      ],
      "text/plain": [
       "       code       did      easy      hard        is      like       not  \\\n",
       "0  0.667582  0.000000  0.469132  0.000000  0.333791  0.333791  0.000000   \n",
       "1  0.518105  0.364089  0.000000  0.364089  0.259052  0.259052  0.364089   \n",
       "\n",
       "     python       too  \n",
       "0  0.333791  0.000000  \n",
       "1  0.259052  0.364089  "
      ]
     },
     "execution_count": 105,
     "metadata": {},
     "output_type": "execute_result"
    }
   ],
   "source": [
    "# tf-idf \n",
    "# tf   一篇文章中，某單詞出現頻率越高，重要性越高\n",
    "# idf  多篇文章中，某單詞出現頻率越高，重要性越低\n",
    "from sklearn.feature_extraction.text import TfidfVectorizer\n",
    "\n",
    "eng = TfidfVectorizer()\n",
    "# 使用模組TfidfVectorizer\n",
    "\n",
    "data = eng.fit_transform([\"code is easy, I like python code.\", \"code is too hard, I did not like python code.\"])\n",
    "# 帶入資料\n",
    "\n",
    "data.toarray()\n",
    "# 轉array\n",
    "\n",
    "pd.DataFrame(data.toarray(), columns=eng.get_feature_names_out())\n",
    "# 檢視各個詞的重要性分數"
   ]
  },
  {
   "cell_type": "code",
   "execution_count": null,
   "metadata": {},
   "outputs": [],
   "source": [
    "# 判斷英文新聞類別 (資料集失效)\n",
    "\"\"\"\n",
    "    from sklearn.datasets import fetch_20newsgroups\n",
    "    # 資料集 1.8W news 20類別\n",
    "    from sklearn.model_selection import train_test_split\n",
    "    from sklearn.feature_extraction.text import TfidfVectorizer\n",
    "    from sklearn.naive_bayes import MultinomialNB\n",
    "    from sklearn.metrics import accuracy_score\n",
    "\n",
    "    news = fetch_20newsgroups(subset=\"train\")\n",
    "    # 讀取新聞\n",
    "\n",
    "    x_train, x_test, y_train, y_test = train_test_split(news.data, news.target, test_size=0.2)\n",
    "\n",
    "    tf = TfidfVectorizer()\n",
    "\n",
    "    x_train = tf.fit_transform(x_train)\n",
    "\n",
    "    mlt = MultinomialNB(alpha=1)\n",
    "    mlt.fit(x_train, y_train)\n",
    "\n",
    "    score = mlt.accuracy_score(x_test, y_test)\n",
    "    score\n",
    "\"\"\""
   ]
  },
  {
   "attachments": {},
   "cell_type": "markdown",
   "metadata": {},
   "source": [
    "回歸練習 (波士頓房價)  \n",
    "思路  \n",
    "1. 引入資料集  \n",
    "2. 將資料分組 (實驗組 & 對照組)  \n",
    "3. 做成決策樹 & 訓練模型\n",
    "4. 繪出決策樹\n",
    "5. 帶入對照組資料，預測\n",
    "6. 正確率 (R2_score)\n",
    "7. 剖析正確率 (混淆矩陣)"
   ]
  },
  {
   "cell_type": "code",
   "execution_count": 121,
   "metadata": {},
   "outputs": [],
   "source": [
    "\n",
    "df = pd.read_csv(r\"D:\\Learn\\Machine_Learn\\Yt_tearice_housePrice.csv\", encoding=\"utf-8\")\n",
    "# 資料 & 答案 df\n"
   ]
  }
 ],
 "metadata": {
  "kernelspec": {
   "display_name": "Python 3",
   "language": "python",
   "name": "python3"
  },
  "language_info": {
   "codemirror_mode": {
    "name": "ipython",
    "version": 3
   },
   "file_extension": ".py",
   "mimetype": "text/x-python",
   "name": "python",
   "nbconvert_exporter": "python",
   "pygments_lexer": "ipython3",
   "version": "3.11.1"
  },
  "orig_nbformat": 4
 },
 "nbformat": 4,
 "nbformat_minor": 2
}
