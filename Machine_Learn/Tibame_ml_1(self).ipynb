{
 "cells": [
  {
   "attachments": {},
   "cell_type": "markdown",
   "metadata": {},
   "source": [
    "sklearn 案例1 Iris分類 (Classification)"
   ]
  },
  {
   "cell_type": "code",
   "execution_count": 1,
   "metadata": {},
   "outputs": [],
   "source": [
    "# style2paints   # 線稿自動上色\n",
    "# stargan        # 輸入普通照片，可以產出喜路哀樂等等表情的照片\n",
    "# edge cat"
   ]
  },
  {
   "cell_type": "code",
   "execution_count": 2,
   "metadata": {},
   "outputs": [],
   "source": [
    "import pandas as pd\n",
    "import sklearn"
   ]
  },
  {
   "cell_type": "code",
   "execution_count": 3,
   "metadata": {},
   "outputs": [],
   "source": [
    "# 機器學習 / 深度學習\n",
    "# step1 : 準備資料 <- 不需要自己篩選資料相關性\n",
    "#         1. 有答案 : 監督式學習\n",
    "#         2. 沒有答案 : 非監督式學習\n",
    "#         3. 自動車等等 : 半監控式學習\n",
    "# step2 : 建立 & 訓練模型\n",
    "# step3 : 利用模型預測 -> 監督式，非監督式，強化學習"
   ]
  },
  {
   "cell_type": "code",
   "execution_count": 4,
   "metadata": {},
   "outputs": [],
   "source": [
    "# graphviz   # 先安裝graphviz軟體了\n",
    "from sklearn.datasets import load_iris\n",
    "iris = load_iris()\n"
   ]
  },
  {
   "cell_type": "code",
   "execution_count": 5,
   "metadata": {},
   "outputs": [
    {
     "data": {
      "text/html": [
       "<div>\n",
       "<style scoped>\n",
       "    .dataframe tbody tr th:only-of-type {\n",
       "        vertical-align: middle;\n",
       "    }\n",
       "\n",
       "    .dataframe tbody tr th {\n",
       "        vertical-align: top;\n",
       "    }\n",
       "\n",
       "    .dataframe thead th {\n",
       "        text-align: right;\n",
       "    }\n",
       "</style>\n",
       "<table border=\"1\" class=\"dataframe\">\n",
       "  <thead>\n",
       "    <tr style=\"text-align: right;\">\n",
       "      <th></th>\n",
       "      <th>sepal length (cm)</th>\n",
       "      <th>sepal width (cm)</th>\n",
       "      <th>petal length (cm)</th>\n",
       "      <th>petal width (cm)</th>\n",
       "      <th>target</th>\n",
       "    </tr>\n",
       "  </thead>\n",
       "  <tbody>\n",
       "    <tr>\n",
       "      <th>0</th>\n",
       "      <td>5.1</td>\n",
       "      <td>3.5</td>\n",
       "      <td>1.4</td>\n",
       "      <td>0.2</td>\n",
       "      <td>0</td>\n",
       "    </tr>\n",
       "    <tr>\n",
       "      <th>1</th>\n",
       "      <td>4.9</td>\n",
       "      <td>3.0</td>\n",
       "      <td>1.4</td>\n",
       "      <td>0.2</td>\n",
       "      <td>0</td>\n",
       "    </tr>\n",
       "    <tr>\n",
       "      <th>2</th>\n",
       "      <td>4.7</td>\n",
       "      <td>3.2</td>\n",
       "      <td>1.3</td>\n",
       "      <td>0.2</td>\n",
       "      <td>0</td>\n",
       "    </tr>\n",
       "    <tr>\n",
       "      <th>3</th>\n",
       "      <td>4.6</td>\n",
       "      <td>3.1</td>\n",
       "      <td>1.5</td>\n",
       "      <td>0.2</td>\n",
       "      <td>0</td>\n",
       "    </tr>\n",
       "    <tr>\n",
       "      <th>4</th>\n",
       "      <td>5.0</td>\n",
       "      <td>3.6</td>\n",
       "      <td>1.4</td>\n",
       "      <td>0.2</td>\n",
       "      <td>0</td>\n",
       "    </tr>\n",
       "    <tr>\n",
       "      <th>...</th>\n",
       "      <td>...</td>\n",
       "      <td>...</td>\n",
       "      <td>...</td>\n",
       "      <td>...</td>\n",
       "      <td>...</td>\n",
       "    </tr>\n",
       "    <tr>\n",
       "      <th>145</th>\n",
       "      <td>6.7</td>\n",
       "      <td>3.0</td>\n",
       "      <td>5.2</td>\n",
       "      <td>2.3</td>\n",
       "      <td>2</td>\n",
       "    </tr>\n",
       "    <tr>\n",
       "      <th>146</th>\n",
       "      <td>6.3</td>\n",
       "      <td>2.5</td>\n",
       "      <td>5.0</td>\n",
       "      <td>1.9</td>\n",
       "      <td>2</td>\n",
       "    </tr>\n",
       "    <tr>\n",
       "      <th>147</th>\n",
       "      <td>6.5</td>\n",
       "      <td>3.0</td>\n",
       "      <td>5.2</td>\n",
       "      <td>2.0</td>\n",
       "      <td>2</td>\n",
       "    </tr>\n",
       "    <tr>\n",
       "      <th>148</th>\n",
       "      <td>6.2</td>\n",
       "      <td>3.4</td>\n",
       "      <td>5.4</td>\n",
       "      <td>2.3</td>\n",
       "      <td>2</td>\n",
       "    </tr>\n",
       "    <tr>\n",
       "      <th>149</th>\n",
       "      <td>5.9</td>\n",
       "      <td>3.0</td>\n",
       "      <td>5.1</td>\n",
       "      <td>1.8</td>\n",
       "      <td>2</td>\n",
       "    </tr>\n",
       "  </tbody>\n",
       "</table>\n",
       "<p>150 rows × 5 columns</p>\n",
       "</div>"
      ],
      "text/plain": [
       "     sepal length (cm)  sepal width (cm)  petal length (cm)  petal width (cm)  \\\n",
       "0                  5.1               3.5                1.4               0.2   \n",
       "1                  4.9               3.0                1.4               0.2   \n",
       "2                  4.7               3.2                1.3               0.2   \n",
       "3                  4.6               3.1                1.5               0.2   \n",
       "4                  5.0               3.6                1.4               0.2   \n",
       "..                 ...               ...                ...               ...   \n",
       "145                6.7               3.0                5.2               2.3   \n",
       "146                6.3               2.5                5.0               1.9   \n",
       "147                6.5               3.0                5.2               2.0   \n",
       "148                6.2               3.4                5.4               2.3   \n",
       "149                5.9               3.0                5.1               1.8   \n",
       "\n",
       "     target  \n",
       "0         0  \n",
       "1         0  \n",
       "2         0  \n",
       "3         0  \n",
       "4         0  \n",
       "..      ...  \n",
       "145       2  \n",
       "146       2  \n",
       "147       2  \n",
       "148       2  \n",
       "149       2  \n",
       "\n",
       "[150 rows x 5 columns]"
      ]
     },
     "execution_count": 5,
     "metadata": {},
     "output_type": "execute_result"
    }
   ],
   "source": [
    "# pandas 資料集讀取，整理\n",
    "df = pd.DataFrame(iris[\"data\"],columns = iris[\"feature_names\"])\n",
    "   # key: data -> 對應到四欄資料   feature_names -> 欄位名稱\n",
    "df[\"target\"] = iris[\"target\"]\n",
    "   # 將，iris \"target\"欄位資料 帶入df中   (df成為5欄位的資料)\n",
    "#df.to_csv(\"iris.csv\", encoding = \"UTF-8\", index = False)   # index 將系統預設的index帶入csv檔案中?\n",
    "   # 儲存為csv，取消 default index\n",
    "df"
   ]
  },
  {
   "cell_type": "code",
   "execution_count": 6,
   "metadata": {},
   "outputs": [],
   "source": [
    "# 相關係數圖\n",
    "# 上面的資料，有花萼長，寬 / 花瓣長，寬 (data) 與 是哪一種花 (target)\n",
    "# 目的 : 我們要輸入某花的 花萼花瓣長寬，系統自動判定是哪一種花\n",
    "# 有題目，有答案 : 監督式\n",
    "# 預測出來的答案，有大小關係嗎?   -> 花種之間沒有大小關係   (如有大小，迴歸)\n",
    "# 此為 : 監督式分類法\n",
    "\n",
    "# 之後遇到相關問題都需要先思考 : data每個特徵 / target相關性\n",
    "# 特徵與相關性   越有正相關   代表影響性越高   -> 這個邏輯在迴歸時，較為適用 / 分類比較不準"
   ]
  },
  {
   "cell_type": "code",
   "execution_count": 7,
   "metadata": {},
   "outputs": [
    {
     "data": {
      "text/plain": [
       "<Figure size 3000x3000 with 0 Axes>"
      ]
     },
     "execution_count": 7,
     "metadata": {},
     "output_type": "execute_result"
    },
    {
     "data": {
      "image/png": "[encoded data removed]",
      "text/plain": [
       "<Figure size 640x480 with 2 Axes>"
      ]
     },
     "metadata": {},
     "output_type": "display_data"
    },
    {
     "data": {
      "text/plain": [
       "<Figure size 3000x3000 with 0 Axes>"
      ]
     },
     "metadata": {},
     "output_type": "display_data"
    }
   ],
   "source": [
    "import matplotlib.pyplot as plt\n",
    "import seaborn as sns\n",
    "%matplotlib inline\n",
    "# %matplotlib inline 為jupyter專用，可以省去plt.show()\n",
    "\n",
    "# 熱度圖\n",
    "sns.heatmap(df.astype(\"float\").corr(), cmap= \"YlGn\", annot= True)\n",
    "   # heatmap(相關係數矩陣, cmap(熱度圖顏色), annot(顯示每個相關係數值))\n",
    "plt.figure(figsize=(30, 30))   # 重新設定輸出圖的寬高\n",
    "\n",
    "# 更改輸出圖的顏色   (cmap: colormap)   (https://matplotlib.org/stable/gallery/color/colormap_reference.html)"
   ]
  },
  {
   "cell_type": "code",
   "execution_count": 8,
   "metadata": {},
   "outputs": [
    {
     "data": {
      "text/html": [
       "<div>\n",
       "<style scoped>\n",
       "    .dataframe tbody tr th:only-of-type {\n",
       "        vertical-align: middle;\n",
       "    }\n",
       "\n",
       "    .dataframe tbody tr th {\n",
       "        vertical-align: top;\n",
       "    }\n",
       "\n",
       "    .dataframe thead th {\n",
       "        text-align: right;\n",
       "    }\n",
       "</style>\n",
       "<table border=\"1\" class=\"dataframe\">\n",
       "  <thead>\n",
       "    <tr style=\"text-align: right;\">\n",
       "      <th></th>\n",
       "      <th>sepal length (cm)</th>\n",
       "      <th>sepal width (cm)</th>\n",
       "      <th>petal length (cm)</th>\n",
       "      <th>petal width (cm)</th>\n",
       "      <th>target</th>\n",
       "    </tr>\n",
       "  </thead>\n",
       "  <tbody>\n",
       "    <tr>\n",
       "      <th>sepal length (cm)</th>\n",
       "      <td>1.000000</td>\n",
       "      <td>-0.117570</td>\n",
       "      <td>0.871754</td>\n",
       "      <td>0.817941</td>\n",
       "      <td>0.782561</td>\n",
       "    </tr>\n",
       "    <tr>\n",
       "      <th>sepal width (cm)</th>\n",
       "      <td>-0.117570</td>\n",
       "      <td>1.000000</td>\n",
       "      <td>-0.428440</td>\n",
       "      <td>-0.366126</td>\n",
       "      <td>-0.426658</td>\n",
       "    </tr>\n",
       "    <tr>\n",
       "      <th>petal length (cm)</th>\n",
       "      <td>0.871754</td>\n",
       "      <td>-0.428440</td>\n",
       "      <td>1.000000</td>\n",
       "      <td>0.962865</td>\n",
       "      <td>0.949035</td>\n",
       "    </tr>\n",
       "    <tr>\n",
       "      <th>petal width (cm)</th>\n",
       "      <td>0.817941</td>\n",
       "      <td>-0.366126</td>\n",
       "      <td>0.962865</td>\n",
       "      <td>1.000000</td>\n",
       "      <td>0.956547</td>\n",
       "    </tr>\n",
       "    <tr>\n",
       "      <th>target</th>\n",
       "      <td>0.782561</td>\n",
       "      <td>-0.426658</td>\n",
       "      <td>0.949035</td>\n",
       "      <td>0.956547</td>\n",
       "      <td>1.000000</td>\n",
       "    </tr>\n",
       "  </tbody>\n",
       "</table>\n",
       "</div>"
      ],
      "text/plain": [
       "                   sepal length (cm)  sepal width (cm)  petal length (cm)  \\\n",
       "sepal length (cm)           1.000000         -0.117570           0.871754   \n",
       "sepal width (cm)           -0.117570          1.000000          -0.428440   \n",
       "petal length (cm)           0.871754         -0.428440           1.000000   \n",
       "petal width (cm)            0.817941         -0.366126           0.962865   \n",
       "target                      0.782561         -0.426658           0.949035   \n",
       "\n",
       "                   petal width (cm)    target  \n",
       "sepal length (cm)          0.817941  0.782561  \n",
       "sepal width (cm)          -0.366126 -0.426658  \n",
       "petal length (cm)          0.962865  0.949035  \n",
       "petal width (cm)           1.000000  0.956547  \n",
       "target                     0.956547  1.000000  "
      ]
     },
     "execution_count": 8,
     "metadata": {},
     "output_type": "execute_result"
    }
   ],
   "source": [
    "df.corr()   # 可以直接判斷關係圖\n",
    "# 等等的ML，會以 petal width 為第一判斷點，因為相關係數最高\n",
    "# astype 轉換資料型態"
   ]
  },
  {
   "cell_type": "code",
   "execution_count": 9,
   "metadata": {},
   "outputs": [],
   "source": [
    "# 通常data 90% 會用於訓練模型 / 10% 會用於驗證模型準確性\n",
    "# 驗證\n",
    "from sklearn.model_selection import train_test_split\n",
    "# train_test_split -> 特徵的90% 特徵的10% / 目標的90% 目標的10%   # 會產生四個值的 tuple\n",
    "# 將資料分成四部分: 特徵   &   目標\n",
    "#                  9:1        9:1\n",
    "\n",
    "# x代表四特徵 / y代表最後結果\n",
    "x_train, x_test, y_train, y_test = train_test_split(df.drop([\"target\"],axis=1), df[\"target\"], test_size=0.1)\n",
    "# axis=0 列; axis=1 行 \n",
    "# 第一參數: df.drop: 去除df target欄位資料，axis=1 代表欄位，0則代表列\n",
    "# 第二參數: 目標資料 df[\"target\"]\n",
    "# test_size: 90% 訓練模型， 10% 驗證模型的準確性"
   ]
  },
  {
   "cell_type": "code",
   "execution_count": 10,
   "metadata": {},
   "outputs": [
    {
     "data": {
      "text/html": [
       "<style>#sk-container-id-1 {color: black;background-color: white;}#sk-container-id-1 pre{padding: 0;}#sk-container-id-1 div.sk-toggleable {background-color: white;}#sk-container-id-1 label.sk-toggleable__label {cursor: pointer;display: block;width: 100%;margin-bottom: 0;padding: 0.3em;box-sizing: border-box;text-align: center;}#sk-container-id-1 label.sk-toggleable__label-arrow:before {content: \"▸\";float: left;margin-right: 0.25em;color: #696969;}#sk-container-id-1 label.sk-toggleable__label-arrow:hover:before {color: black;}#sk-container-id-1 div.sk-estimator:hover label.sk-toggleable__label-arrow:before {color: black;}#sk-container-id-1 div.sk-toggleable__content {max-height: 0;max-width: 0;overflow: hidden;text-align: left;background-color: #f0f8ff;}#sk-container-id-1 div.sk-toggleable__content pre {margin: 0.2em;color: black;border-radius: 0.25em;background-color: #f0f8ff;}#sk-container-id-1 input.sk-toggleable__control:checked~div.sk-toggleable__content {max-height: 200px;max-width: 100%;overflow: auto;}#sk-container-id-1 input.sk-toggleable__control:checked~label.sk-toggleable__label-arrow:before {content: \"▾\";}#sk-container-id-1 div.sk-estimator input.sk-toggleable__control:checked~label.sk-toggleable__label {background-color: #d4ebff;}#sk-container-id-1 div.sk-label input.sk-toggleable__control:checked~label.sk-toggleable__label {background-color: #d4ebff;}#sk-container-id-1 input.sk-hidden--visually {border: 0;clip: rect(1px 1px 1px 1px);clip: rect(1px, 1px, 1px, 1px);height: 1px;margin: -1px;overflow: hidden;padding: 0;position: absolute;width: 1px;}#sk-container-id-1 div.sk-estimator {font-family: monospace;background-color: #f0f8ff;border: 1px dotted black;border-radius: 0.25em;box-sizing: border-box;margin-bottom: 0.5em;}#sk-container-id-1 div.sk-estimator:hover {background-color: #d4ebff;}#sk-container-id-1 div.sk-parallel-item::after {content: \"\";width: 100%;border-bottom: 1px solid gray;flex-grow: 1;}#sk-container-id-1 div.sk-label:hover label.sk-toggleable__label {background-color: #d4ebff;}#sk-container-id-1 div.sk-serial::before {content: \"\";position: absolute;border-left: 1px solid gray;box-sizing: border-box;top: 0;bottom: 0;left: 50%;z-index: 0;}#sk-container-id-1 div.sk-serial {display: flex;flex-direction: column;align-items: center;background-color: white;padding-right: 0.2em;padding-left: 0.2em;position: relative;}#sk-container-id-1 div.sk-item {position: relative;z-index: 1;}#sk-container-id-1 div.sk-parallel {display: flex;align-items: stretch;justify-content: center;background-color: white;position: relative;}#sk-container-id-1 div.sk-item::before, #sk-container-id-1 div.sk-parallel-item::before {content: \"\";position: absolute;border-left: 1px solid gray;box-sizing: border-box;top: 0;bottom: 0;left: 50%;z-index: -1;}#sk-container-id-1 div.sk-parallel-item {display: flex;flex-direction: column;z-index: 1;position: relative;background-color: white;}#sk-container-id-1 div.sk-parallel-item:first-child::after {align-self: flex-end;width: 50%;}#sk-container-id-1 div.sk-parallel-item:last-child::after {align-self: flex-start;width: 50%;}#sk-container-id-1 div.sk-parallel-item:only-child::after {width: 0;}#sk-container-id-1 div.sk-dashed-wrapped {border: 1px dashed gray;margin: 0 0.4em 0.5em 0.4em;box-sizing: border-box;padding-bottom: 0.4em;background-color: white;}#sk-container-id-1 div.sk-label label {font-family: monospace;font-weight: bold;display: inline-block;line-height: 1.2em;}#sk-container-id-1 div.sk-label-container {text-align: center;}#sk-container-id-1 div.sk-container {/* jupyter's `normalize.less` sets `[hidden] { display: none; }` but bootstrap.min.css set `[hidden] { display: none !important; }` so we also need the `!important` here to be able to override the default hidden behavior on the sphinx rendered scikit-learn.org. See: https://github.com/scikit-learn/scikit-learn/issues/21755 */display: inline-block !important;position: relative;}#sk-container-id-1 div.sk-text-repr-fallback {display: none;}</style><div id=\"sk-container-id-1\" class=\"sk-top-container\"><div class=\"sk-text-repr-fallback\"><pre>DecisionTreeClassifier(max_depth=3)</pre><b>In a Jupyter environment, please rerun this cell to show the HTML representation or trust the notebook. <br />On GitHub, the HTML representation is unable to render, please try loading this page with nbviewer.org.</b></div><div class=\"sk-container\" hidden><div class=\"sk-item\"><div class=\"sk-estimator sk-toggleable\"><input class=\"sk-toggleable__control sk-hidden--visually\" id=\"sk-estimator-id-1\" type=\"checkbox\" checked><label for=\"sk-estimator-id-1\" class=\"sk-toggleable__label sk-toggleable__label-arrow\">DecisionTreeClassifier</label><div class=\"sk-toggleable__content\"><pre>DecisionTreeClassifier(max_depth=3)</pre></div></div></div></div></div>"
      ],
      "text/plain": [
       "DecisionTreeClassifier(max_depth=3)"
      ]
     },
     "execution_count": 10,
     "metadata": {},
     "output_type": "execute_result"
    }
   ],
   "source": [
    "# sklearn.tree   (https://scikit-learn.org/stable/modules/generated/sklearn.tree.DecisionTreeClassifier.html)\n",
    "from sklearn.tree import DecisionTreeClassifier   # 分類\n",
    "\n",
    "# 習慣命名clf\n",
    "clf = DecisionTreeClassifier(max_depth=3)   # 最多往下分析三層\n",
    "\n",
    "# 帶入 90% training 資料   (90%四特徵 & 90%四特徵的答案)\n",
    "clf.fit(x_train, y_train)\n",
    "\n",
    "# 完成訓練模型後，需要將訓練模型圖示化"
   ]
  },
  {
   "cell_type": "code",
   "execution_count": 11,
   "metadata": {},
   "outputs": [
    {
     "data": {
      "image/svg+xml": "<?xml version=\"1.0\" encoding=\"UTF-8\" standalone=\"no\"?>\n<!DOCTYPE svg PUBLIC \"-//W3C//DTD SVG 1.1//EN\"\n \"http://www.w3.org/Graphics/SVG/1.1/DTD/svg11.dtd\">\n<!-- Generated by graphviz version 2.38.0 (20140413.2041)\n -->\n<!-- Title: Tree Pages: 1 -->\n<svg width=\"441pt\" height=\"433pt\"\n viewBox=\"0.00 0.00 441.00 433.00\" xmlns=\"http://www.w3.org/2000/svg\" xmlns:xlink=\"http://www.w3.org/1999/xlink\">\n<g id=\"graph0\" class=\"graph\" transform=\"scale(1 1) rotate(0) translate(4 429)\">\n<title>Tree</title>\n<polygon fill=\"white\" stroke=\"none\" points=\"-4,4 -4,-429 437,-429 437,4 -4,4\"/>\n<!-- 0 -->\n<g id=\"node1\" class=\"node\"><title>0</title>\n<polygon fill=\"#fefcfb\" stroke=\"black\" points=\"223,-425 58,-425 58,-342 223,-342 223,-425\"/>\n<text text-anchor=\"start\" x=\"66\" y=\"-409.8\" font-family=\"Helvetica,sans-Serif\" font-size=\"14.00\">petal length (cm) ≤ 2.45</text>\n<text text-anchor=\"start\" x=\"103\" y=\"-394.8\" font-family=\"Helvetica,sans-Serif\" font-size=\"14.00\">gini = 0.666</text>\n<text text-anchor=\"start\" x=\"93\" y=\"-379.8\" font-family=\"Helvetica,sans-Serif\" font-size=\"14.00\">samples = 135</text>\n<text text-anchor=\"start\" x=\"80\" y=\"-364.8\" font-family=\"Helvetica,sans-Serif\" font-size=\"14.00\">value = [47, 45, 43]</text>\n<text text-anchor=\"start\" x=\"94.5\" y=\"-349.8\" font-family=\"Helvetica,sans-Serif\" font-size=\"14.00\">class = setosa</text>\n</g>\n<!-- 1 -->\n<g id=\"node2\" class=\"node\"><title>1</title>\n<polygon fill=\"#e58139\" stroke=\"black\" points=\"121,-298.5 0,-298.5 0,-230.5 121,-230.5 121,-298.5\"/>\n<text text-anchor=\"start\" x=\"31.5\" y=\"-283.3\" font-family=\"Helvetica,sans-Serif\" font-size=\"14.00\">gini = 0.0</text>\n<text text-anchor=\"start\" x=\"17\" y=\"-268.3\" font-family=\"Helvetica,sans-Serif\" font-size=\"14.00\">samples = 47</text>\n<text text-anchor=\"start\" x=\"8\" y=\"-253.3\" font-family=\"Helvetica,sans-Serif\" font-size=\"14.00\">value = [47, 0, 0]</text>\n<text text-anchor=\"start\" x=\"14.5\" y=\"-238.3\" font-family=\"Helvetica,sans-Serif\" font-size=\"14.00\">class = setosa</text>\n</g>\n<!-- 0&#45;&gt;1 -->\n<g id=\"edge1\" class=\"edge\"><title>0&#45;&gt;1</title>\n<path fill=\"none\" stroke=\"black\" d=\"M112.744,-341.907C105.049,-330.652 96.6835,-318.418 88.9487,-307.106\"/>\n<polygon fill=\"black\" stroke=\"black\" points=\"91.7118,-304.946 83.1782,-298.667 85.9334,-308.897 91.7118,-304.946\"/>\n<text text-anchor=\"middle\" x=\"78.5635\" y=\"-319.537\" font-family=\"Helvetica,sans-Serif\" font-size=\"14.00\">True</text>\n</g>\n<!-- 2 -->\n<g id=\"node3\" class=\"node\"><title>2</title>\n<polygon fill=\"#f6fef9\" stroke=\"black\" points=\"304,-306 139,-306 139,-223 304,-223 304,-306\"/>\n<text text-anchor=\"start\" x=\"147\" y=\"-290.8\" font-family=\"Helvetica,sans-Serif\" font-size=\"14.00\">petal length (cm) ≤ 4.75</text>\n<text text-anchor=\"start\" x=\"192.5\" y=\"-275.8\" font-family=\"Helvetica,sans-Serif\" font-size=\"14.00\">gini = 0.5</text>\n<text text-anchor=\"start\" x=\"178\" y=\"-260.8\" font-family=\"Helvetica,sans-Serif\" font-size=\"14.00\">samples = 88</text>\n<text text-anchor=\"start\" x=\"165\" y=\"-245.8\" font-family=\"Helvetica,sans-Serif\" font-size=\"14.00\">value = [0, 45, 43]</text>\n<text text-anchor=\"start\" x=\"166\" y=\"-230.8\" font-family=\"Helvetica,sans-Serif\" font-size=\"14.00\">class = versicolor</text>\n</g>\n<!-- 0&#45;&gt;2 -->\n<g id=\"edge2\" class=\"edge\"><title>0&#45;&gt;2</title>\n<path fill=\"none\" stroke=\"black\" d=\"M168.603,-341.907C174.76,-333.014 181.34,-323.509 187.694,-314.331\"/>\n<polygon fill=\"black\" stroke=\"black\" points=\"190.633,-316.235 193.447,-306.021 184.877,-312.251 190.633,-316.235\"/>\n<text text-anchor=\"middle\" x=\"197.919\" y=\"-326.918\" font-family=\"Helvetica,sans-Serif\" font-size=\"14.00\">False</text>\n</g>\n<!-- 3 -->\n<g id=\"node4\" class=\"node\"><title>3</title>\n<polygon fill=\"#39e581\" stroke=\"black\" points=\"204,-179.5 77,-179.5 77,-111.5 204,-111.5 204,-179.5\"/>\n<text text-anchor=\"start\" x=\"111.5\" y=\"-164.3\" font-family=\"Helvetica,sans-Serif\" font-size=\"14.00\">gini = 0.0</text>\n<text text-anchor=\"start\" x=\"97\" y=\"-149.3\" font-family=\"Helvetica,sans-Serif\" font-size=\"14.00\">samples = 40</text>\n<text text-anchor=\"start\" x=\"88\" y=\"-134.3\" font-family=\"Helvetica,sans-Serif\" font-size=\"14.00\">value = [0, 40, 0]</text>\n<text text-anchor=\"start\" x=\"85\" y=\"-119.3\" font-family=\"Helvetica,sans-Serif\" font-size=\"14.00\">class = versicolor</text>\n</g>\n<!-- 2&#45;&gt;3 -->\n<g id=\"edge3\" class=\"edge\"><title>2&#45;&gt;3</title>\n<path fill=\"none\" stroke=\"black\" d=\"M193.397,-222.907C185.605,-211.652 177.136,-199.418 169.304,-188.106\"/>\n<polygon fill=\"black\" stroke=\"black\" points=\"172.032,-185.897 163.462,-179.667 166.276,-189.881 172.032,-185.897\"/>\n</g>\n<!-- 4 -->\n<g id=\"node5\" class=\"node\"><title>4</title>\n<polygon fill=\"#9050e8\" stroke=\"black\" points=\"381,-187 222,-187 222,-104 381,-104 381,-187\"/>\n<text text-anchor=\"start\" x=\"230\" y=\"-171.8\" font-family=\"Helvetica,sans-Serif\" font-size=\"14.00\">petal width (cm) ≤ 1.75</text>\n<text text-anchor=\"start\" x=\"264\" y=\"-156.8\" font-family=\"Helvetica,sans-Serif\" font-size=\"14.00\">gini = 0.187</text>\n<text text-anchor=\"start\" x=\"258\" y=\"-141.8\" font-family=\"Helvetica,sans-Serif\" font-size=\"14.00\">samples = 48</text>\n<text text-anchor=\"start\" x=\"249\" y=\"-126.8\" font-family=\"Helvetica,sans-Serif\" font-size=\"14.00\">value = [0, 5, 43]</text>\n<text text-anchor=\"start\" x=\"251.5\" y=\"-111.8\" font-family=\"Helvetica,sans-Serif\" font-size=\"14.00\">class = virginica</text>\n</g>\n<!-- 2&#45;&gt;4 -->\n<g id=\"edge4\" class=\"edge\"><title>2&#45;&gt;4</title>\n<path fill=\"none\" stroke=\"black\" d=\"M249.256,-222.907C255.337,-214.014 261.836,-204.509 268.111,-195.331\"/>\n<polygon fill=\"black\" stroke=\"black\" points=\"271.038,-197.251 273.793,-187.021 265.26,-193.3 271.038,-197.251\"/>\n</g>\n<!-- 5 -->\n<g id=\"node6\" class=\"node\"><title>5</title>\n<polygon fill=\"#ffffff\" stroke=\"black\" points=\"294,-68 167,-68 167,-0 294,-0 294,-68\"/>\n<text text-anchor=\"start\" x=\"201.5\" y=\"-52.8\" font-family=\"Helvetica,sans-Serif\" font-size=\"14.00\">gini = 0.5</text>\n<text text-anchor=\"start\" x=\"191\" y=\"-37.8\" font-family=\"Helvetica,sans-Serif\" font-size=\"14.00\">samples = 8</text>\n<text text-anchor=\"start\" x=\"182\" y=\"-22.8\" font-family=\"Helvetica,sans-Serif\" font-size=\"14.00\">value = [0, 4, 4]</text>\n<text text-anchor=\"start\" x=\"175\" y=\"-7.8\" font-family=\"Helvetica,sans-Serif\" font-size=\"14.00\">class = versicolor</text>\n</g>\n<!-- 4&#45;&gt;5 -->\n<g id=\"edge5\" class=\"edge\"><title>4&#45;&gt;5</title>\n<path fill=\"none\" stroke=\"black\" d=\"M275.062,-103.726C269.385,-94.9703 263.376,-85.7032 257.671,-76.9051\"/>\n<polygon fill=\"black\" stroke=\"black\" points=\"260.469,-74.786 252.092,-68.2996 254.595,-78.5943 260.469,-74.786\"/>\n</g>\n<!-- 6 -->\n<g id=\"node7\" class=\"node\"><title>6</title>\n<polygon fill=\"#843ee6\" stroke=\"black\" points=\"433,-68 312,-68 312,-0 433,-0 433,-68\"/>\n<text text-anchor=\"start\" x=\"335\" y=\"-52.8\" font-family=\"Helvetica,sans-Serif\" font-size=\"14.00\">gini = 0.049</text>\n<text text-anchor=\"start\" x=\"329\" y=\"-37.8\" font-family=\"Helvetica,sans-Serif\" font-size=\"14.00\">samples = 40</text>\n<text text-anchor=\"start\" x=\"320\" y=\"-22.8\" font-family=\"Helvetica,sans-Serif\" font-size=\"14.00\">value = [0, 1, 39]</text>\n<text text-anchor=\"start\" x=\"322.5\" y=\"-7.8\" font-family=\"Helvetica,sans-Serif\" font-size=\"14.00\">class = virginica</text>\n</g>\n<!-- 4&#45;&gt;6 -->\n<g id=\"edge6\" class=\"edge\"><title>4&#45;&gt;6</title>\n<path fill=\"none\" stroke=\"black\" d=\"M327.938,-103.726C333.615,-94.9703 339.624,-85.7032 345.329,-76.9051\"/>\n<polygon fill=\"black\" stroke=\"black\" points=\"348.405,-78.5943 350.908,-68.2996 342.531,-74.786 348.405,-78.5943\"/>\n</g>\n</g>\n</svg>\n",
      "text/plain": [
       "<graphviz.sources.Source at 0x1eb7220e850>"
      ]
     },
     "execution_count": 11,
     "metadata": {},
     "output_type": "execute_result"
    }
   ],
   "source": [
    "# 繪製決策樹\n",
    "from sklearn.tree import export_graphviz\n",
    "import graphviz\n",
    "\n",
    "g = export_graphviz(clf,                                     # 分類樹\n",
    "                    out_file= None,                          # 不輸出檔案\n",
    "                    feature_names= iris[\"feature_names\"],    # 特徵名\n",
    "                    class_names = iris[\"target_names\"],      # 答案名-此為iris中的 target_names\n",
    "                    filled= True,                            # 圖形要不要填入顏色\n",
    "                    special_characters= True)                # 如果有特殊符號，要不要顯示\n",
    "# g 是方格敘述圖\n",
    "\n",
    "graph = graphviz.Source(g)\n",
    "# graph 將方格敘述圖化成圖像\n",
    "\n",
    "graph"
   ]
  },
  {
   "cell_type": "code",
   "execution_count": 12,
   "metadata": {},
   "outputs": [
    {
     "name": "stdout",
     "output_type": "stream",
     "text": [
      "預測結果:  [0, 2, 1, 1, 0, 2, 1, 1, 1, 2, 2, 1, 2, 2, 0]\n",
      "真正標籤:  [0, 2, 1, 1, 0, 2, 1, 1, 1, 2, 2, 2, 2, 2, 0]\n"
     ]
    }
   ],
   "source": [
    "# clf.fit(x_train, y_train)   # 剛剛上方的訓練模型\n",
    "\n",
    "pre = clf.predict(x_test)     # 將測試資料帶入，實驗\n",
    "\n",
    "print(\"預測結果: \", list(pre))\n",
    "print(\"真正標籤: \", list(y_test))\n",
    "\n",
    "# 僅有一組預測與真正標籤不同   (每次都是隨機抽樣，結果不一定依樣)"
   ]
  },
  {
   "cell_type": "code",
   "execution_count": 13,
   "metadata": {},
   "outputs": [
    {
     "name": "stdout",
     "output_type": "stream",
     "text": [
      "正確率:  0.9333333333333333\n"
     ]
    }
   ],
   "source": [
    "# 上面是一個一個比對測試結果 & 真實標籤\n",
    "# 自動計算正確率\n",
    "from sklearn.metrics import accuracy_score\n",
    "print(\"正確率: \", accuracy_score(pre,y_test))   # 預測成功的機率\n",
    "# 每次取樹都是隨機的，所以每次預測出來的正確率都會不太一樣"
   ]
  },
  {
   "cell_type": "code",
   "execution_count": 14,
   "metadata": {},
   "outputs": [
    {
     "data": {
      "text/html": [
       "<div>\n",
       "<style scoped>\n",
       "    .dataframe tbody tr th:only-of-type {\n",
       "        vertical-align: middle;\n",
       "    }\n",
       "\n",
       "    .dataframe tbody tr th {\n",
       "        vertical-align: top;\n",
       "    }\n",
       "\n",
       "    .dataframe thead th {\n",
       "        text-align: right;\n",
       "    }\n",
       "</style>\n",
       "<table border=\"1\" class=\"dataframe\">\n",
       "  <thead>\n",
       "    <tr style=\"text-align: right;\">\n",
       "      <th></th>\n",
       "      <th>0</th>\n",
       "      <th>1</th>\n",
       "      <th>2</th>\n",
       "    </tr>\n",
       "  </thead>\n",
       "  <tbody>\n",
       "    <tr>\n",
       "      <th>0</th>\n",
       "      <td>3</td>\n",
       "      <td>0</td>\n",
       "      <td>0</td>\n",
       "    </tr>\n",
       "    <tr>\n",
       "      <th>1</th>\n",
       "      <td>0</td>\n",
       "      <td>5</td>\n",
       "      <td>0</td>\n",
       "    </tr>\n",
       "    <tr>\n",
       "      <th>2</th>\n",
       "      <td>0</td>\n",
       "      <td>1</td>\n",
       "      <td>6</td>\n",
       "    </tr>\n",
       "  </tbody>\n",
       "</table>\n",
       "</div>"
      ],
      "text/plain": [
       "   0  1  2\n",
       "0  3  0  0\n",
       "1  0  5  0\n",
       "2  0  1  6"
      ]
     },
     "execution_count": 14,
     "metadata": {},
     "output_type": "execute_result"
    }
   ],
   "source": [
    "# 混淆矩陣   (https://scikit-learn.org/stable/modules/classes.html)\n",
    "# confusion_matrix   (日後可以用於修正模型，分辨那些數據較容易被我們設計的模型混淆)\n",
    "from sklearn.metrics import confusion_matrix\n",
    "confusion_matrix(y_test, pre)\n",
    "# 不在對角線上的數據，就是錯誤的數據\n",
    "\n",
    "pd.DataFrame(confusion_matrix(y_test, pre))\n",
    "# 實際標籤 : 0, 1, 2   預測標籤 : 0, 1, 2   如數據都集中在對角線上，100% 正確\n",
    "# 0 被正確預測為0的，有n個 ..."
   ]
  },
  {
   "cell_type": "code",
   "execution_count": 15,
   "metadata": {},
   "outputs": [],
   "source": [
    "# 決策樹中的吉尼係數\n",
    "# 例如100位工程師，經過第一次分類 :    (尚未分類的資料，最雜亂，亂度1)\n",
    "# 50% 工程師     <- (被分類後，此區資料都是工程師，已經分類完畢，亂度0)\n",
    "# 50% 非工程師   <-  \n",
    "# 當節點的吉尼係數越小，表示該節點的純度越高，節點的分裂策略越好。\n",
    "# 在決策樹的建立過程中，通常選擇使得分裂後吉尼係數下降最多的分裂策略。"
   ]
  },
  {
   "cell_type": "code",
   "execution_count": 16,
   "metadata": {},
   "outputs": [],
   "source": [
    "# 避免分析過頭的參數...以下舉例\n",
    "# DecisionTreeClassifier   (https://scikit-learn.org/stable/modules/generated/sklearn.tree.DecisionTreeClassifier.html)\n",
    "# max_depth                  最多分幾層\n",
    "# min_samples_split          最小取樣數\n",
    "# ... "
   ]
  },
  {
   "attachments": {},
   "cell_type": "markdown",
   "metadata": {},
   "source": [
    "sklearn 案例2 加州房價 (Regression)"
   ]
  },
  {
   "cell_type": "code",
   "execution_count": 17,
   "metadata": {},
   "outputs": [
    {
     "data": {
      "text/html": [
       "<div>\n",
       "<style scoped>\n",
       "    .dataframe tbody tr th:only-of-type {\n",
       "        vertical-align: middle;\n",
       "    }\n",
       "\n",
       "    .dataframe tbody tr th {\n",
       "        vertical-align: top;\n",
       "    }\n",
       "\n",
       "    .dataframe thead th {\n",
       "        text-align: right;\n",
       "    }\n",
       "</style>\n",
       "<table border=\"1\" class=\"dataframe\">\n",
       "  <thead>\n",
       "    <tr style=\"text-align: right;\">\n",
       "      <th></th>\n",
       "      <th>MedInc</th>\n",
       "      <th>HouseAge</th>\n",
       "      <th>AveRooms</th>\n",
       "      <th>AveBedrms</th>\n",
       "      <th>Population</th>\n",
       "      <th>AveOccup</th>\n",
       "      <th>Latitude</th>\n",
       "      <th>Longitude</th>\n",
       "      <th>target</th>\n",
       "    </tr>\n",
       "  </thead>\n",
       "  <tbody>\n",
       "    <tr>\n",
       "      <th>0</th>\n",
       "      <td>8.3252</td>\n",
       "      <td>41.0</td>\n",
       "      <td>6.984127</td>\n",
       "      <td>1.023810</td>\n",
       "      <td>322.0</td>\n",
       "      <td>2.555556</td>\n",
       "      <td>37.88</td>\n",
       "      <td>-122.23</td>\n",
       "      <td>4.526</td>\n",
       "    </tr>\n",
       "    <tr>\n",
       "      <th>1</th>\n",
       "      <td>8.3014</td>\n",
       "      <td>21.0</td>\n",
       "      <td>6.238137</td>\n",
       "      <td>0.971880</td>\n",
       "      <td>2401.0</td>\n",
       "      <td>2.109842</td>\n",
       "      <td>37.86</td>\n",
       "      <td>-122.22</td>\n",
       "      <td>3.585</td>\n",
       "    </tr>\n",
       "    <tr>\n",
       "      <th>2</th>\n",
       "      <td>7.2574</td>\n",
       "      <td>52.0</td>\n",
       "      <td>8.288136</td>\n",
       "      <td>1.073446</td>\n",
       "      <td>496.0</td>\n",
       "      <td>2.802260</td>\n",
       "      <td>37.85</td>\n",
       "      <td>-122.24</td>\n",
       "      <td>3.521</td>\n",
       "    </tr>\n",
       "    <tr>\n",
       "      <th>3</th>\n",
       "      <td>5.6431</td>\n",
       "      <td>52.0</td>\n",
       "      <td>5.817352</td>\n",
       "      <td>1.073059</td>\n",
       "      <td>558.0</td>\n",
       "      <td>2.547945</td>\n",
       "      <td>37.85</td>\n",
       "      <td>-122.25</td>\n",
       "      <td>3.413</td>\n",
       "    </tr>\n",
       "    <tr>\n",
       "      <th>4</th>\n",
       "      <td>3.8462</td>\n",
       "      <td>52.0</td>\n",
       "      <td>6.281853</td>\n",
       "      <td>1.081081</td>\n",
       "      <td>565.0</td>\n",
       "      <td>2.181467</td>\n",
       "      <td>37.85</td>\n",
       "      <td>-122.25</td>\n",
       "      <td>3.422</td>\n",
       "    </tr>\n",
       "    <tr>\n",
       "      <th>...</th>\n",
       "      <td>...</td>\n",
       "      <td>...</td>\n",
       "      <td>...</td>\n",
       "      <td>...</td>\n",
       "      <td>...</td>\n",
       "      <td>...</td>\n",
       "      <td>...</td>\n",
       "      <td>...</td>\n",
       "      <td>...</td>\n",
       "    </tr>\n",
       "    <tr>\n",
       "      <th>20635</th>\n",
       "      <td>1.5603</td>\n",
       "      <td>25.0</td>\n",
       "      <td>5.045455</td>\n",
       "      <td>1.133333</td>\n",
       "      <td>845.0</td>\n",
       "      <td>2.560606</td>\n",
       "      <td>39.48</td>\n",
       "      <td>-121.09</td>\n",
       "      <td>0.781</td>\n",
       "    </tr>\n",
       "    <tr>\n",
       "      <th>20636</th>\n",
       "      <td>2.5568</td>\n",
       "      <td>18.0</td>\n",
       "      <td>6.114035</td>\n",
       "      <td>1.315789</td>\n",
       "      <td>356.0</td>\n",
       "      <td>3.122807</td>\n",
       "      <td>39.49</td>\n",
       "      <td>-121.21</td>\n",
       "      <td>0.771</td>\n",
       "    </tr>\n",
       "    <tr>\n",
       "      <th>20637</th>\n",
       "      <td>1.7000</td>\n",
       "      <td>17.0</td>\n",
       "      <td>5.205543</td>\n",
       "      <td>1.120092</td>\n",
       "      <td>1007.0</td>\n",
       "      <td>2.325635</td>\n",
       "      <td>39.43</td>\n",
       "      <td>-121.22</td>\n",
       "      <td>0.923</td>\n",
       "    </tr>\n",
       "    <tr>\n",
       "      <th>20638</th>\n",
       "      <td>1.8672</td>\n",
       "      <td>18.0</td>\n",
       "      <td>5.329513</td>\n",
       "      <td>1.171920</td>\n",
       "      <td>741.0</td>\n",
       "      <td>2.123209</td>\n",
       "      <td>39.43</td>\n",
       "      <td>-121.32</td>\n",
       "      <td>0.847</td>\n",
       "    </tr>\n",
       "    <tr>\n",
       "      <th>20639</th>\n",
       "      <td>2.3886</td>\n",
       "      <td>16.0</td>\n",
       "      <td>5.254717</td>\n",
       "      <td>1.162264</td>\n",
       "      <td>1387.0</td>\n",
       "      <td>2.616981</td>\n",
       "      <td>39.37</td>\n",
       "      <td>-121.24</td>\n",
       "      <td>0.894</td>\n",
       "    </tr>\n",
       "  </tbody>\n",
       "</table>\n",
       "<p>20640 rows × 9 columns</p>\n",
       "</div>"
      ],
      "text/plain": [
       "       MedInc  HouseAge  AveRooms  AveBedrms  Population  AveOccup  Latitude  \\\n",
       "0      8.3252      41.0  6.984127   1.023810       322.0  2.555556     37.88   \n",
       "1      8.3014      21.0  6.238137   0.971880      2401.0  2.109842     37.86   \n",
       "2      7.2574      52.0  8.288136   1.073446       496.0  2.802260     37.85   \n",
       "3      5.6431      52.0  5.817352   1.073059       558.0  2.547945     37.85   \n",
       "4      3.8462      52.0  6.281853   1.081081       565.0  2.181467     37.85   \n",
       "...       ...       ...       ...        ...         ...       ...       ...   \n",
       "20635  1.5603      25.0  5.045455   1.133333       845.0  2.560606     39.48   \n",
       "20636  2.5568      18.0  6.114035   1.315789       356.0  3.122807     39.49   \n",
       "20637  1.7000      17.0  5.205543   1.120092      1007.0  2.325635     39.43   \n",
       "20638  1.8672      18.0  5.329513   1.171920       741.0  2.123209     39.43   \n",
       "20639  2.3886      16.0  5.254717   1.162264      1387.0  2.616981     39.37   \n",
       "\n",
       "       Longitude  target  \n",
       "0        -122.23   4.526  \n",
       "1        -122.22   3.585  \n",
       "2        -122.24   3.521  \n",
       "3        -122.25   3.413  \n",
       "4        -122.25   3.422  \n",
       "...          ...     ...  \n",
       "20635    -121.09   0.781  \n",
       "20636    -121.21   0.771  \n",
       "20637    -121.22   0.923  \n",
       "20638    -121.32   0.847  \n",
       "20639    -121.24   0.894  \n",
       "\n",
       "[20640 rows x 9 columns]"
      ]
     },
     "execution_count": 17,
     "metadata": {},
     "output_type": "execute_result"
    }
   ],
   "source": [
    "from sklearn.datasets import fetch_california_housing\n",
    "import pandas as pd\n",
    "ca = fetch_california_housing()\n",
    "\n",
    "df = pd.DataFrame(ca[\"data\"], columns= ca[\"feature_names\"])\n",
    "df[\"target\"]= ca[\"target\"]\n",
    "df"
   ]
  },
  {
   "cell_type": "code",
   "execution_count": 18,
   "metadata": {},
   "outputs": [],
   "source": [
    "from sklearn.model_selection import train_test_split\n",
    "x_train, x_test, y_train, y_test = train_test_split(ca[\"data\"],\n",
    "                                                    ca[\"target\"],\n",
    "                                                    test_size=0.1)"
   ]
  },
  {
   "cell_type": "code",
   "execution_count": 19,
   "metadata": {},
   "outputs": [
    {
     "data": {
      "text/html": [
       "<style>#sk-container-id-2 {color: black;background-color: white;}#sk-container-id-2 pre{padding: 0;}#sk-container-id-2 div.sk-toggleable {background-color: white;}#sk-container-id-2 label.sk-toggleable__label {cursor: pointer;display: block;width: 100%;margin-bottom: 0;padding: 0.3em;box-sizing: border-box;text-align: center;}#sk-container-id-2 label.sk-toggleable__label-arrow:before {content: \"▸\";float: left;margin-right: 0.25em;color: #696969;}#sk-container-id-2 label.sk-toggleable__label-arrow:hover:before {color: black;}#sk-container-id-2 div.sk-estimator:hover label.sk-toggleable__label-arrow:before {color: black;}#sk-container-id-2 div.sk-toggleable__content {max-height: 0;max-width: 0;overflow: hidden;text-align: left;background-color: #f0f8ff;}#sk-container-id-2 div.sk-toggleable__content pre {margin: 0.2em;color: black;border-radius: 0.25em;background-color: #f0f8ff;}#sk-container-id-2 input.sk-toggleable__control:checked~div.sk-toggleable__content {max-height: 200px;max-width: 100%;overflow: auto;}#sk-container-id-2 input.sk-toggleable__control:checked~label.sk-toggleable__label-arrow:before {content: \"▾\";}#sk-container-id-2 div.sk-estimator input.sk-toggleable__control:checked~label.sk-toggleable__label {background-color: #d4ebff;}#sk-container-id-2 div.sk-label input.sk-toggleable__control:checked~label.sk-toggleable__label {background-color: #d4ebff;}#sk-container-id-2 input.sk-hidden--visually {border: 0;clip: rect(1px 1px 1px 1px);clip: rect(1px, 1px, 1px, 1px);height: 1px;margin: -1px;overflow: hidden;padding: 0;position: absolute;width: 1px;}#sk-container-id-2 div.sk-estimator {font-family: monospace;background-color: #f0f8ff;border: 1px dotted black;border-radius: 0.25em;box-sizing: border-box;margin-bottom: 0.5em;}#sk-container-id-2 div.sk-estimator:hover {background-color: #d4ebff;}#sk-container-id-2 div.sk-parallel-item::after {content: \"\";width: 100%;border-bottom: 1px solid gray;flex-grow: 1;}#sk-container-id-2 div.sk-label:hover label.sk-toggleable__label {background-color: #d4ebff;}#sk-container-id-2 div.sk-serial::before {content: \"\";position: absolute;border-left: 1px solid gray;box-sizing: border-box;top: 0;bottom: 0;left: 50%;z-index: 0;}#sk-container-id-2 div.sk-serial {display: flex;flex-direction: column;align-items: center;background-color: white;padding-right: 0.2em;padding-left: 0.2em;position: relative;}#sk-container-id-2 div.sk-item {position: relative;z-index: 1;}#sk-container-id-2 div.sk-parallel {display: flex;align-items: stretch;justify-content: center;background-color: white;position: relative;}#sk-container-id-2 div.sk-item::before, #sk-container-id-2 div.sk-parallel-item::before {content: \"\";position: absolute;border-left: 1px solid gray;box-sizing: border-box;top: 0;bottom: 0;left: 50%;z-index: -1;}#sk-container-id-2 div.sk-parallel-item {display: flex;flex-direction: column;z-index: 1;position: relative;background-color: white;}#sk-container-id-2 div.sk-parallel-item:first-child::after {align-self: flex-end;width: 50%;}#sk-container-id-2 div.sk-parallel-item:last-child::after {align-self: flex-start;width: 50%;}#sk-container-id-2 div.sk-parallel-item:only-child::after {width: 0;}#sk-container-id-2 div.sk-dashed-wrapped {border: 1px dashed gray;margin: 0 0.4em 0.5em 0.4em;box-sizing: border-box;padding-bottom: 0.4em;background-color: white;}#sk-container-id-2 div.sk-label label {font-family: monospace;font-weight: bold;display: inline-block;line-height: 1.2em;}#sk-container-id-2 div.sk-label-container {text-align: center;}#sk-container-id-2 div.sk-container {/* jupyter's `normalize.less` sets `[hidden] { display: none; }` but bootstrap.min.css set `[hidden] { display: none !important; }` so we also need the `!important` here to be able to override the default hidden behavior on the sphinx rendered scikit-learn.org. See: https://github.com/scikit-learn/scikit-learn/issues/21755 */display: inline-block !important;position: relative;}#sk-container-id-2 div.sk-text-repr-fallback {display: none;}</style><div id=\"sk-container-id-2\" class=\"sk-top-container\"><div class=\"sk-text-repr-fallback\"><pre>DecisionTreeRegressor(max_depth=3)</pre><b>In a Jupyter environment, please rerun this cell to show the HTML representation or trust the notebook. <br />On GitHub, the HTML representation is unable to render, please try loading this page with nbviewer.org.</b></div><div class=\"sk-container\" hidden><div class=\"sk-item\"><div class=\"sk-estimator sk-toggleable\"><input class=\"sk-toggleable__control sk-hidden--visually\" id=\"sk-estimator-id-2\" type=\"checkbox\" checked><label for=\"sk-estimator-id-2\" class=\"sk-toggleable__label sk-toggleable__label-arrow\">DecisionTreeRegressor</label><div class=\"sk-toggleable__content\"><pre>DecisionTreeRegressor(max_depth=3)</pre></div></div></div></div></div>"
      ],
      "text/plain": [
       "DecisionTreeRegressor(max_depth=3)"
      ]
     },
     "execution_count": 19,
     "metadata": {},
     "output_type": "execute_result"
    }
   ],
   "source": [
    "from sklearn.tree import DecisionTreeRegressor\n",
    "reg = DecisionTreeRegressor(max_depth=3)\n",
    "reg.fit(x_train, y_train)"
   ]
  },
  {
   "cell_type": "code",
   "execution_count": 20,
   "metadata": {},
   "outputs": [
    {
     "data": {
      "image/svg+xml": "<?xml version=\"1.0\" encoding=\"UTF-8\" standalone=\"no\"?>\n<!DOCTYPE svg PUBLIC \"-//W3C//DTD SVG 1.1//EN\"\n \"http://www.w3.org/Graphics/SVG/1.1/DTD/svg11.dtd\">\n<!-- Generated by graphviz version 2.38.0 (20140413.2041)\n -->\n<!-- Title: Tree Pages: 1 -->\n<svg width=\"1406pt\" height=\"373pt\"\n viewBox=\"0.00 0.00 1406.00 373.00\" xmlns=\"http://www.w3.org/2000/svg\" xmlns:xlink=\"http://www.w3.org/1999/xlink\">\n<g id=\"graph0\" class=\"graph\" transform=\"scale(1 1) rotate(0) translate(4 369)\">\n<title>Tree</title>\n<polygon fill=\"white\" stroke=\"none\" points=\"-4,4 -4,-369 1402,-369 1402,4 -4,4\"/>\n<!-- 0 -->\n<g id=\"node1\" class=\"node\"><title>0</title>\n<polygon fill=\"#f8deca\" stroke=\"black\" points=\"778,-365 619,-365 619,-297 778,-297 778,-365\"/>\n<text text-anchor=\"middle\" x=\"698.5\" y=\"-349.8\" font-family=\"Helvetica,sans-Serif\" font-size=\"14.00\">MedInc &lt;= 5.047</text>\n<text text-anchor=\"middle\" x=\"698.5\" y=\"-334.8\" font-family=\"Helvetica,sans-Serif\" font-size=\"14.00\">squared_error = 1.334</text>\n<text text-anchor=\"middle\" x=\"698.5\" y=\"-319.8\" font-family=\"Helvetica,sans-Serif\" font-size=\"14.00\">samples = 18576</text>\n<text text-anchor=\"middle\" x=\"698.5\" y=\"-304.8\" font-family=\"Helvetica,sans-Serif\" font-size=\"14.00\">value = 2.068</text>\n</g>\n<!-- 1 -->\n<g id=\"node2\" class=\"node\"><title>1</title>\n<polygon fill=\"#fbeade\" stroke=\"black\" points=\"601,-261 442,-261 442,-193 601,-193 601,-261\"/>\n<text text-anchor=\"middle\" x=\"521.5\" y=\"-245.8\" font-family=\"Helvetica,sans-Serif\" font-size=\"14.00\">MedInc &lt;= 3.074</text>\n<text text-anchor=\"middle\" x=\"521.5\" y=\"-230.8\" font-family=\"Helvetica,sans-Serif\" font-size=\"14.00\">squared_error = 0.839</text>\n<text text-anchor=\"middle\" x=\"521.5\" y=\"-215.8\" font-family=\"Helvetica,sans-Serif\" font-size=\"14.00\">samples = 14664</text>\n<text text-anchor=\"middle\" x=\"521.5\" y=\"-200.8\" font-family=\"Helvetica,sans-Serif\" font-size=\"14.00\">value = 1.736</text>\n</g>\n<!-- 0&#45;&gt;1 -->\n<g id=\"edge1\" class=\"edge\"><title>0&#45;&gt;1</title>\n<path fill=\"none\" stroke=\"black\" d=\"M641.033,-296.884C624.099,-287.125 605.43,-276.366 587.98,-266.31\"/>\n<polygon fill=\"black\" stroke=\"black\" points=\"589.393,-263.085 578.981,-261.125 585.898,-269.15 589.393,-263.085\"/>\n<text text-anchor=\"middle\" x=\"585.471\" y=\"-281.568\" font-family=\"Helvetica,sans-Serif\" font-size=\"14.00\">True</text>\n</g>\n<!-- 8 -->\n<g id=\"node9\" class=\"node\"><title>8</title>\n<polygon fill=\"#efaf82\" stroke=\"black\" points=\"955,-261 796,-261 796,-193 955,-193 955,-261\"/>\n<text text-anchor=\"middle\" x=\"875.5\" y=\"-245.8\" font-family=\"Helvetica,sans-Serif\" font-size=\"14.00\">MedInc &lt;= 6.82</text>\n<text text-anchor=\"middle\" x=\"875.5\" y=\"-230.8\" font-family=\"Helvetica,sans-Serif\" font-size=\"14.00\">squared_error = 1.221</text>\n<text text-anchor=\"middle\" x=\"875.5\" y=\"-215.8\" font-family=\"Helvetica,sans-Serif\" font-size=\"14.00\">samples = 3912</text>\n<text text-anchor=\"middle\" x=\"875.5\" y=\"-200.8\" font-family=\"Helvetica,sans-Serif\" font-size=\"14.00\">value = 3.315</text>\n</g>\n<!-- 0&#45;&gt;8 -->\n<g id=\"edge8\" class=\"edge\"><title>0&#45;&gt;8</title>\n<path fill=\"none\" stroke=\"black\" d=\"M755.967,-296.884C772.901,-287.125 791.57,-276.366 809.02,-266.31\"/>\n<polygon fill=\"black\" stroke=\"black\" points=\"811.102,-269.15 818.019,-261.125 807.607,-263.085 811.102,-269.15\"/>\n<text text-anchor=\"middle\" x=\"811.529\" y=\"-281.568\" font-family=\"Helvetica,sans-Serif\" font-size=\"14.00\">False</text>\n</g>\n<!-- 2 -->\n<g id=\"node3\" class=\"node\"><title>2</title>\n<polygon fill=\"#fef8f4\" stroke=\"black\" points=\"336,-157 177,-157 177,-89 336,-89 336,-157\"/>\n<text text-anchor=\"middle\" x=\"256.5\" y=\"-141.8\" font-family=\"Helvetica,sans-Serif\" font-size=\"14.00\">AveRooms &lt;= 4.314</text>\n<text text-anchor=\"middle\" x=\"256.5\" y=\"-126.8\" font-family=\"Helvetica,sans-Serif\" font-size=\"14.00\">squared_error = 0.567</text>\n<text text-anchor=\"middle\" x=\"256.5\" y=\"-111.8\" font-family=\"Helvetica,sans-Serif\" font-size=\"14.00\">samples = 7091</text>\n<text text-anchor=\"middle\" x=\"256.5\" y=\"-96.8\" font-family=\"Helvetica,sans-Serif\" font-size=\"14.00\">value = 1.361</text>\n</g>\n<!-- 1&#45;&gt;2 -->\n<g id=\"edge2\" class=\"edge\"><title>1&#45;&gt;2</title>\n<path fill=\"none\" stroke=\"black\" d=\"M441.991,-195.397C411.734,-183.75 377.062,-170.405 345.944,-158.428\"/>\n<polygon fill=\"black\" stroke=\"black\" points=\"347,-155.084 336.41,-154.758 344.486,-161.617 347,-155.084\"/>\n</g>\n<!-- 5 -->\n<g id=\"node6\" class=\"node\"><title>5</title>\n<polygon fill=\"#f8ddc9\" stroke=\"black\" points=\"601,-157 442,-157 442,-89 601,-89 601,-157\"/>\n<text text-anchor=\"middle\" x=\"521.5\" y=\"-141.8\" font-family=\"Helvetica,sans-Serif\" font-size=\"14.00\">AveOccup &lt;= 2.344</text>\n<text text-anchor=\"middle\" x=\"521.5\" y=\"-126.8\" font-family=\"Helvetica,sans-Serif\" font-size=\"14.00\">squared_error = 0.838</text>\n<text text-anchor=\"middle\" x=\"521.5\" y=\"-111.8\" font-family=\"Helvetica,sans-Serif\" font-size=\"14.00\">samples = 7573</text>\n<text text-anchor=\"middle\" x=\"521.5\" y=\"-96.8\" font-family=\"Helvetica,sans-Serif\" font-size=\"14.00\">value = 2.088</text>\n</g>\n<!-- 1&#45;&gt;5 -->\n<g id=\"edge5\" class=\"edge\"><title>1&#45;&gt;5</title>\n<path fill=\"none\" stroke=\"black\" d=\"M521.5,-192.884C521.5,-184.778 521.5,-175.982 521.5,-167.472\"/>\n<polygon fill=\"black\" stroke=\"black\" points=\"525,-167.299 521.5,-157.299 518,-167.299 525,-167.299\"/>\n</g>\n<!-- 3 -->\n<g id=\"node4\" class=\"node\"><title>3</title>\n<polygon fill=\"#fbeee4\" stroke=\"black\" points=\"159,-53 0,-53 0,-0 159,-0 159,-53\"/>\n<text text-anchor=\"middle\" x=\"79.5\" y=\"-37.8\" font-family=\"Helvetica,sans-Serif\" font-size=\"14.00\">squared_error = 0.683</text>\n<text text-anchor=\"middle\" x=\"79.5\" y=\"-22.8\" font-family=\"Helvetica,sans-Serif\" font-size=\"14.00\">samples = 2987</text>\n<text text-anchor=\"middle\" x=\"79.5\" y=\"-7.8\" font-family=\"Helvetica,sans-Serif\" font-size=\"14.00\">value = 1.628</text>\n</g>\n<!-- 2&#45;&gt;3 -->\n<g id=\"edge3\" class=\"edge\"><title>2&#45;&gt;3</title>\n<path fill=\"none\" stroke=\"black\" d=\"M194.594,-88.9485C175.661,-78.8399 154.937,-67.7756 136.356,-57.8555\"/>\n<polygon fill=\"black\" stroke=\"black\" points=\"137.894,-54.709 127.424,-53.0867 134.597,-60.884 137.894,-54.709\"/>\n</g>\n<!-- 4 -->\n<g id=\"node5\" class=\"node\"><title>4</title>\n<polygon fill=\"#ffffff\" stroke=\"black\" points=\"336,-53 177,-53 177,-0 336,-0 336,-53\"/>\n<text text-anchor=\"middle\" x=\"256.5\" y=\"-37.8\" font-family=\"Helvetica,sans-Serif\" font-size=\"14.00\">squared_error = 0.393</text>\n<text text-anchor=\"middle\" x=\"256.5\" y=\"-22.8\" font-family=\"Helvetica,sans-Serif\" font-size=\"14.00\">samples = 4104</text>\n<text text-anchor=\"middle\" x=\"256.5\" y=\"-7.8\" font-family=\"Helvetica,sans-Serif\" font-size=\"14.00\">value = 1.166</text>\n</g>\n<!-- 2&#45;&gt;4 -->\n<g id=\"edge4\" class=\"edge\"><title>2&#45;&gt;4</title>\n<path fill=\"none\" stroke=\"black\" d=\"M256.5,-88.9485C256.5,-80.7153 256.5,-71.848 256.5,-63.4814\"/>\n<polygon fill=\"black\" stroke=\"black\" points=\"260,-63.2367 256.5,-53.2367 253,-63.2367 260,-63.2367\"/>\n</g>\n<!-- 6 -->\n<g id=\"node7\" class=\"node\"><title>6</title>\n<polygon fill=\"#f2c19e\" stroke=\"black\" points=\"513,-53 354,-53 354,-0 513,-0 513,-53\"/>\n<text text-anchor=\"middle\" x=\"433.5\" y=\"-37.8\" font-family=\"Helvetica,sans-Serif\" font-size=\"14.00\">squared_error = 1.313</text>\n<text text-anchor=\"middle\" x=\"433.5\" y=\"-22.8\" font-family=\"Helvetica,sans-Serif\" font-size=\"14.00\">samples = 1641</text>\n<text text-anchor=\"middle\" x=\"433.5\" y=\"-7.8\" font-family=\"Helvetica,sans-Serif\" font-size=\"14.00\">value = 2.828</text>\n</g>\n<!-- 5&#45;&gt;6 -->\n<g id=\"edge6\" class=\"edge\"><title>5&#45;&gt;6</title>\n<path fill=\"none\" stroke=\"black\" d=\"M490.722,-88.9485C482.203,-79.8005 472.955,-69.8697 464.428,-60.7126\"/>\n<polygon fill=\"black\" stroke=\"black\" points=\"466.843,-58.1698 457.466,-53.2367 461.72,-62.9402 466.843,-58.1698\"/>\n</g>\n<!-- 7 -->\n<g id=\"node8\" class=\"node\"><title>7</title>\n<polygon fill=\"#fae4d5\" stroke=\"black\" points=\"690,-53 531,-53 531,-0 690,-0 690,-53\"/>\n<text text-anchor=\"middle\" x=\"610.5\" y=\"-37.8\" font-family=\"Helvetica,sans-Serif\" font-size=\"14.00\">squared_error = 0.513</text>\n<text text-anchor=\"middle\" x=\"610.5\" y=\"-22.8\" font-family=\"Helvetica,sans-Serif\" font-size=\"14.00\">samples = 5932</text>\n<text text-anchor=\"middle\" x=\"610.5\" y=\"-7.8\" font-family=\"Helvetica,sans-Serif\" font-size=\"14.00\">value = 1.883</text>\n</g>\n<!-- 5&#45;&gt;7 -->\n<g id=\"edge7\" class=\"edge\"><title>5&#45;&gt;7</title>\n<path fill=\"none\" stroke=\"black\" d=\"M552.628,-88.9485C561.243,-79.8005 570.596,-69.8697 579.22,-60.7126\"/>\n<polygon fill=\"black\" stroke=\"black\" points=\"581.953,-62.9161 586.261,-53.2367 576.857,-58.1168 581.953,-62.9161\"/>\n</g>\n<!-- 9 -->\n<g id=\"node10\" class=\"node\"><title>9</title>\n<polygon fill=\"#f2be99\" stroke=\"black\" points=\"955,-157 796,-157 796,-89 955,-89 955,-157\"/>\n<text text-anchor=\"middle\" x=\"875.5\" y=\"-141.8\" font-family=\"Helvetica,sans-Serif\" font-size=\"14.00\">AveOccup &lt;= 2.578</text>\n<text text-anchor=\"middle\" x=\"875.5\" y=\"-126.8\" font-family=\"Helvetica,sans-Serif\" font-size=\"14.00\">squared_error = 0.892</text>\n<text text-anchor=\"middle\" x=\"875.5\" y=\"-111.8\" font-family=\"Helvetica,sans-Serif\" font-size=\"14.00\">samples = 2701</text>\n<text text-anchor=\"middle\" x=\"875.5\" y=\"-96.8\" font-family=\"Helvetica,sans-Serif\" font-size=\"14.00\">value = 2.913</text>\n</g>\n<!-- 8&#45;&gt;9 -->\n<g id=\"edge9\" class=\"edge\"><title>8&#45;&gt;9</title>\n<path fill=\"none\" stroke=\"black\" d=\"M875.5,-192.884C875.5,-184.778 875.5,-175.982 875.5,-167.472\"/>\n<polygon fill=\"black\" stroke=\"black\" points=\"879,-167.299 875.5,-157.299 872,-167.299 879,-167.299\"/>\n</g>\n<!-- 12 -->\n<g id=\"node13\" class=\"node\"><title>12</title>\n<polygon fill=\"#e88e4e\" stroke=\"black\" points=\"1221,-157 1062,-157 1062,-89 1221,-89 1221,-157\"/>\n<text text-anchor=\"middle\" x=\"1141.5\" y=\"-141.8\" font-family=\"Helvetica,sans-Serif\" font-size=\"14.00\">MedInc &lt;= 7.815</text>\n<text text-anchor=\"middle\" x=\"1141.5\" y=\"-126.8\" font-family=\"Helvetica,sans-Serif\" font-size=\"14.00\">squared_error = 0.796</text>\n<text text-anchor=\"middle\" x=\"1141.5\" y=\"-111.8\" font-family=\"Helvetica,sans-Serif\" font-size=\"14.00\">samples = 1211</text>\n<text text-anchor=\"middle\" x=\"1141.5\" y=\"-96.8\" font-family=\"Helvetica,sans-Serif\" font-size=\"14.00\">value = 4.209</text>\n</g>\n<!-- 8&#45;&gt;12 -->\n<g id=\"edge12\" class=\"edge\"><title>8&#45;&gt;12</title>\n<path fill=\"none\" stroke=\"black\" d=\"M955.309,-195.397C985.819,-183.697 1020.8,-170.283 1052.15,-158.264\"/>\n<polygon fill=\"black\" stroke=\"black\" points=\"1053.66,-161.43 1061.75,-154.582 1051.16,-154.894 1053.66,-161.43\"/>\n</g>\n<!-- 10 -->\n<g id=\"node11\" class=\"node\"><title>10</title>\n<polygon fill=\"#eda673\" stroke=\"black\" points=\"867,-53 708,-53 708,-0 867,-0 867,-53\"/>\n<text text-anchor=\"middle\" x=\"787.5\" y=\"-37.8\" font-family=\"Helvetica,sans-Serif\" font-size=\"14.00\">squared_error = 1.031</text>\n<text text-anchor=\"middle\" x=\"787.5\" y=\"-22.8\" font-family=\"Helvetica,sans-Serif\" font-size=\"14.00\">samples = 759</text>\n<text text-anchor=\"middle\" x=\"787.5\" y=\"-7.8\" font-family=\"Helvetica,sans-Serif\" font-size=\"14.00\">value = 3.573</text>\n</g>\n<!-- 9&#45;&gt;10 -->\n<g id=\"edge10\" class=\"edge\"><title>9&#45;&gt;10</title>\n<path fill=\"none\" stroke=\"black\" d=\"M844.722,-88.9485C836.203,-79.8005 826.955,-69.8697 818.428,-60.7126\"/>\n<polygon fill=\"black\" stroke=\"black\" points=\"820.843,-58.1698 811.466,-53.2367 815.72,-62.9402 820.843,-58.1698\"/>\n</g>\n<!-- 11 -->\n<g id=\"node12\" class=\"node\"><title>11</title>\n<polygon fill=\"#f4c8a8\" stroke=\"black\" points=\"1044,-53 885,-53 885,-0 1044,-0 1044,-53\"/>\n<text text-anchor=\"middle\" x=\"964.5\" y=\"-37.8\" font-family=\"Helvetica,sans-Serif\" font-size=\"14.00\">squared_error = 0.602</text>\n<text text-anchor=\"middle\" x=\"964.5\" y=\"-22.8\" font-family=\"Helvetica,sans-Serif\" font-size=\"14.00\">samples = 1942</text>\n<text text-anchor=\"middle\" x=\"964.5\" y=\"-7.8\" font-family=\"Helvetica,sans-Serif\" font-size=\"14.00\">value = 2.656</text>\n</g>\n<!-- 9&#45;&gt;11 -->\n<g id=\"edge11\" class=\"edge\"><title>9&#45;&gt;11</title>\n<path fill=\"none\" stroke=\"black\" d=\"M906.628,-88.9485C915.243,-79.8005 924.596,-69.8697 933.22,-60.7126\"/>\n<polygon fill=\"black\" stroke=\"black\" points=\"935.953,-62.9161 940.261,-53.2367 930.857,-58.1168 935.953,-62.9161\"/>\n</g>\n<!-- 13 -->\n<g id=\"node14\" class=\"node\"><title>13</title>\n<polygon fill=\"#eba06a\" stroke=\"black\" points=\"1221,-53 1062,-53 1062,-0 1221,-0 1221,-53\"/>\n<text text-anchor=\"middle\" x=\"1141.5\" y=\"-37.8\" font-family=\"Helvetica,sans-Serif\" font-size=\"14.00\">squared_error = 0.786</text>\n<text text-anchor=\"middle\" x=\"1141.5\" y=\"-22.8\" font-family=\"Helvetica,sans-Serif\" font-size=\"14.00\">samples = 505</text>\n<text text-anchor=\"middle\" x=\"1141.5\" y=\"-7.8\" font-family=\"Helvetica,sans-Serif\" font-size=\"14.00\">value = 3.715</text>\n</g>\n<!-- 12&#45;&gt;13 -->\n<g id=\"edge13\" class=\"edge\"><title>12&#45;&gt;13</title>\n<path fill=\"none\" stroke=\"black\" d=\"M1141.5,-88.9485C1141.5,-80.7153 1141.5,-71.848 1141.5,-63.4814\"/>\n<polygon fill=\"black\" stroke=\"black\" points=\"1145,-63.2367 1141.5,-53.2367 1138,-63.2367 1145,-63.2367\"/>\n</g>\n<!-- 14 -->\n<g id=\"node15\" class=\"node\"><title>14</title>\n<polygon fill=\"#e58139\" stroke=\"black\" points=\"1398,-53 1239,-53 1239,-0 1398,-0 1398,-53\"/>\n<text text-anchor=\"middle\" x=\"1318.5\" y=\"-37.8\" font-family=\"Helvetica,sans-Serif\" font-size=\"14.00\">squared_error = 0.502</text>\n<text text-anchor=\"middle\" x=\"1318.5\" y=\"-22.8\" font-family=\"Helvetica,sans-Serif\" font-size=\"14.00\">samples = 706</text>\n<text text-anchor=\"middle\" x=\"1318.5\" y=\"-7.8\" font-family=\"Helvetica,sans-Serif\" font-size=\"14.00\">value = 4.563</text>\n</g>\n<!-- 12&#45;&gt;14 -->\n<g id=\"edge14\" class=\"edge\"><title>12&#45;&gt;14</title>\n<path fill=\"none\" stroke=\"black\" d=\"M1203.41,-88.9485C1222.34,-78.8399 1243.06,-67.7756 1261.64,-57.8555\"/>\n<polygon fill=\"black\" stroke=\"black\" points=\"1263.4,-60.884 1270.58,-53.0867 1260.11,-54.709 1263.4,-60.884\"/>\n</g>\n</g>\n</svg>\n",
      "text/plain": [
       "<graphviz.sources.Source at 0x1eb6db363d0>"
      ]
     },
     "execution_count": 20,
     "metadata": {},
     "output_type": "execute_result"
    }
   ],
   "source": [
    "import graphviz\n",
    "from sklearn.tree import export_graphviz\n",
    "g = export_graphviz(reg, out_file= None,\n",
    "                    feature_names= ca[\"feature_names\"],\n",
    "                    filled= True)\n",
    "\n",
    "graphviz.Source(g)\n",
    "# 此圖非常大，要跑的時間很久，所以先註解起來   (過擬合)\n",
    "# 因 (max_depth=5) 設定參數防止過擬合了，所以可以 print 圖"
   ]
  },
  {
   "cell_type": "code",
   "execution_count": 21,
   "metadata": {},
   "outputs": [
    {
     "name": "stdout",
     "output_type": "stream",
     "text": [
      "預測結果:  [1.6278829260127265, 2.655749891864059, 1.1659956335282684, 1.8827979214430184, 1.8827979214430184, 1.8827979214430184, 1.6278829260127265, 1.8827979214430184, 1.1659956335282684, 2.655749891864059, 2.655749891864059, 2.655749891864059, 2.8279252346130495, 2.655749891864059, 1.6278829260127265, 1.8827979214430184, 1.1659956335282684, 1.8827979214430184, 2.8279252346130495, 4.563246855524104, 2.655749891864059, 1.8827979214430184, 2.655749891864059, 1.6278829260127265, 1.6278829260127265, 1.6278829260127265, 1.1659956335282684, 4.563246855524104, 1.6278829260127265, 2.8279252346130495, 1.8827979214430184, 1.8827979214430184, 1.1659956335282684, 1.8827979214430184, 1.1659956335282684, 2.655749891864059, 3.7146294653465324, 4.563246855524104, 1.8827979214430184, 1.8827979214430184, 1.8827979214430184, 1.8827979214430184, 1.1659956335282684, 3.5729582345191084, 1.8827979214430184, 1.1659956335282684, 2.8279252346130495, 1.6278829260127265, 2.655749891864059, 1.8827979214430184, 1.8827979214430184, 1.1659956335282684, 1.6278829260127265, 1.1659956335282684, 1.1659956335282684, 2.8279252346130495, 2.655749891864059, 1.1659956335282684, 2.655749891864059, 1.8827979214430184, 1.1659956335282684, 1.8827979214430184, 2.655749891864059, 1.8827979214430184, 4.563246855524104, 1.8827979214430184, 4.563246855524104, 2.655749891864059, 1.1659956335282684, 1.8827979214430184, 1.8827979214430184, 3.5729582345191084, 1.8827979214430184, 1.8827979214430184, 2.655749891864059, 4.563246855524104, 1.8827979214430184, 2.655749891864059, 1.6278829260127265, 1.8827979214430184, 1.8827979214430184, 3.7146294653465324, 1.8827979214430184, 1.8827979214430184, 1.8827979214430184, 2.655749891864059, 1.8827979214430184, 1.1659956335282684, 1.1659956335282684, 1.6278829260127265, 1.1659956335282684, 1.8827979214430184, 2.655749891864059, 1.1659956335282684, 1.1659956335282684, 2.8279252346130495, 1.8827979214430184, 3.5729582345191084, 1.8827979214430184, 4.563246855524104, 1.1659956335282684, 1.8827979214430184, 2.8279252346130495, 2.8279252346130495, 1.1659956335282684, 1.6278829260127265, 4.563246855524104, 2.655749891864059, 3.7146294653465324, 1.8827979214430184, 2.8279252346130495, 2.655749891864059, 1.1659956335282684, 2.8279252346130495, 3.7146294653465324, 1.6278829260127265, 2.655749891864059, 1.1659956335282684, 1.1659956335282684, 1.8827979214430184, 1.6278829260127265, 1.1659956335282684, 3.5729582345191084, 3.7146294653465324, 1.1659956335282684, 2.8279252346130495, 1.1659956335282684, 1.1659956335282684, 1.8827979214430184, 1.1659956335282684, 2.8279252346130495, 2.8279252346130495, 1.1659956335282684, 1.8827979214430184, 1.1659956335282684, 1.8827979214430184, 2.655749891864059, 1.1659956335282684, 1.1659956335282684, 2.655749891864059, 1.8827979214430184, 1.8827979214430184, 1.8827979214430184, 1.8827979214430184, 1.1659956335282684, 1.8827979214430184, 3.5729582345191084, 1.6278829260127265, 1.8827979214430184, 1.8827979214430184, 1.6278829260127265, 1.6278829260127265, 1.8827979214430184, 1.8827979214430184, 1.1659956335282684, 1.1659956335282684, 1.8827979214430184, 1.8827979214430184, 3.5729582345191084, 2.8279252346130495, 4.563246855524104, 1.8827979214430184, 1.1659956335282684, 1.8827979214430184, 1.8827979214430184, 2.8279252346130495, 3.5729582345191084, 1.8827979214430184, 1.1659956335282684, 2.8279252346130495, 1.6278829260127265, 1.8827979214430184, 1.6278829260127265, 1.1659956335282684, 1.8827979214430184, 2.655749891864059, 1.1659956335282684, 1.6278829260127265, 1.8827979214430184, 1.8827979214430184, 1.1659956335282684, 1.8827979214430184, 1.8827979214430184, 2.655749891864059, 1.1659956335282684, 2.655749891864059, 2.8279252346130495, 1.8827979214430184, 1.8827979214430184, 2.8279252346130495, 2.8279252346130495, 4.563246855524104, 1.1659956335282684, 1.8827979214430184, 1.8827979214430184, 1.8827979214430184, 2.655749891864059, 1.8827979214430184, 1.1659956335282684, 1.8827979214430184, 3.5729582345191084, 2.8279252346130495, 2.8279252346130495, 3.5729582345191084, 2.655749891864059, 2.655749891864059, 3.5729582345191084, 2.8279252346130495, 2.8279252346130495, 1.6278829260127265, 1.6278829260127265, 2.8279252346130495, 1.8827979214430184, 1.8827979214430184, 1.1659956335282684, 1.6278829260127265, 1.6278829260127265, 1.6278829260127265, 1.8827979214430184, 1.8827979214430184, 1.8827979214430184, 3.7146294653465324, 1.1659956335282684, 1.1659956335282684, 1.6278829260127265, 1.8827979214430184, 2.655749891864059, 1.6278829260127265, 1.8827979214430184, 1.8827979214430184, 1.6278829260127265, 1.6278829260127265, 1.8827979214430184, 1.6278829260127265, 1.8827979214430184, 2.8279252346130495, 1.1659956335282684, 4.563246855524104, 1.6278829260127265, 1.1659956335282684, 1.8827979214430184, 1.8827979214430184, 1.1659956335282684, 1.1659956335282684, 1.1659956335282684, 1.8827979214430184, 1.8827979214430184, 1.8827979214430184, 1.1659956335282684, 1.6278829260127265, 1.6278829260127265, 1.8827979214430184, 1.8827979214430184, 2.655749891864059, 4.563246855524104, 1.1659956335282684, 1.8827979214430184, 1.8827979214430184, 1.1659956335282684, 1.8827979214430184, 4.563246855524104, 1.8827979214430184, 1.1659956335282684, 2.8279252346130495, 1.8827979214430184, 1.6278829260127265, 2.655749891864059, 1.8827979214430184, 1.6278829260127265, 1.6278829260127265, 1.8827979214430184, 1.8827979214430184, 2.655749891864059, 1.8827979214430184, 2.655749891864059, 1.6278829260127265, 3.5729582345191084, 2.8279252346130495, 1.1659956335282684, 1.6278829260127265, 1.6278829260127265, 2.655749891864059, 1.8827979214430184, 1.8827979214430184, 1.6278829260127265, 1.1659956335282684, 2.655749891864059, 2.655749891864059, 1.8827979214430184, 3.5729582345191084, 4.563246855524104, 2.655749891864059, 1.8827979214430184, 3.5729582345191084, 2.8279252346130495, 1.8827979214430184, 1.8827979214430184, 1.1659956335282684, 2.655749891864059, 1.6278829260127265, 1.6278829260127265, 1.6278829260127265, 1.6278829260127265, 4.563246855524104, 2.8279252346130495, 1.8827979214430184, 1.1659956335282684, 2.8279252346130495, 1.8827979214430184, 1.8827979214430184, 3.5729582345191084, 1.1659956335282684, 4.563246855524104, 1.6278829260127265, 1.8827979214430184, 2.8279252346130495, 1.1659956335282684, 2.655749891864059, 1.1659956335282684, 1.1659956335282684, 1.6278829260127265, 1.6278829260127265, 1.1659956335282684, 1.8827979214430184, 1.8827979214430184, 1.6278829260127265, 1.8827979214430184, 2.655749891864059, 3.7146294653465324, 1.8827979214430184, 1.8827979214430184, 4.563246855524104, 1.6278829260127265, 1.1659956335282684, 1.1659956335282684, 1.8827979214430184, 2.8279252346130495, 2.8279252346130495, 2.655749891864059, 1.1659956335282684, 1.8827979214430184, 1.6278829260127265, 1.8827979214430184, 1.8827979214430184, 1.6278829260127265, 1.8827979214430184, 1.1659956335282684, 1.8827979214430184, 1.1659956335282684, 2.655749891864059, 3.5729582345191084, 1.8827979214430184, 1.1659956335282684, 1.8827979214430184, 2.655749891864059, 1.1659956335282684, 1.8827979214430184, 2.655749891864059, 1.8827979214430184, 1.1659956335282684, 2.655749891864059, 1.6278829260127265, 2.655749891864059, 2.655749891864059, 1.8827979214430184, 1.8827979214430184, 1.8827979214430184, 3.7146294653465324, 1.6278829260127265, 1.8827979214430184, 2.8279252346130495, 2.8279252346130495, 1.1659956335282684, 2.655749891864059, 1.6278829260127265, 1.8827979214430184, 3.7146294653465324, 2.655749891864059, 1.6278829260127265, 1.8827979214430184, 2.655749891864059, 2.8279252346130495, 1.6278829260127265, 1.8827979214430184, 2.8279252346130495, 2.655749891864059, 2.8279252346130495, 1.1659956335282684, 1.1659956335282684, 1.8827979214430184, 2.8279252346130495, 1.1659956335282684, 2.655749891864059, 1.6278829260127265, 2.8279252346130495, 1.8827979214430184, 1.8827979214430184, 1.8827979214430184, 2.8279252346130495, 1.6278829260127265, 1.8827979214430184, 1.6278829260127265, 1.6278829260127265, 1.1659956335282684, 1.6278829260127265, 1.8827979214430184, 1.8827979214430184, 1.6278829260127265, 4.563246855524104, 1.1659956335282684, 3.7146294653465324, 1.1659956335282684, 1.8827979214430184, 2.655749891864059, 4.563246855524104, 1.8827979214430184, 1.6278829260127265, 2.655749891864059, 1.1659956335282684, 1.8827979214430184, 1.8827979214430184, 1.8827979214430184, 1.1659956335282684, 3.5729582345191084, 1.6278829260127265, 2.8279252346130495, 1.1659956335282684, 2.8279252346130495, 1.6278829260127265, 1.1659956335282684, 1.8827979214430184, 1.1659956335282684, 1.1659956335282684, 2.655749891864059, 1.8827979214430184, 1.8827979214430184, 1.8827979214430184, 1.8827979214430184, 1.8827979214430184, 2.655749891864059, 1.8827979214430184, 2.655749891864059, 1.1659956335282684, 2.655749891864059, 3.7146294653465324, 1.8827979214430184, 1.1659956335282684, 1.8827979214430184, 1.8827979214430184, 1.8827979214430184, 1.1659956335282684, 2.8279252346130495, 1.8827979214430184, 1.1659956335282684, 1.6278829260127265, 4.563246855524104, 1.8827979214430184, 1.1659956335282684, 1.8827979214430184, 4.563246855524104, 1.6278829260127265, 2.655749891864059, 1.6278829260127265, 2.8279252346130495, 4.563246855524104, 1.1659956335282684, 3.5729582345191084, 3.5729582345191084, 1.8827979214430184, 1.8827979214430184, 1.8827979214430184, 1.8827979214430184, 1.8827979214430184, 3.7146294653465324, 1.8827979214430184, 1.1659956335282684, 1.1659956335282684, 1.1659956335282684, 1.8827979214430184, 1.1659956335282684, 2.655749891864059, 1.6278829260127265, 1.8827979214430184, 2.655749891864059, 1.8827979214430184, 1.1659956335282684, 1.8827979214430184, 1.8827979214430184, 1.8827979214430184, 1.1659956335282684, 1.8827979214430184, 2.655749891864059, 1.6278829260127265, 1.1659956335282684, 1.6278829260127265, 3.5729582345191084, 1.6278829260127265, 1.8827979214430184, 1.1659956335282684, 2.655749891864059, 1.8827979214430184, 1.1659956335282684, 1.8827979214430184, 1.6278829260127265, 1.6278829260127265, 1.1659956335282684, 1.8827979214430184, 1.6278829260127265, 2.655749891864059, 1.8827979214430184, 1.1659956335282684, 2.655749891864059, 1.6278829260127265, 1.8827979214430184, 2.655749891864059, 2.655749891864059, 4.563246855524104, 1.8827979214430184, 1.1659956335282684, 1.6278829260127265, 2.8279252346130495, 1.8827979214430184, 4.563246855524104, 1.8827979214430184, 1.6278829260127265, 1.8827979214430184, 1.1659956335282684, 1.1659956335282684, 1.8827979214430184, 3.5729582345191084, 3.5729582345191084, 3.7146294653465324, 1.8827979214430184, 1.1659956335282684, 1.1659956335282684, 1.8827979214430184, 4.563246855524104, 1.8827979214430184, 3.5729582345191084, 1.1659956335282684, 1.8827979214430184, 1.8827979214430184, 1.8827979214430184, 1.6278829260127265, 1.8827979214430184, 2.8279252346130495, 1.6278829260127265, 1.1659956335282684, 1.8827979214430184, 1.1659956335282684, 1.1659956335282684, 1.1659956335282684, 1.8827979214430184, 1.6278829260127265, 1.8827979214430184, 1.8827979214430184, 2.8279252346130495, 1.8827979214430184, 2.8279252346130495, 1.8827979214430184, 1.6278829260127265, 1.6278829260127265, 2.655749891864059, 1.6278829260127265, 1.8827979214430184, 2.8279252346130495, 1.6278829260127265, 2.8279252346130495, 1.8827979214430184, 1.8827979214430184, 1.1659956335282684, 1.8827979214430184, 1.6278829260127265, 1.6278829260127265, 1.1659956335282684, 1.8827979214430184, 1.8827979214430184, 1.1659956335282684, 1.1659956335282684, 2.8279252346130495, 1.1659956335282684, 3.5729582345191084, 1.1659956335282684, 1.1659956335282684, 1.8827979214430184, 1.6278829260127265, 1.1659956335282684, 3.7146294653465324, 3.5729582345191084, 3.5729582345191084, 1.6278829260127265, 1.1659956335282684, 1.8827979214430184, 1.6278829260127265, 1.6278829260127265, 2.655749891864059, 1.6278829260127265, 1.6278829260127265, 1.1659956335282684, 1.1659956335282684, 1.6278829260127265, 1.8827979214430184, 3.5729582345191084, 1.1659956335282684, 2.655749891864059, 1.6278829260127265, 1.8827979214430184, 1.1659956335282684, 2.655749891864059, 1.8827979214430184, 1.6278829260127265, 1.6278829260127265, 1.1659956335282684, 1.8827979214430184, 1.8827979214430184, 1.1659956335282684, 1.8827979214430184, 2.8279252346130495, 2.655749891864059, 2.8279252346130495, 1.8827979214430184, 1.1659956335282684, 1.1659956335282684, 1.6278829260127265, 1.8827979214430184, 2.8279252346130495, 1.1659956335282684, 3.7146294653465324, 1.8827979214430184, 1.1659956335282684, 3.7146294653465324, 2.8279252346130495, 1.1659956335282684, 1.8827979214430184, 3.7146294653465324, 2.655749891864059, 2.8279252346130495, 4.563246855524104, 1.6278829260127265, 1.8827979214430184, 1.8827979214430184, 1.8827979214430184, 1.8827979214430184, 1.1659956335282684, 1.1659956335282684, 1.1659956335282684, 1.1659956335282684, 1.6278829260127265, 2.655749891864059, 3.5729582345191084, 1.1659956335282684, 2.655749891864059, 1.8827979214430184, 1.1659956335282684, 2.655749891864059, 2.8279252346130495, 2.655749891864059, 1.8827979214430184, 4.563246855524104, 1.6278829260127265, 1.6278829260127265, 2.655749891864059, 1.8827979214430184, 1.6278829260127265, 1.8827979214430184, 1.1659956335282684, 1.1659956335282684, 1.8827979214430184, 2.8279252346130495, 1.8827979214430184, 2.655749891864059, 1.1659956335282684, 1.1659956335282684, 1.1659956335282684, 2.8279252346130495, 2.8279252346130495, 2.655749891864059, 1.8827979214430184, 1.8827979214430184, 2.655749891864059, 1.6278829260127265, 1.1659956335282684, 1.8827979214430184, 1.8827979214430184, 1.8827979214430184, 1.8827979214430184, 3.7146294653465324, 1.8827979214430184, 1.8827979214430184, 2.8279252346130495, 2.655749891864059, 1.1659956335282684, 3.5729582345191084, 1.1659956335282684, 2.8279252346130495, 1.1659956335282684, 1.8827979214430184, 1.8827979214430184, 1.8827979214430184, 1.8827979214430184, 3.7146294653465324, 2.8279252346130495, 2.655749891864059, 1.8827979214430184, 1.1659956335282684, 2.655749891864059, 1.8827979214430184, 1.8827979214430184, 1.8827979214430184, 1.8827979214430184, 2.8279252346130495, 2.655749891864059, 3.5729582345191084, 3.7146294653465324, 1.8827979214430184, 4.563246855524104, 1.8827979214430184, 1.1659956335282684, 1.8827979214430184, 1.1659956335282684, 1.8827979214430184, 1.1659956335282684, 1.8827979214430184, 1.1659956335282684, 1.8827979214430184, 1.8827979214430184, 1.6278829260127265, 3.7146294653465324, 1.8827979214430184, 1.6278829260127265, 1.8827979214430184, 1.1659956335282684, 4.563246855524104, 1.1659956335282684, 1.6278829260127265, 2.655749891864059, 1.1659956335282684, 4.563246855524104, 1.1659956335282684, 1.8827979214430184, 1.8827979214430184, 1.6278829260127265, 3.5729582345191084, 1.1659956335282684, 1.6278829260127265, 1.8827979214430184, 1.8827979214430184, 1.8827979214430184, 1.1659956335282684, 1.8827979214430184, 1.6278829260127265, 1.6278829260127265, 1.6278829260127265, 4.563246855524104, 1.6278829260127265, 1.8827979214430184, 1.6278829260127265, 2.655749891864059, 1.6278829260127265, 1.6278829260127265, 3.5729582345191084, 1.6278829260127265, 1.6278829260127265, 1.6278829260127265, 1.8827979214430184, 1.1659956335282684, 2.655749891864059, 4.563246855524104, 1.1659956335282684, 1.8827979214430184, 2.8279252346130495, 1.1659956335282684, 1.8827979214430184, 1.8827979214430184, 1.6278829260127265, 1.8827979214430184, 1.6278829260127265, 2.655749891864059, 3.7146294653465324, 1.1659956335282684, 1.8827979214430184, 1.6278829260127265, 2.655749891864059, 1.1659956335282684, 2.655749891864059, 2.8279252346130495, 1.6278829260127265, 1.6278829260127265, 3.7146294653465324, 1.6278829260127265, 2.655749891864059, 1.8827979214430184, 1.1659956335282684, 2.655749891864059, 2.8279252346130495, 1.8827979214430184, 1.1659956335282684, 3.5729582345191084, 1.8827979214430184, 2.655749891864059, 1.6278829260127265, 2.8279252346130495, 3.5729582345191084, 3.5729582345191084, 1.8827979214430184, 1.1659956335282684, 2.8279252346130495, 1.8827979214430184, 2.8279252346130495, 2.655749891864059, 2.655749891864059, 1.1659956335282684, 2.655749891864059, 1.6278829260127265, 1.1659956335282684, 4.563246855524104, 1.8827979214430184, 1.8827979214430184, 1.1659956335282684, 1.6278829260127265, 2.655749891864059, 1.8827979214430184, 1.8827979214430184, 1.1659956335282684, 1.1659956335282684, 2.8279252346130495, 1.1659956335282684, 1.1659956335282684, 1.6278829260127265, 1.8827979214430184, 1.8827979214430184, 1.1659956335282684, 1.8827979214430184, 2.655749891864059, 1.1659956335282684, 1.8827979214430184, 2.655749891864059, 1.6278829260127265, 2.655749891864059, 2.8279252346130495, 3.7146294653465324, 1.8827979214430184, 2.655749891864059, 1.8827979214430184, 1.8827979214430184, 4.563246855524104, 1.1659956335282684, 1.8827979214430184, 1.8827979214430184, 1.6278829260127265, 3.5729582345191084, 3.7146294653465324, 4.563246855524104, 1.8827979214430184, 1.8827979214430184, 1.8827979214430184, 1.1659956335282684, 1.8827979214430184, 1.8827979214430184, 2.8279252346130495, 2.655749891864059, 1.1659956335282684, 1.8827979214430184, 4.563246855524104, 1.6278829260127265, 2.655749891864059, 1.8827979214430184, 1.1659956335282684, 2.655749891864059, 1.6278829260127265, 1.1659956335282684, 1.1659956335282684, 1.6278829260127265, 1.1659956335282684, 1.8827979214430184, 1.1659956335282684, 1.6278829260127265, 1.8827979214430184, 1.8827979214430184, 3.5729582345191084, 1.6278829260127265, 1.1659956335282684, 1.6278829260127265, 1.8827979214430184, 1.1659956335282684, 1.1659956335282684, 1.1659956335282684, 2.655749891864059, 1.8827979214430184, 1.8827979214430184, 1.6278829260127265, 1.6278829260127265, 1.1659956335282684, 1.1659956335282684, 1.8827979214430184, 1.8827979214430184, 1.8827979214430184, 1.1659956335282684, 4.563246855524104, 1.8827979214430184, 1.6278829260127265, 2.8279252346130495, 3.5729582345191084, 2.8279252346130495, 1.8827979214430184, 1.1659956335282684, 1.8827979214430184, 1.8827979214430184, 1.8827979214430184, 1.8827979214430184, 2.8279252346130495, 1.1659956335282684, 1.6278829260127265, 4.563246855524104, 1.8827979214430184, 1.8827979214430184, 3.5729582345191084, 1.1659956335282684, 1.1659956335282684, 1.1659956335282684, 1.8827979214430184, 3.5729582345191084, 1.8827979214430184, 1.8827979214430184, 1.6278829260127265, 3.7146294653465324, 1.6278829260127265, 1.6278829260127265, 2.655749891864059, 1.6278829260127265, 1.8827979214430184, 1.8827979214430184, 4.563246855524104, 1.8827979214430184, 1.1659956335282684, 4.563246855524104, 1.8827979214430184, 1.8827979214430184, 2.655749891864059, 2.655749891864059, 1.1659956335282684, 1.8827979214430184, 1.8827979214430184, 1.8827979214430184, 1.8827979214430184, 1.8827979214430184, 1.8827979214430184, 1.6278829260127265, 1.1659956335282684, 1.1659956335282684, 2.8279252346130495, 1.1659956335282684, 1.8827979214430184, 2.655749891864059, 1.1659956335282684, 1.1659956335282684, 2.8279252346130495, 1.8827979214430184, 1.1659956335282684, 1.8827979214430184, 1.8827979214430184, 1.8827979214430184, 2.655749891864059, 1.1659956335282684, 1.8827979214430184, 2.655749891864059, 1.1659956335282684, 1.1659956335282684, 1.8827979214430184, 1.8827979214430184, 1.1659956335282684, 2.8279252346130495, 1.1659956335282684, 1.1659956335282684, 1.6278829260127265, 1.8827979214430184, 1.8827979214430184, 1.1659956335282684, 1.8827979214430184, 2.655749891864059, 1.6278829260127265, 1.8827979214430184, 4.563246855524104, 2.8279252346130495, 1.1659956335282684, 1.8827979214430184, 1.8827979214430184, 1.8827979214430184, 1.1659956335282684, 1.6278829260127265, 1.6278829260127265, 2.655749891864059, 1.8827979214430184, 2.655749891864059, 1.1659956335282684, 2.8279252346130495, 1.8827979214430184, 1.8827979214430184, 1.1659956335282684, 1.6278829260127265, 1.8827979214430184, 2.8279252346130495, 1.8827979214430184, 1.8827979214430184, 1.6278829260127265, 1.8827979214430184, 1.1659956335282684, 1.8827979214430184, 4.563246855524104, 2.655749891864059, 1.8827979214430184, 1.6278829260127265, 3.5729582345191084, 2.8279252346130495, 2.8279252346130495, 1.8827979214430184, 1.1659956335282684, 1.1659956335282684, 1.8827979214430184, 1.6278829260127265, 3.5729582345191084, 1.1659956335282684, 1.1659956335282684, 1.1659956335282684, 4.563246855524104, 1.1659956335282684, 1.1659956335282684, 1.6278829260127265, 1.8827979214430184, 1.8827979214430184, 1.8827979214430184, 1.1659956335282684, 1.6278829260127265, 1.8827979214430184, 2.655749891864059, 1.8827979214430184, 1.8827979214430184, 1.6278829260127265, 1.6278829260127265, 1.8827979214430184, 4.563246855524104, 1.8827979214430184, 4.563246855524104, 1.6278829260127265, 3.7146294653465324, 1.6278829260127265, 1.8827979214430184, 1.1659956335282684, 1.1659956335282684, 1.8827979214430184, 2.655749891864059, 1.8827979214430184, 1.6278829260127265, 2.8279252346130495, 1.1659956335282684, 1.8827979214430184, 1.8827979214430184, 1.8827979214430184, 1.8827979214430184, 1.8827979214430184, 1.8827979214430184, 1.1659956335282684, 2.655749891864059, 1.1659956335282684, 1.1659956335282684, 1.8827979214430184, 1.6278829260127265, 1.6278829260127265, 3.5729582345191084, 1.6278829260127265, 1.8827979214430184, 1.8827979214430184, 1.8827979214430184, 2.655749891864059, 1.6278829260127265, 2.8279252346130495, 1.8827979214430184, 1.6278829260127265, 1.8827979214430184, 1.8827979214430184, 2.8279252346130495, 1.8827979214430184, 2.8279252346130495, 1.6278829260127265, 3.7146294653465324, 1.1659956335282684, 1.8827979214430184, 1.1659956335282684, 1.1659956335282684, 1.8827979214430184, 1.8827979214430184, 1.6278829260127265, 1.1659956335282684, 1.8827979214430184, 3.5729582345191084, 1.1659956335282684, 1.6278829260127265, 1.6278829260127265, 1.1659956335282684, 1.8827979214430184, 2.8279252346130495, 1.1659956335282684, 2.8279252346130495, 1.8827979214430184, 3.7146294653465324, 1.8827979214430184, 1.8827979214430184, 1.1659956335282684, 2.655749891864059, 3.7146294653465324, 2.8279252346130495, 2.8279252346130495, 1.1659956335282684, 1.8827979214430184, 1.8827979214430184, 1.6278829260127265, 2.655749891864059, 1.6278829260127265, 1.6278829260127265, 1.1659956335282684, 2.8279252346130495, 2.8279252346130495, 1.6278829260127265, 1.8827979214430184, 1.8827979214430184, 1.6278829260127265, 1.6278829260127265, 1.6278829260127265, 4.563246855524104, 3.5729582345191084, 1.8827979214430184, 2.655749891864059, 2.8279252346130495, 2.655749891864059, 1.8827979214430184, 3.7146294653465324, 2.655749891864059, 1.8827979214430184, 2.8279252346130495, 1.1659956335282684, 1.6278829260127265, 1.6278829260127265, 1.8827979214430184, 1.1659956335282684, 1.6278829260127265, 1.8827979214430184, 1.6278829260127265, 1.8827979214430184, 1.1659956335282684, 3.7146294653465324, 1.8827979214430184, 1.8827979214430184, 1.1659956335282684, 3.7146294653465324, 2.8279252346130495, 1.6278829260127265, 1.6278829260127265, 1.6278829260127265, 1.1659956335282684, 1.6278829260127265, 1.8827979214430184, 3.7146294653465324, 2.8279252346130495, 1.8827979214430184, 2.655749891864059, 1.8827979214430184, 1.6278829260127265, 2.655749891864059, 1.6278829260127265, 4.563246855524104, 1.6278829260127265, 1.1659956335282684, 1.8827979214430184, 1.8827979214430184, 1.6278829260127265, 1.8827979214430184, 3.5729582345191084, 1.6278829260127265, 1.1659956335282684, 2.8279252346130495, 2.8279252346130495, 1.1659956335282684, 1.1659956335282684, 1.1659956335282684, 1.8827979214430184, 1.1659956335282684, 1.1659956335282684, 1.8827979214430184, 2.655749891864059, 1.8827979214430184, 2.8279252346130495, 1.8827979214430184, 1.1659956335282684, 2.8279252346130495, 1.1659956335282684, 1.1659956335282684, 1.6278829260127265, 1.8827979214430184, 1.8827979214430184, 1.6278829260127265, 1.1659956335282684, 1.6278829260127265, 3.7146294653465324, 1.8827979214430184, 1.6278829260127265, 1.8827979214430184, 1.8827979214430184, 1.8827979214430184, 1.8827979214430184, 1.1659956335282684, 1.8827979214430184, 1.1659956335282684, 1.1659956335282684, 2.8279252346130495, 1.6278829260127265, 1.8827979214430184, 1.8827979214430184, 4.563246855524104, 1.8827979214430184, 1.1659956335282684, 1.8827979214430184, 2.8279252346130495, 2.8279252346130495, 2.655749891864059, 1.6278829260127265, 2.655749891864059, 1.1659956335282684, 1.8827979214430184, 1.6278829260127265, 1.6278829260127265, 1.8827979214430184, 1.8827979214430184, 3.5729582345191084, 1.8827979214430184, 1.6278829260127265, 1.6278829260127265, 1.8827979214430184, 1.1659956335282684, 1.8827979214430184, 1.8827979214430184, 1.1659956335282684, 1.8827979214430184, 1.8827979214430184, 1.8827979214430184, 1.8827979214430184, 1.8827979214430184, 1.1659956335282684, 1.8827979214430184, 2.8279252346130495, 1.8827979214430184, 2.655749891864059, 1.8827979214430184, 2.655749891864059, 3.7146294653465324, 1.8827979214430184, 2.8279252346130495, 1.8827979214430184, 1.6278829260127265, 1.8827979214430184, 1.6278829260127265, 2.8279252346130495, 2.655749891864059, 1.8827979214430184, 1.8827979214430184, 2.655749891864059, 1.1659956335282684, 1.8827979214430184, 1.8827979214430184, 3.7146294653465324, 1.1659956335282684, 1.1659956335282684, 1.8827979214430184, 2.8279252346130495, 1.6278829260127265, 1.8827979214430184, 2.655749891864059, 1.6278829260127265, 4.563246855524104, 3.5729582345191084, 2.8279252346130495, 1.8827979214430184, 2.655749891864059, 1.8827979214430184, 1.8827979214430184, 2.8279252346130495, 1.8827979214430184, 1.1659956335282684, 1.6278829260127265, 1.8827979214430184, 1.8827979214430184, 1.8827979214430184, 1.8827979214430184, 1.8827979214430184, 1.8827979214430184, 1.1659956335282684, 1.6278829260127265, 2.655749891864059, 2.8279252346130495, 2.8279252346130495, 1.8827979214430184, 1.8827979214430184, 1.6278829260127265, 2.8279252346130495, 1.6278829260127265, 1.1659956335282684, 1.1659956335282684, 1.1659956335282684, 1.1659956335282684, 1.8827979214430184, 1.8827979214430184, 1.1659956335282684, 2.8279252346130495, 1.1659956335282684, 1.6278829260127265, 1.1659956335282684, 2.655749891864059, 1.8827979214430184, 2.8279252346130495, 1.8827979214430184, 1.1659956335282684, 2.655749891864059, 1.6278829260127265, 2.8279252346130495, 1.8827979214430184, 1.8827979214430184, 2.8279252346130495, 1.1659956335282684, 2.8279252346130495, 2.655749891864059, 1.8827979214430184, 1.1659956335282684, 1.1659956335282684, 1.1659956335282684, 1.6278829260127265, 1.6278829260127265, 2.655749891864059, 1.6278829260127265, 1.8827979214430184, 1.8827979214430184, 1.1659956335282684, 1.6278829260127265, 1.1659956335282684, 1.6278829260127265, 1.6278829260127265, 2.655749891864059, 1.6278829260127265, 2.655749891864059, 1.6278829260127265, 2.8279252346130495, 2.8279252346130495, 1.8827979214430184, 1.1659956335282684, 4.563246855524104, 2.8279252346130495, 2.655749891864059, 1.1659956335282684, 1.8827979214430184, 1.8827979214430184, 1.8827979214430184, 1.8827979214430184, 1.6278829260127265, 1.8827979214430184, 1.1659956335282684, 1.1659956335282684, 1.1659956335282684, 1.8827979214430184, 1.6278829260127265, 2.655749891864059, 1.1659956335282684, 1.8827979214430184, 4.563246855524104, 1.6278829260127265, 2.655749891864059, 1.8827979214430184, 1.6278829260127265, 1.6278829260127265, 1.1659956335282684, 1.8827979214430184, 3.5729582345191084, 1.8827979214430184, 2.8279252346130495, 1.8827979214430184, 1.1659956335282684, 1.8827979214430184, 1.8827979214430184, 1.8827979214430184, 3.5729582345191084, 2.655749891864059, 2.655749891864059, 1.8827979214430184, 2.655749891864059, 4.563246855524104, 1.8827979214430184, 4.563246855524104, 1.8827979214430184, 1.8827979214430184, 1.6278829260127265, 1.8827979214430184, 2.8279252346130495, 2.655749891864059, 1.8827979214430184, 1.8827979214430184, 4.563246855524104, 1.8827979214430184, 1.6278829260127265, 1.1659956335282684, 3.5729582345191084, 1.1659956335282684, 3.5729582345191084, 1.8827979214430184, 1.8827979214430184, 1.6278829260127265, 1.6278829260127265, 1.8827979214430184, 1.8827979214430184, 2.8279252346130495, 1.1659956335282684, 1.1659956335282684, 4.563246855524104, 1.8827979214430184, 1.1659956335282684, 1.8827979214430184, 1.8827979214430184, 1.8827979214430184, 1.8827979214430184, 1.8827979214430184, 2.655749891864059, 1.8827979214430184, 1.1659956335282684, 1.1659956335282684, 2.8279252346130495, 1.1659956335282684, 1.8827979214430184, 1.6278829260127265, 2.655749891864059, 1.8827979214430184, 1.8827979214430184, 1.8827979214430184, 1.6278829260127265, 1.8827979214430184, 1.1659956335282684, 1.1659956335282684, 2.8279252346130495, 1.1659956335282684, 1.8827979214430184, 1.1659956335282684, 1.6278829260127265, 1.1659956335282684, 1.8827979214430184, 1.8827979214430184, 1.1659956335282684, 1.6278829260127265, 1.8827979214430184, 1.8827979214430184, 2.655749891864059, 3.5729582345191084, 1.1659956335282684, 2.655749891864059, 1.8827979214430184, 1.1659956335282684, 1.8827979214430184, 2.8279252346130495, 2.8279252346130495, 1.1659956335282684, 2.655749891864059, 1.8827979214430184, 2.8279252346130495, 1.8827979214430184, 3.5729582345191084, 1.1659956335282684, 1.6278829260127265, 1.1659956335282684, 2.8279252346130495, 1.1659956335282684, 1.1659956335282684, 1.6278829260127265, 1.8827979214430184, 1.1659956335282684, 1.6278829260127265, 1.1659956335282684, 1.8827979214430184, 1.8827979214430184, 1.8827979214430184, 2.655749891864059, 2.655749891864059, 1.1659956335282684, 2.8279252346130495, 1.8827979214430184, 2.8279252346130495, 1.8827979214430184, 2.655749891864059, 1.8827979214430184, 1.8827979214430184, 2.655749891864059, 2.655749891864059, 2.8279252346130495, 1.8827979214430184, 1.6278829260127265, 1.1659956335282684, 3.5729582345191084, 1.8827979214430184, 1.8827979214430184, 1.6278829260127265, 4.563246855524104, 1.6278829260127265, 1.6278829260127265, 2.8279252346130495, 1.8827979214430184, 1.1659956335282684, 1.6278829260127265, 1.1659956335282684, 1.8827979214430184, 2.8279252346130495, 1.8827979214430184, 2.655749891864059, 1.8827979214430184, 1.6278829260127265, 1.8827979214430184, 2.8279252346130495, 1.8827979214430184, 1.1659956335282684, 1.8827979214430184, 1.8827979214430184, 2.655749891864059, 1.1659956335282684, 1.1659956335282684, 1.8827979214430184, 1.8827979214430184, 1.1659956335282684, 2.655749891864059, 1.1659956335282684, 1.8827979214430184, 4.563246855524104, 1.8827979214430184, 3.5729582345191084, 1.6278829260127265, 1.1659956335282684, 1.6278829260127265, 1.8827979214430184, 2.655749891864059, 1.6278829260127265, 1.8827979214430184, 1.6278829260127265, 1.6278829260127265, 1.8827979214430184, 2.8279252346130495, 1.1659956335282684, 1.6278829260127265, 2.655749891864059, 1.6278829260127265, 2.655749891864059, 1.8827979214430184, 3.7146294653465324, 3.7146294653465324, 2.655749891864059, 1.8827979214430184, 2.655749891864059, 1.6278829260127265, 1.8827979214430184, 1.8827979214430184, 1.1659956335282684, 1.8827979214430184, 2.8279252346130495, 1.1659956335282684, 1.8827979214430184, 3.7146294653465324, 1.6278829260127265, 1.1659956335282684, 1.6278829260127265, 2.655749891864059, 1.8827979214430184, 1.1659956335282684, 1.1659956335282684, 2.8279252346130495, 1.6278829260127265, 1.1659956335282684, 1.6278829260127265, 1.8827979214430184, 2.8279252346130495, 1.1659956335282684, 1.6278829260127265, 2.655749891864059, 1.1659956335282684, 1.6278829260127265, 2.655749891864059, 1.6278829260127265, 1.8827979214430184, 1.8827979214430184, 1.1659956335282684, 2.8279252346130495, 1.8827979214430184, 1.1659956335282684, 1.8827979214430184, 1.6278829260127265, 1.8827979214430184, 1.8827979214430184, 3.5729582345191084, 3.5729582345191084, 1.6278829260127265, 3.5729582345191084, 1.1659956335282684, 1.8827979214430184, 1.6278829260127265, 1.1659956335282684, 1.1659956335282684, 1.1659956335282684, 2.655749891864059, 1.1659956335282684, 3.5729582345191084, 1.6278829260127265, 2.655749891864059, 1.6278829260127265, 2.655749891864059, 1.8827979214430184, 1.6278829260127265, 1.8827979214430184, 1.1659956335282684, 1.8827979214430184, 2.655749891864059, 2.8279252346130495, 2.655749891864059, 1.1659956335282684, 1.8827979214430184, 1.6278829260127265, 3.7146294653465324, 1.1659956335282684, 1.1659956335282684, 1.8827979214430184, 1.6278829260127265, 1.8827979214430184, 3.5729582345191084, 3.7146294653465324, 2.655749891864059, 3.7146294653465324, 1.8827979214430184, 1.8827979214430184, 2.655749891864059, 1.1659956335282684, 3.5729582345191084, 3.7146294653465324, 2.8279252346130495, 1.8827979214430184, 1.8827979214430184, 1.8827979214430184, 1.6278829260127265, 1.1659956335282684, 1.8827979214430184, 1.8827979214430184, 3.5729582345191084, 1.8827979214430184, 2.8279252346130495, 1.8827979214430184, 3.7146294653465324, 1.8827979214430184, 1.1659956335282684, 1.1659956335282684, 1.1659956335282684, 1.8827979214430184, 1.1659956335282684, 1.6278829260127265, 1.1659956335282684, 1.8827979214430184, 2.8279252346130495, 1.8827979214430184, 2.8279252346130495, 1.8827979214430184, 1.1659956335282684, 1.8827979214430184, 2.655749891864059, 1.8827979214430184, 2.655749891864059, 1.8827979214430184, 1.8827979214430184, 1.8827979214430184, 1.8827979214430184, 1.1659956335282684, 3.7146294653465324, 1.6278829260127265, 1.8827979214430184, 4.563246855524104, 1.8827979214430184, 2.655749891864059, 4.563246855524104, 1.1659956335282684, 1.1659956335282684, 1.8827979214430184, 1.1659956335282684, 1.6278829260127265, 2.8279252346130495, 2.8279252346130495, 1.8827979214430184, 1.6278829260127265, 1.8827979214430184, 1.6278829260127265, 1.8827979214430184, 3.5729582345191084, 1.1659956335282684, 1.8827979214430184, 1.6278829260127265, 1.1659956335282684, 1.1659956335282684, 1.1659956335282684, 1.8827979214430184, 1.1659956335282684, 1.1659956335282684, 2.655749891864059, 2.655749891864059, 1.6278829260127265, 1.8827979214430184, 4.563246855524104, 1.1659956335282684, 2.655749891864059, 1.8827979214430184, 2.655749891864059, 1.1659956335282684, 1.8827979214430184, 1.6278829260127265, 2.655749891864059, 3.5729582345191084, 1.8827979214430184, 1.6278829260127265, 2.655749891864059, 3.5729582345191084, 1.6278829260127265, 1.6278829260127265, 1.6278829260127265, 1.1659956335282684, 1.8827979214430184, 1.8827979214430184, 2.655749891864059, 2.8279252346130495, 1.6278829260127265, 2.8279252346130495, 2.8279252346130495, 1.6278829260127265, 1.8827979214430184, 2.655749891864059, 1.8827979214430184, 1.6278829260127265, 1.8827979214430184, 1.8827979214430184, 1.8827979214430184, 3.5729582345191084, 2.655749891864059, 4.563246855524104, 1.8827979214430184, 1.1659956335282684, 1.1659956335282684, 1.1659956335282684, 1.8827979214430184, 1.1659956335282684, 1.8827979214430184, 2.655749891864059, 2.655749891864059, 1.6278829260127265, 1.8827979214430184, 1.1659956335282684, 2.8279252346130495, 1.8827979214430184, 1.1659956335282684, 1.6278829260127265, 1.6278829260127265, 2.8279252346130495, 2.655749891864059, 1.8827979214430184, 4.563246855524104, 1.6278829260127265, 1.8827979214430184, 1.1659956335282684, 1.8827979214430184, 1.1659956335282684, 1.1659956335282684, 1.1659956335282684, 2.655749891864059, 2.655749891864059, 1.8827979214430184, 2.655749891864059, 2.8279252346130495, 2.655749891864059, 1.6278829260127265, 1.1659956335282684, 1.8827979214430184, 2.655749891864059, 2.655749891864059, 1.8827979214430184, 1.6278829260127265, 1.1659956335282684, 1.6278829260127265, 1.6278829260127265, 1.1659956335282684, 1.8827979214430184, 3.7146294653465324, 1.6278829260127265, 1.1659956335282684, 1.1659956335282684, 3.5729582345191084, 1.1659956335282684, 2.655749891864059, 2.8279252346130495, 1.8827979214430184, 2.8279252346130495, 1.8827979214430184, 1.8827979214430184, 2.655749891864059, 2.655749891864059, 2.8279252346130495, 2.655749891864059, 1.1659956335282684, 2.655749891864059, 2.8279252346130495, 2.8279252346130495, 1.6278829260127265, 2.8279252346130495, 1.1659956335282684, 1.8827979214430184, 1.8827979214430184, 1.1659956335282684, 2.8279252346130495, 2.8279252346130495, 2.655749891864059, 1.8827979214430184, 1.1659956335282684, 1.8827979214430184, 1.8827979214430184, 1.1659956335282684, 1.6278829260127265, 1.8827979214430184, 2.8279252346130495, 1.6278829260127265, 2.655749891864059, 1.6278829260127265, 1.6278829260127265, 1.8827979214430184, 1.1659956335282684, 1.1659956335282684, 4.563246855524104, 1.6278829260127265, 1.1659956335282684, 1.8827979214430184, 3.5729582345191084, 2.8279252346130495, 4.563246855524104, 1.8827979214430184, 1.6278829260127265, 1.1659956335282684, 1.6278829260127265, 1.6278829260127265, 3.7146294653465324, 1.8827979214430184, 2.8279252346130495, 4.563246855524104, 2.655749891864059, 1.6278829260127265, 4.563246855524104, 1.6278829260127265, 2.8279252346130495, 1.1659956335282684, 2.655749891864059, 1.1659956335282684, 1.1659956335282684, 1.1659956335282684, 1.1659956335282684, 1.8827979214430184, 2.655749891864059, 1.8827979214430184, 1.1659956335282684, 2.655749891864059, 1.6278829260127265, 1.1659956335282684, 1.1659956335282684, 1.8827979214430184, 1.8827979214430184, 1.8827979214430184, 1.1659956335282684, 1.8827979214430184, 2.8279252346130495, 1.8827979214430184, 1.8827979214430184, 1.1659956335282684, 1.1659956335282684, 2.655749891864059, 2.8279252346130495, 1.1659956335282684, 1.6278829260127265, 1.8827979214430184, 1.6278829260127265, 2.655749891864059, 1.6278829260127265, 1.1659956335282684, 2.8279252346130495, 2.655749891864059, 2.8279252346130495, 3.7146294653465324, 2.8279252346130495, 1.8827979214430184, 1.8827979214430184, 1.1659956335282684, 1.1659956335282684, 1.6278829260127265, 1.1659956335282684, 2.655749891864059, 1.1659956335282684, 1.8827979214430184, 1.8827979214430184, 3.5729582345191084, 1.1659956335282684, 1.1659956335282684, 2.655749891864059, 1.1659956335282684, 2.655749891864059, 1.8827979214430184, 1.1659956335282684, 1.6278829260127265, 1.8827979214430184, 2.8279252346130495, 1.1659956335282684, 1.6278829260127265, 1.6278829260127265, 1.8827979214430184, 1.6278829260127265, 1.6278829260127265, 1.8827979214430184, 1.6278829260127265, 2.8279252346130495, 1.8827979214430184, 1.1659956335282684, 1.8827979214430184, 1.1659956335282684, 2.655749891864059, 1.6278829260127265, 1.8827979214430184, 1.1659956335282684, 1.8827979214430184, 1.1659956335282684, 1.8827979214430184, 1.6278829260127265, 1.1659956335282684, 1.6278829260127265, 1.8827979214430184, 1.1659956335282684, 1.8827979214430184, 2.655749891864059, 1.8827979214430184, 1.6278829260127265, 1.8827979214430184, 1.6278829260127265, 3.7146294653465324, 3.5729582345191084, 3.5729582345191084, 1.6278829260127265, 2.655749891864059, 1.6278829260127265, 1.1659956335282684, 3.7146294653465324, 3.7146294653465324, 1.8827979214430184, 1.8827979214430184, 1.8827979214430184, 1.6278829260127265, 1.8827979214430184, 1.1659956335282684, 1.8827979214430184, 2.8279252346130495, 1.6278829260127265, 4.563246855524104, 1.8827979214430184, 1.1659956335282684, 2.655749891864059, 1.8827979214430184, 1.8827979214430184, 1.8827979214430184, 2.8279252346130495, 1.6278829260127265, 4.563246855524104, 1.8827979214430184, 1.8827979214430184, 1.8827979214430184, 1.1659956335282684, 1.1659956335282684, 1.8827979214430184, 1.8827979214430184, 1.1659956335282684, 1.8827979214430184, 1.6278829260127265, 1.8827979214430184, 1.8827979214430184, 1.8827979214430184, 2.655749891864059, 3.5729582345191084, 1.8827979214430184, 3.7146294653465324, 3.5729582345191084, 4.563246855524104, 1.1659956335282684, 1.1659956335282684, 1.8827979214430184, 1.8827979214430184, 1.6278829260127265, 1.8827979214430184, 2.655749891864059, 1.6278829260127265, 1.8827979214430184, 2.655749891864059, 2.8279252346130495, 1.1659956335282684, 3.7146294653465324, 3.7146294653465324, 1.1659956335282684, 1.8827979214430184, 2.655749891864059, 1.6278829260127265, 1.8827979214430184, 1.1659956335282684, 2.655749891864059, 1.8827979214430184, 1.1659956335282684, 1.8827979214430184, 1.1659956335282684, 1.8827979214430184, 2.8279252346130495, 1.1659956335282684, 1.8827979214430184, 1.8827979214430184, 1.8827979214430184, 4.563246855524104, 1.6278829260127265, 2.8279252346130495, 1.8827979214430184, 1.8827979214430184, 2.8279252346130495, 1.6278829260127265, 1.1659956335282684, 2.655749891864059, 1.8827979214430184, 1.6278829260127265, 3.5729582345191084, 1.8827979214430184, 1.8827979214430184, 1.8827979214430184, 1.1659956335282684, 2.8279252346130495, 1.8827979214430184, 1.1659956335282684, 4.563246855524104, 1.8827979214430184, 1.8827979214430184, 1.8827979214430184, 2.8279252346130495, 1.6278829260127265, 1.1659956335282684, 4.563246855524104, 1.8827979214430184, 2.8279252346130495, 1.1659956335282684, 1.1659956335282684, 1.6278829260127265, 1.8827979214430184, 1.1659956335282684, 1.8827979214430184, 1.6278829260127265, 1.8827979214430184, 1.8827979214430184, 1.8827979214430184, 2.8279252346130495]\n",
      "正確結果:  [1.369, 3.91, 0.863, 1.31, 1.375, 0.886, 1.128, 2.123, 2.361, 3.587, 2.159, 4.022, 2.418, 4.885, 1.21, 1.514, 1.214, 1.667, 4.357, 5.00001, 2.684, 1.577, 2.819, 3.5, 1.792, 1.55, 0.7, 5.00001, 1.142, 3.506, 2.773, 2.58, 0.677, 1.276, 1.53, 1.838, 3.562, 5.00001, 1.169, 2.177, 2.539, 1.7, 0.98, 1.538, 1.188, 1.047, 2.778, 2.778, 1.101, 2.107, 2.132, 1.046, 1.375, 0.991, 0.927, 2.667, 2.876, 1.469, 3.149, 1.583, 0.474, 3.409, 2.11, 2.128, 5.00001, 1.376, 3.727, 2.046, 0.658, 2.471, 1.572, 2.698, 2.169, 1.723, 2.658, 5.00001, 1.567, 2.275, 1.736, 1.83, 2.561, 3.623, 2.73, 1.105, 2.04, 2.601, 1.967, 1.431, 1.097, 1.875, 0.475, 1.732, 3.846, 0.798, 0.97, 1.958, 2.579, 4.657, 1.508, 5.00001, 0.699, 1.911, 3.3, 3.825, 0.225, 1.804, 5.00001, 3.6, 3.563, 1.394, 4.075, 2.554, 0.973, 5.00001, 3.663, 1.013, 3.431, 1.227, 1.152, 0.869, 2.161, 0.828, 5.00001, 2.988, 2.725, 4.097, 1.372, 0.612, 2.212, 0.833, 3.404, 2.638, 1.206, 1.074, 2.635, 4.213, 2.724, 1.853, 1.344, 2.258, 1.935, 2.5, 1.011, 3.551, 1.889, 1.422, 3.156, 1.448, 1.584, 2.821, 1.092, 2.5, 5.00001, 1.721, 1.052, 0.938, 1.607, 3.404, 4.827, 2.065, 3.824, 2.221, 1.462, 2.227, 1.138, 1.651, 3.543, 1.513, 2.603, 2.138, 1.211, 0.906, 0.528, 0.471, 1.375, 2.976, 1.092, 1.5, 0.886, 2.922, 0.962, 2.346, 1.546, 2.28, 0.892, 1.98, 0.924, 3.461, 2.167, 1.375, 5.00001, 3.625, 1.363, 1.504, 1.65, 0.933, 3.766, 2.538, 1.188, 1.478, 5.00001, 2.54, 1.25, 3.72, 2.982, 3.021, 4.072, 4.338, 3.227, 1.813, 1.428, 2.23, 2.039, 1.158, 0.875, 0.612, 1.077, 4.107, 1.585, 1.608, 1.875, 3.416, 1.455, 0.774, 0.675, 1.941, 2.374, 1.438, 2.042, 1.628, 0.546, 0.678, 0.682, 1.347, 1.621, 3.615, 2.422, 5.00001, 3.357, 0.932, 2.571, 2.812, 0.913, 1.051, 0.622, 1.63, 2.398, 2.239, 0.905, 2.182, 2.138, 1.355, 1.805, 2.811, 3.084, 0.645, 1.638, 2.153, 0.847, 1.194, 5.00001, 3.692, 0.684, 4.708, 1.578, 1.125, 2.979, 2.572, 1.406, 2.313, 3.941, 0.972, 1.994, 1.724, 3.772, 3.5, 3.367, 1.65, 1.197, 1.125, 1.229, 2.273, 2.146, 1.5, 0.917, 1.438, 2.412, 2.882, 1.696, 3.359, 5.00001, 2.887, 2.028, 1.94, 3.216, 1.89, 1.394, 0.811, 5.00001, 1.55, 1.636, 1.537, 2.234, 5.00001, 3.605, 1.647, 1.515, 1.792, 1.306, 1.117, 3.585, 1.125, 4.514, 0.64, 3.342, 2.914, 1.117, 2.309, 0.606, 0.532, 2.397, 0.525, 1.961, 3.595, 3.481, 2.555, 1.549, 2.539, 5.00001, 1.279, 1.729, 5.00001, 1.357, 1.892, 0.802, 1.089, 2.138, 5.00001, 3.553, 0.964, 2.656, 1.688, 1.667, 3.306, 1.821, 4.508, 1.417, 1.825, 3.308, 2.898, 4.143, 2.616, 0.917, 1.135, 2.377, 0.952, 1.503, 3.447, 2.407, 0.911, 3.527, 1.395, 2.573, 1.114, 1.842, 1.737, 1.578, 2.848, 2.215, 1.927, 3.257, 1.809, 0.878, 2.663, 1.95, 2.119, 5.00001, 3.247, 1.375, 1.875, 1.514, 3.524, 0.887, 2.791, 3.976, 3.25, 2.361, 0.661, 1.5, 1.465, 2.736, 0.576, 2.406, 1.546, 3.821, 3.9, 0.894, 1.648, 2.047, 2.042, 2.074, 2.659, 1.791, 0.792, 1.167, 1.31, 1.184, 1.182, 4.391, 0.611, 3.604, 1.172, 1.903, 2.808, 4.785, 2.746, 2.063, 3.431, 1.076, 2.815, 1.565, 2.193, 0.571, 2.325, 1.006, 2.345, 1.78, 3.447, 1.975, 1.092, 2.447, 0.932, 1.305, 2.448, 1.402, 1.111, 1.575, 1.676, 1.748, 2.18, 2.51, 1.719, 1.132, 3.524, 3.932, 2.705, 0.513, 3.213, 1.466, 1.706, 0.679, 4.534, 1.477, 1.701, 0.546, 5.00001, 1.347, 2.714, 5.00001, 3.909, 1.745, 2.339, 1.813, 2.836, 3.551, 0.697, 2.868, 3.398, 2.131, 1.786, 2.647, 2.718, 1.521, 4.269, 2.723, 0.875, 1.086, 0.875, 2.512, 0.575, 2.438, 0.733, 1.875, 5.00001, 1.856, 0.776, 2.547, 1.333, 1.382, 0.869, 3.152, 4.669, 0.823, 0.697, 1.385, 2.948, 0.652, 4.563, 0.74, 2.766, 0.656, 1.046, 2.4, 1.125, 0.932, 1.188, 0.993, 1.788, 2.073, 1.855, 0.466, 2.669, 0.685, 1.974, 1.094, 2.605, 5.00001, 3.224, 1.667, 3.938, 5.00001, 2.07, 5.00001, 1.126, 0.942, 1.528, 0.759, 0.736, 2.675, 5.00001, 5.00001, 2.79, 1.355, 1.625, 1.052, 1.633, 5.00001, 1.607, 2.737, 2.142, 0.813, 2.055, 2.353, 0.498, 1.773, 2.939, 1.705, 1.39, 2.5, 0.721, 0.813, 0.47, 2.087, 0.325, 2.758, 2.469, 3.375, 2.351, 2.222, 3.086, 0.627, 1.775, 2.868, 1.777, 2.362, 0.875, 1.388, 5.00001, 1.822, 1.952, 2.125, 1.489, 1.506, 1.613, 0.946, 1.35, 1.843, 0.542, 1.058, 1.319, 0.533, 5.00001, 0.78, 0.896, 1.587, 1.25, 2.767, 3.912, 1.5, 5.0, 1.5, 0.72, 0.774, 1.531, 2.639, 3.434, 1.583, 1.058, 1.775, 1.079, 1.032, 2.142, 1.837, 0.647, 1.909, 1.353, 1.709, 0.953, 2.262, 1.35, 1.536, 1.75, 0.876, 3.31, 0.842, 1.981, 1.061, 4.367, 2.594, 3.357, 1.541, 0.827, 1.779, 0.556, 1.247, 2.952, 0.668, 3.875, 1.565, 1.314, 3.75, 1.346, 1.306, 1.595, 4.559, 1.028, 4.583, 3.491, 0.859, 0.783, 5.00001, 1.75, 2.007, 2.308, 1.135, 1.784, 0.904, 0.857, 2.172, 5.00001, 0.458, 2.832, 1.37, 1.114, 2.457, 2.298, 3.483, 2.754, 4.688, 1.604, 1.75, 2.051, 4.22, 1.713, 3.586, 0.988, 2.1, 2.692, 1.921, 1.946, 2.099, 1.122, 1.667, 0.683, 0.936, 1.643, 2.2, 2.268, 1.733, 3.22, 1.0, 0.807, 2.373, 1.405, 1.781, 1.625, 3.417, 1.838, 2.532, 3.353, 1.887, 0.584, 3.788, 1.261, 4.325, 1.129, 2.935, 2.441, 1.455, 0.918, 5.00001, 2.394, 2.596, 1.745, 0.567, 3.623, 1.308, 2.765, 1.728, 2.181, 3.861, 2.49, 4.514, 2.941, 2.171, 5.00001, 1.964, 0.825, 1.354, 1.283, 1.86, 0.811, 2.559, 1.281, 1.776, 2.492, 1.571, 4.462, 2.311, 1.531, 1.82, 1.222, 3.089, 0.727, 3.5, 2.168, 0.615, 5.00001, 1.162, 3.231, 1.522, 1.625, 2.098, 0.678, 1.103, 1.466, 1.602, 1.739, 0.75, 1.739, 0.675, 2.75, 1.319, 5.00001, 1.442, 1.44, 0.871, 1.875, 1.125, 1.327, 2.286, 1.375, 3.5, 0.654, 3.344, 0.961, 2.973, 5.00001, 1.531, 1.475, 2.375, 1.636, 2.35, 1.602, 1.125, 1.625, 1.143, 2.093, 3.152, 1.316, 0.875, 0.682, 2.887, 0.52, 4.857, 2.75, 2.125, 0.697, 5.00001, 1.75, 3.099, 1.511, 1.588, 3.126, 2.229, 1.684, 1.26, 3.5, 1.335, 2.261, 1.279, 2.893, 3.514, 4.286, 1.736, 2.349, 1.678, 1.924, 0.713, 2.939, 1.961, 1.583, 1.614, 0.421, 1.129, 5.00001, 2.293, 2.756, 1.625, 1.417, 3.793, 0.869, 1.938, 0.806, 1.125, 2.188, 0.725, 0.928, 1.0, 2.246, 1.543, 0.632, 1.691, 2.346, 2.132, 3.626, 1.236, 0.948, 3.591, 2.183, 3.343, 2.4, 1.599, 1.574, 2.469, 3.14, 1.278, 3.289, 2.094, 2.625, 5.00001, 3.458, 4.26, 1.695, 2.832, 2.063, 0.726, 0.675, 2.265, 2.85, 3.986, 0.855, 1.135, 5.00001, 2.229, 2.525, 2.081, 0.508, 3.8, 1.125, 0.72, 0.811, 0.632, 0.925, 2.983, 0.886, 1.11, 1.845, 1.56, 5.00001, 1.775, 0.672, 1.533, 2.032, 0.639, 1.102, 1.065, 3.387, 1.603, 1.904, 2.245, 1.0, 1.606, 1.508, 1.402, 2.145, 1.595, 1.195, 3.993, 2.381, 0.854, 1.125, 3.875, 2.395, 1.844, 0.917, 0.973, 1.634, 1.334, 1.625, 2.534, 1.588, 1.489, 5.00001, 1.569, 1.656, 4.178, 0.571, 0.946, 1.813, 2.929, 2.386, 1.755, 2.415, 0.493, 3.43, 0.858, 0.942, 4.205, 1.234, 3.022, 1.051, 3.202, 1.597, 1.833, 4.163, 3.313, 2.625, 3.91, 2.708, 1.188, 1.907, 3.191, 0.806, 1.211, 2.458, 3.638, 1.653, 1.471, 0.427, 3.206, 5.00001, 2.968, 2.746, 0.6, 1.125, 4.658, 1.742, 2.048, 2.117, 1.613, 1.196, 4.573, 1.091, 1.767, 2.581, 0.926, 0.579, 2.084, 1.275, 0.413, 1.493, 0.594, 1.123, 1.767, 1.344, 1.824, 1.608, 2.385, 2.297, 0.967, 1.869, 5.00001, 2.364, 2.063, 1.844, 1.102, 0.882, 0.749, 1.875, 1.707, 2.845, 3.512, 3.068, 0.854, 3.677, 1.418, 4.544, 1.842, 1.437, 3.243, 1.403, 0.875, 1.352, 0.604, 1.988, 1.813, 1.96, 5.00001, 2.482, 2.403, 0.664, 3.865, 1.833, 3.944, 1.606, 0.99, 0.65, 1.369, 1.688, 3.137, 1.57, 1.383, 0.839, 3.806, 1.326, 0.95, 1.925, 1.266, 0.968, 1.958, 1.039, 1.995, 1.168, 3.397, 3.151, 1.293, 1.897, 1.15, 2.096, 2.81, 2.26, 5.00001, 1.75, 3.512, 1.405, 2.159, 0.892, 1.778, 2.06, 2.557, 1.311, 0.992, 2.415, 1.125, 2.034, 0.845, 1.933, 1.25, 1.638, 1.509, 1.458, 2.346, 1.408, 0.738, 2.052, 1.146, 2.188, 2.758, 1.313, 1.589, 1.963, 2.48, 2.976, 1.0, 1.293, 1.299, 1.564, 2.141, 1.701, 3.074, 2.52, 1.586, 1.83, 5.00001, 0.913, 1.846, 1.292, 0.614, 3.979, 2.092, 1.438, 0.557, 1.625, 5.00001, 1.015, 1.875, 1.096, 0.875, 1.648, 1.621, 0.605, 5.00001, 0.955, 4.44, 2.223, 2.397, 2.603, 2.402, 4.438, 1.979, 3.591, 3.563, 2.125, 1.123, 1.563, 2.379, 0.55, 1.547, 0.868, 1.827, 2.734, 1.417, 1.375, 2.327, 0.958, 1.839, 1.4, 5.00001, 2.487, 1.872, 3.625, 3.465, 2.909, 4.063, 2.765, 2.741, 1.331, 5.00001, 0.977, 1.475, 1.125, 2.313, 1.0, 2.136, 1.759, 1.5, 1.651, 0.907, 4.115, 1.805, 1.139, 0.658, 3.762, 2.474, 2.563, 1.619, 1.616, 3.5, 1.022, 0.959, 3.197, 2.699, 3.067, 2.471, 1.825, 1.964, 1.65, 3.5, 5.00001, 1.07, 1.125, 2.636, 2.093, 3.25, 2.6, 3.646, 1.587, 0.5, 3.216, 1.119, 1.702, 1.27, 1.208, 2.491, 2.189, 0.694, 1.875, 2.137, 1.75, 3.318, 2.75, 1.034, 1.728, 0.585, 0.594, 1.051, 1.873, 2.132, 1.754, 0.582, 2.5, 3.0, 1.64, 0.713, 1.592, 1.237, 1.242, 2.14, 5.0, 1.621, 0.426, 1.25, 4.875, 1.375, 2.187, 1.12, 5.00001, 1.516, 1.139, 2.199, 1.0, 5.00001, 2.38, 1.875, 2.519, 1.014, 2.113, 1.475, 1.565, 2.573, 0.932, 4.384, 3.363, 0.723, 3.0, 3.168, 1.273, 1.207, 1.102, 0.658, 3.746, 1.714, 1.416, 1.813, 2.369, 1.357, 1.919, 1.59, 2.436, 4.955, 2.111, 2.054, 3.37, 1.456, 5.00001, 1.525, 1.629, 3.228, 0.531, 1.83, 2.776, 1.045, 1.942, 1.644, 1.429, 2.076, 1.516, 3.181, 1.708, 1.109, 1.624, 3.837, 3.056, 2.399, 1.508, 1.271, 5.00001, 3.462, 2.77, 1.194, 1.813, 2.122, 1.776, 2.86, 1.636, 0.924, 0.795, 1.468, 1.917, 2.981, 1.708, 1.288, 3.871, 0.67, 0.5, 2.289, 1.919, 3.525, 2.104, 1.319, 1.726, 1.313, 3.8, 0.713, 1.81, 0.62, 1.982, 0.849, 1.327, 1.335, 1.231, 1.168, 1.677, 1.047, 1.732, 2.22, 2.809, 2.629, 0.388, 1.917, 0.938, 1.17, 1.496, 1.218, 4.773, 1.526, 3.983, 2.641, 2.115, 0.847, 0.862, 1.375, 4.1, 4.25, 3.446, 0.564, 1.671, 2.045, 1.281, 0.888, 0.528, 0.6, 1.375, 2.817, 1.403, 2.409, 1.775, 3.31, 4.55, 2.2, 0.614, 5.00001, 2.826, 1.388, 0.9, 2.552, 1.33, 1.504, 2.686, 1.316, 2.136, 1.482, 0.536, 0.621, 0.923, 1.708, 2.878, 0.982, 2.547, 5.00001, 0.992, 2.358, 1.911, 1.625, 1.743, 1.057, 1.371, 2.809, 1.565, 1.922, 2.289, 1.167, 1.172, 2.476, 0.861, 1.75, 2.236, 4.959, 1.046, 2.325, 5.00001, 1.2, 4.35, 2.008, 2.265, 0.498, 1.471, 2.414, 2.332, 1.054, 1.547, 5.00001, 1.228, 0.842, 0.975, 3.729, 0.985, 3.673, 2.247, 3.659, 1.761, 1.239, 2.445, 2.156, 2.422, 0.44, 0.955, 4.676, 1.276, 1.072, 1.875, 2.304, 3.814, 3.984, 1.698, 1.78, 2.455, 0.836, 2.313, 3.208, 0.996, 2.711, 1.355, 2.442, 2.597, 1.475, 1.429, 1.631, 3.202, 3.259, 0.716, 3.067, 1.042, 3.642, 0.599, 1.167, 0.653, 1.518, 1.831, 0.717, 1.375, 1.468, 1.628, 3.312, 5.00001, 2.167, 5.00001, 1.52, 1.856, 1.758, 2.33, 2.75, 0.967, 2.822, 1.154, 2.6, 2.448, 1.81, 0.956, 1.625, 0.797, 4.383, 4.611, 0.691, 1.361, 1.669, 1.844, 1.059, 0.669, 2.242, 2.521, 1.681, 2.258, 1.588, 0.654, 0.969, 1.272, 1.325, 1.851, 2.335, 1.368, 0.736, 2.019, 2.891, 5.00001, 1.58, 4.0, 0.973, 2.472, 2.895, 1.458, 1.593, 5.00001, 2.017, 1.688, 1.667, 1.0, 1.241, 1.0, 0.696, 1.674, 2.061, 2.13, 2.167, 3.64, 0.875, 1.316, 5.00001, 1.089, 3.75, 1.955, 2.3, 2.33, 0.657, 0.675, 1.404, 1.034, 1.079, 2.376, 0.628, 1.322, 5.00001, 2.259, 2.563, 2.167, 0.498, 0.465, 2.877, 2.406, 1.366, 2.693, 1.603, 1.25, 3.207, 2.417, 0.857, 2.357, 2.869, 1.75, 1.298, 3.531, 4.0, 3.287, 2.48, 2.218, 3.018, 1.908, 1.639, 1.188, 1.466, 1.742, 2.063, 0.768, 2.484, 3.312, 1.689, 1.48, 0.467, 1.647, 1.118, 0.817, 0.693, 1.615, 1.663, 1.474, 1.125, 1.875, 1.984, 1.07, 2.272, 2.308, 2.8, 1.494, 1.891, 2.4, 1.446, 2.411, 2.114, 2.008, 1.959, 0.6, 1.939, 1.192, 2.325, 1.707, 3.182, 3.596, 2.25, 2.157, 0.862, 1.114, 0.918, 0.875, 0.726, 0.833, 2.961, 1.116, 3.609, 1.417, 2.636, 2.5, 1.797, 1.381, 0.941, 1.858, 0.995, 0.986, 3.382, 3.578, 1.698, 1.185, 1.99, 2.2, 4.513, 1.491, 0.846, 2.306, 2.19, 1.509, 2.882, 5.00001, 2.359, 2.293, 2.191, 1.922, 1.834, 1.554, 4.048, 3.908, 5.00001, 2.183, 2.671, 1.25, 1.086, 0.738, 2.083, 1.073, 1.634, 2.266, 4.208, 1.695, 4.572, 1.533, 1.182, 0.592, 0.962, 2.675, 1.594, 2.063, 0.944, 2.445, 2.25, 1.486, 5.00001, 0.826, 1.4, 1.007, 3.627, 0.825, 2.517, 0.729, 1.86, 1.165, 2.551, 0.855, 5.00001, 0.988, 1.5, 5.00001, 1.234, 3.038, 5.00001, 1.573, 0.908, 1.533, 0.958, 1.292, 3.679, 1.212, 1.544, 1.236, 1.406, 1.176, 1.418, 4.31, 0.889, 1.27, 1.92, 0.672, 0.978, 0.713, 1.555, 1.189, 1.369, 2.956, 3.19, 0.875, 1.487, 5.00001, 1.199, 3.349, 2.755, 3.404, 0.986, 2.476, 1.466, 2.014, 5.00001, 3.083, 2.417, 3.35, 3.264, 2.25, 1.083, 1.397, 0.513, 1.552, 0.685, 2.356, 4.573, 1.0, 1.979, 1.667, 1.311, 0.875, 3.107, 3.093, 2.533, 1.714, 1.606, 1.842, 2.866, 1.761, 5.00001, 1.674, 0.92, 1.333, 1.021, 1.966, 1.344, 2.481, 2.694, 3.193, 0.87, 2.388, 2.125, 3.352, 1.446, 0.758, 1.565, 0.894, 2.303, 2.804, 2.641, 3.596, 2.375, 1.888, 2.442, 1.429, 0.958, 0.441, 0.503, 1.186, 2.964, 1.098, 2.803, 2.688, 2.699, 1.5, 1.091, 1.916, 3.518, 2.01, 1.198, 1.32, 1.063, 1.422, 1.039, 1.622, 1.919, 3.484, 1.625, 1.001, 1.381, 3.365, 1.805, 1.674, 1.663, 1.175, 3.194, 1.321, 1.17, 2.484, 1.437, 5.0, 3.294, 1.221, 1.878, 0.875, 3.7, 1.266, 2.325, 0.969, 2.171, 1.971, 1.452, 1.61, 3.717, 3.115, 1.33, 1.018, 1.001, 1.719, 0.86, 3.136, 1.602, 1.115, 1.844, 3.527, 1.631, 1.114, 1.795, 0.584, 0.748, 5.00001, 1.75, 0.938, 2.183, 5.00001, 1.242, 5.00001, 1.84, 4.25, 0.675, 1.114, 0.477, 5.00001, 3.944, 3.179, 5.00001, 1.934, 1.904, 5.00001, 2.5, 3.55, 1.813, 3.0, 1.385, 1.087, 0.869, 0.535, 1.174, 2.336, 1.316, 0.983, 2.53, 1.083, 1.03, 0.675, 2.097, 2.209, 1.519, 1.904, 3.882, 1.826, 1.655, 4.161, 0.833, 1.64, 4.309, 2.234, 0.87, 1.375, 2.265, 2.034, 1.748, 1.816, 1.844, 3.714, 3.218, 2.417, 4.316, 2.685, 1.835, 1.568, 1.134, 1.32, 0.95, 0.593, 1.88, 0.712, 1.753, 2.3, 3.1, 3.773, 1.181, 1.111, 0.591, 3.256, 1.988, 0.691, 1.625, 2.632, 2.713, 1.202, 1.2, 1.857, 1.798, 2.25, 0.955, 2.063, 1.089, 2.1, 1.22, 0.65, 0.992, 1.573, 3.021, 1.717, 1.719, 1.563, 2.719, 1.089, 1.444, 0.913, 0.804, 1.693, 1.392, 1.454, 1.702, 2.705, 1.603, 1.401, 1.944, 0.834, 5.00001, 2.108, 4.507, 1.22, 2.61, 1.049, 0.905, 2.796, 4.94, 2.159, 2.578, 1.505, 2.853, 1.35, 0.57, 2.205, 2.48, 2.688, 4.908, 1.75, 0.878, 5.00001, 1.931, 1.666, 1.284, 3.861, 2.0, 5.00001, 1.825, 2.57, 1.649, 0.742, 2.08, 1.549, 1.841, 1.438, 1.308, 0.641, 1.322, 1.519, 1.601, 3.256, 2.075, 1.7, 3.403, 3.244, 5.00001, 1.981, 0.862, 1.802, 1.297, 1.336, 2.0, 1.998, 1.857, 1.043, 3.52, 4.0, 0.96, 2.781, 4.622, 0.801, 3.276, 3.258, 1.75, 4.5, 0.723, 2.842, 1.368, 0.62, 1.625, 0.613, 1.458, 2.759, 0.61, 1.375, 1.519, 2.537, 4.206, 1.625, 1.983, 1.626, 1.441, 3.848, 1.889, 1.063, 1.441, 1.633, 5.00001, 3.136, 1.473, 1.379, 2.478, 0.583, 1.82, 1.158, 2.192, 5.00001, 2.369, 2.278, 2.238, 1.984, 1.667, 1.75, 3.692, 1.431, 1.472, 0.853, 1.126, 1.219, 1.93, 0.894, 2.209, 1.563, 2.552, 1.322, 1.528, 2.4]\n"
     ]
    }
   ],
   "source": [
    "print(\"預測結果: \", list(reg.predict(x_test)))   # (DecisionTreeRegressor())\n",
    "print(\"正確結果: \", list(y_test))\n",
    "\n",
    "# Regression 沒有分類正確與否，所以沒有正確率\n",
    "# Regression 預測數值離正確數值越近，則越精準"
   ]
  },
  {
   "cell_type": "code",
   "execution_count": 22,
   "metadata": {},
   "outputs": [],
   "source": [
    "# 上面的 預測結果 vs 正確結果 數據輛過於龐大，如何在Regressor中，判斷正確率\n",
    "# 課程所需符號，事先溝通 : \n",
    "# _fi_ -> 所有測試資料值平均 (target平均)\n",
    "# fi -> 第 i 筆測試資料的值          (真實資料)\n",
    "# pi -> 第 i 筆測試，預測的值     (預測資料)\n",
    "\n",
    "# b = (fi - _fi_) ** 2   -> 每筆資料，離平均值，差距有多少 (平方是為了使差距變為正數)\n",
    "# !!!  b 的意思其實是 : 資料本身內容的廣度大小   !!!\n",
    "# ex 班上考試分數，平均60分。 廣度越大，代表大家考的分數離60分越遠。\n",
    "\n",
    "# a = (pi - fi) ** 2   -> 預測值 vs 真實值，差距有多少\n",
    "# a 預測的準不準 / a 越小越準   !!!   預測值與資料，差距的大小   !!!\n",
    "\n",
    "\n",
    "# 往後 ML 中會有許多數學計算，訣竅 : 注意\"特別值\"的含意   !!!\n",
    "\n",
    "# 我們需要計算 a / b \n",
    "# 特別值 0 : a = 0 代表我們預測的值 與 真實的值                意義: 100% 吻合\n",
    "# 特別值 1 : a = b 代表我方每個預測值 都 直接猜測與平均值相同   意義: 亂猜\n",
    "\n",
    "# 代表 : 0是準，1是不準，但此數據違反人類直覺，所以更改為\n",
    "# 求 : 1 - a/b   1準 / 0不準)   <- 此為 r2_score   ()\n",
    "\n",
    "# 經驗上 clf正確率75%-80%可接受 ; reg r2_score 0.5 就可接受"
   ]
  },
  {
   "cell_type": "code",
   "execution_count": 23,
   "metadata": {},
   "outputs": [
    {
     "name": "stdout",
     "output_type": "stream",
     "text": [
      "r2_score:  0.5329094538131867\n"
     ]
    }
   ],
   "source": [
    "from sklearn.metrics import r2_score   # (https://scikit-learn.org/stable/modules/generated/sklearn.metrics.r2_score.html)\n",
    "\n",
    "print(\"r2_score: \", r2_score(y_test, reg.predict(x_test)))"
   ]
  },
  {
   "cell_type": "code",
   "execution_count": 24,
   "metadata": {},
   "outputs": [
    {
     "data": {
      "text/plain": [
       "'\\n    MedInc   該區域收入的中位數。\\n    HouseAge   該區域房屋的平均房齡。\\n    AveRooms   該區域房屋的平均房間數。\\n    AveBedrms   該區域房屋的平均臥室數。\\n    Population   該區域居民人數。\\n    AveOccup   該區域平均每戶居住人數。\\n    Latitude   該區域的緯度。\\n    Longitude   該區域的經度。\\n'"
      ]
     },
     "execution_count": 24,
     "metadata": {},
     "output_type": "execute_result"
    }
   ],
   "source": [
    "# 回到 cell[69]   重新設計 -> 防止過擬合\n",
    "# 目前人工測試 max_depth= 5 準確度可以到0.6以上\n",
    "# 資料集中的欄位代表意義\n",
    "\"\"\"\n",
    "    MedInc   該區域收入的中位數。\n",
    "    HouseAge   該區域房屋的平均房齡。\n",
    "    AveRooms   該區域房屋的平均房間數。\n",
    "    AveBedrms   該區域房屋的平均臥室數。\n",
    "    Population   該區域居民人數。\n",
    "    AveOccup   該區域平均每戶居住人數。\n",
    "    Latitude   該區域的緯度。\n",
    "    Longitude   該區域的經度。\n",
    "\"\"\"\n",
    "# 越上面分類的因素，越影響房價 -> 此次分析 MedInc > AveRooms = AveOccup > HouseAge"
   ]
  },
  {
   "attachments": {},
   "cell_type": "markdown",
   "metadata": {},
   "source": [
    "sklearn 案例3 Iris (Cluster)"
   ]
  },
  {
   "cell_type": "code",
   "execution_count": 25,
   "metadata": {},
   "outputs": [],
   "source": [
    "# KMeans 解說:\n",
    "# 1. 10 個點，想要分成三群\n",
    "# 2. 先隨便找3個點 (三個圓心)\n",
    "# 3. 將剩餘的點，依上面三個點為主，分成三群\n",
    "\n",
    "#### 逐步修正，並循環\n",
    "\n",
    "# 4. 修正 : 重新於三個圓當中，選擇圓心\n",
    "# 5. 修正 : 將其餘七個點，再次分配到三個新的圓心   (可能會產生三個新的圓)\n",
    "# 6. 重複4. 5. 兩步驟，直到圓心不會再次改變，就停止。"
   ]
  },
  {
   "cell_type": "code",
   "execution_count": 26,
   "metadata": {},
   "outputs": [
    {
     "data": {
      "text/html": [
       "<div>\n",
       "<style scoped>\n",
       "    .dataframe tbody tr th:only-of-type {\n",
       "        vertical-align: middle;\n",
       "    }\n",
       "\n",
       "    .dataframe tbody tr th {\n",
       "        vertical-align: top;\n",
       "    }\n",
       "\n",
       "    .dataframe thead th {\n",
       "        text-align: right;\n",
       "    }\n",
       "</style>\n",
       "<table border=\"1\" class=\"dataframe\">\n",
       "  <thead>\n",
       "    <tr style=\"text-align: right;\">\n",
       "      <th></th>\n",
       "      <th>sepal length (cm)</th>\n",
       "      <th>sepal width (cm)</th>\n",
       "      <th>petal length (cm)</th>\n",
       "      <th>petal width (cm)</th>\n",
       "      <th>target</th>\n",
       "    </tr>\n",
       "  </thead>\n",
       "  <tbody>\n",
       "    <tr>\n",
       "      <th>0</th>\n",
       "      <td>5.1</td>\n",
       "      <td>3.5</td>\n",
       "      <td>1.4</td>\n",
       "      <td>0.2</td>\n",
       "      <td>0</td>\n",
       "    </tr>\n",
       "    <tr>\n",
       "      <th>1</th>\n",
       "      <td>4.9</td>\n",
       "      <td>3.0</td>\n",
       "      <td>1.4</td>\n",
       "      <td>0.2</td>\n",
       "      <td>0</td>\n",
       "    </tr>\n",
       "    <tr>\n",
       "      <th>2</th>\n",
       "      <td>4.7</td>\n",
       "      <td>3.2</td>\n",
       "      <td>1.3</td>\n",
       "      <td>0.2</td>\n",
       "      <td>0</td>\n",
       "    </tr>\n",
       "    <tr>\n",
       "      <th>3</th>\n",
       "      <td>4.6</td>\n",
       "      <td>3.1</td>\n",
       "      <td>1.5</td>\n",
       "      <td>0.2</td>\n",
       "      <td>0</td>\n",
       "    </tr>\n",
       "    <tr>\n",
       "      <th>4</th>\n",
       "      <td>5.0</td>\n",
       "      <td>3.6</td>\n",
       "      <td>1.4</td>\n",
       "      <td>0.2</td>\n",
       "      <td>0</td>\n",
       "    </tr>\n",
       "    <tr>\n",
       "      <th>...</th>\n",
       "      <td>...</td>\n",
       "      <td>...</td>\n",
       "      <td>...</td>\n",
       "      <td>...</td>\n",
       "      <td>...</td>\n",
       "    </tr>\n",
       "    <tr>\n",
       "      <th>145</th>\n",
       "      <td>6.7</td>\n",
       "      <td>3.0</td>\n",
       "      <td>5.2</td>\n",
       "      <td>2.3</td>\n",
       "      <td>2</td>\n",
       "    </tr>\n",
       "    <tr>\n",
       "      <th>146</th>\n",
       "      <td>6.3</td>\n",
       "      <td>2.5</td>\n",
       "      <td>5.0</td>\n",
       "      <td>1.9</td>\n",
       "      <td>2</td>\n",
       "    </tr>\n",
       "    <tr>\n",
       "      <th>147</th>\n",
       "      <td>6.5</td>\n",
       "      <td>3.0</td>\n",
       "      <td>5.2</td>\n",
       "      <td>2.0</td>\n",
       "      <td>2</td>\n",
       "    </tr>\n",
       "    <tr>\n",
       "      <th>148</th>\n",
       "      <td>6.2</td>\n",
       "      <td>3.4</td>\n",
       "      <td>5.4</td>\n",
       "      <td>2.3</td>\n",
       "      <td>2</td>\n",
       "    </tr>\n",
       "    <tr>\n",
       "      <th>149</th>\n",
       "      <td>5.9</td>\n",
       "      <td>3.0</td>\n",
       "      <td>5.1</td>\n",
       "      <td>1.8</td>\n",
       "      <td>2</td>\n",
       "    </tr>\n",
       "  </tbody>\n",
       "</table>\n",
       "<p>150 rows × 5 columns</p>\n",
       "</div>"
      ],
      "text/plain": [
       "     sepal length (cm)  sepal width (cm)  petal length (cm)  petal width (cm)  \\\n",
       "0                  5.1               3.5                1.4               0.2   \n",
       "1                  4.9               3.0                1.4               0.2   \n",
       "2                  4.7               3.2                1.3               0.2   \n",
       "3                  4.6               3.1                1.5               0.2   \n",
       "4                  5.0               3.6                1.4               0.2   \n",
       "..                 ...               ...                ...               ...   \n",
       "145                6.7               3.0                5.2               2.3   \n",
       "146                6.3               2.5                5.0               1.9   \n",
       "147                6.5               3.0                5.2               2.0   \n",
       "148                6.2               3.4                5.4               2.3   \n",
       "149                5.9               3.0                5.1               1.8   \n",
       "\n",
       "     target  \n",
       "0         0  \n",
       "1         0  \n",
       "2         0  \n",
       "3         0  \n",
       "4         0  \n",
       "..      ...  \n",
       "145       2  \n",
       "146       2  \n",
       "147       2  \n",
       "148       2  \n",
       "149       2  \n",
       "\n",
       "[150 rows x 5 columns]"
      ]
     },
     "execution_count": 26,
     "metadata": {},
     "output_type": "execute_result"
    }
   ],
   "source": [
    "# load iris資料 & 創立df\n",
    "from sklearn.datasets import load_iris\n",
    "import pandas as pd\n",
    "\n",
    "iris= load_iris()\n",
    "df= pd.DataFrame(iris[\"data\"], columns= iris[\"feature_names\"])\n",
    "df[\"target\"]= iris[\"target\"]\n",
    "df"
   ]
  },
  {
   "cell_type": "code",
   "execution_count": 27,
   "metadata": {},
   "outputs": [],
   "source": [
    "# 90%題目 10%題目 90%答案 10%答案\n",
    "from sklearn.model_selection import train_test_split\n",
    "\n",
    "x_train, x_test, y_train, y_test= train_test_split(\n",
    "iris[\"data\"],   # data -> 90% data / 10% data\n",
    "iris[\"target\"], # target -> 90% target / 10% target\n",
    "test_size= 0.1)\n"
   ]
  },
  {
   "cell_type": "code",
   "execution_count": 28,
   "metadata": {},
   "outputs": [
    {
     "name": "stderr",
     "output_type": "stream",
     "text": [
      "c:\\Users\\李重誼\\AppData\\Local\\Programs\\Python\\Python311\\Lib\\site-packages\\sklearn\\cluster\\_kmeans.py:870: FutureWarning: The default value of `n_init` will change from 10 to 'auto' in 1.4. Set the value of `n_init` explicitly to suppress the warning\n",
      "  warnings.warn(\n"
     ]
    },
    {
     "data": {
      "text/html": [
       "<style>#sk-container-id-3 {color: black;background-color: white;}#sk-container-id-3 pre{padding: 0;}#sk-container-id-3 div.sk-toggleable {background-color: white;}#sk-container-id-3 label.sk-toggleable__label {cursor: pointer;display: block;width: 100%;margin-bottom: 0;padding: 0.3em;box-sizing: border-box;text-align: center;}#sk-container-id-3 label.sk-toggleable__label-arrow:before {content: \"▸\";float: left;margin-right: 0.25em;color: #696969;}#sk-container-id-3 label.sk-toggleable__label-arrow:hover:before {color: black;}#sk-container-id-3 div.sk-estimator:hover label.sk-toggleable__label-arrow:before {color: black;}#sk-container-id-3 div.sk-toggleable__content {max-height: 0;max-width: 0;overflow: hidden;text-align: left;background-color: #f0f8ff;}#sk-container-id-3 div.sk-toggleable__content pre {margin: 0.2em;color: black;border-radius: 0.25em;background-color: #f0f8ff;}#sk-container-id-3 input.sk-toggleable__control:checked~div.sk-toggleable__content {max-height: 200px;max-width: 100%;overflow: auto;}#sk-container-id-3 input.sk-toggleable__control:checked~label.sk-toggleable__label-arrow:before {content: \"▾\";}#sk-container-id-3 div.sk-estimator input.sk-toggleable__control:checked~label.sk-toggleable__label {background-color: #d4ebff;}#sk-container-id-3 div.sk-label input.sk-toggleable__control:checked~label.sk-toggleable__label {background-color: #d4ebff;}#sk-container-id-3 input.sk-hidden--visually {border: 0;clip: rect(1px 1px 1px 1px);clip: rect(1px, 1px, 1px, 1px);height: 1px;margin: -1px;overflow: hidden;padding: 0;position: absolute;width: 1px;}#sk-container-id-3 div.sk-estimator {font-family: monospace;background-color: #f0f8ff;border: 1px dotted black;border-radius: 0.25em;box-sizing: border-box;margin-bottom: 0.5em;}#sk-container-id-3 div.sk-estimator:hover {background-color: #d4ebff;}#sk-container-id-3 div.sk-parallel-item::after {content: \"\";width: 100%;border-bottom: 1px solid gray;flex-grow: 1;}#sk-container-id-3 div.sk-label:hover label.sk-toggleable__label {background-color: #d4ebff;}#sk-container-id-3 div.sk-serial::before {content: \"\";position: absolute;border-left: 1px solid gray;box-sizing: border-box;top: 0;bottom: 0;left: 50%;z-index: 0;}#sk-container-id-3 div.sk-serial {display: flex;flex-direction: column;align-items: center;background-color: white;padding-right: 0.2em;padding-left: 0.2em;position: relative;}#sk-container-id-3 div.sk-item {position: relative;z-index: 1;}#sk-container-id-3 div.sk-parallel {display: flex;align-items: stretch;justify-content: center;background-color: white;position: relative;}#sk-container-id-3 div.sk-item::before, #sk-container-id-3 div.sk-parallel-item::before {content: \"\";position: absolute;border-left: 1px solid gray;box-sizing: border-box;top: 0;bottom: 0;left: 50%;z-index: -1;}#sk-container-id-3 div.sk-parallel-item {display: flex;flex-direction: column;z-index: 1;position: relative;background-color: white;}#sk-container-id-3 div.sk-parallel-item:first-child::after {align-self: flex-end;width: 50%;}#sk-container-id-3 div.sk-parallel-item:last-child::after {align-self: flex-start;width: 50%;}#sk-container-id-3 div.sk-parallel-item:only-child::after {width: 0;}#sk-container-id-3 div.sk-dashed-wrapped {border: 1px dashed gray;margin: 0 0.4em 0.5em 0.4em;box-sizing: border-box;padding-bottom: 0.4em;background-color: white;}#sk-container-id-3 div.sk-label label {font-family: monospace;font-weight: bold;display: inline-block;line-height: 1.2em;}#sk-container-id-3 div.sk-label-container {text-align: center;}#sk-container-id-3 div.sk-container {/* jupyter's `normalize.less` sets `[hidden] { display: none; }` but bootstrap.min.css set `[hidden] { display: none !important; }` so we also need the `!important` here to be able to override the default hidden behavior on the sphinx rendered scikit-learn.org. See: https://github.com/scikit-learn/scikit-learn/issues/21755 */display: inline-block !important;position: relative;}#sk-container-id-3 div.sk-text-repr-fallback {display: none;}</style><div id=\"sk-container-id-3\" class=\"sk-top-container\"><div class=\"sk-text-repr-fallback\"><pre>KMeans(n_clusters=3)</pre><b>In a Jupyter environment, please rerun this cell to show the HTML representation or trust the notebook. <br />On GitHub, the HTML representation is unable to render, please try loading this page with nbviewer.org.</b></div><div class=\"sk-container\" hidden><div class=\"sk-item\"><div class=\"sk-estimator sk-toggleable\"><input class=\"sk-toggleable__control sk-hidden--visually\" id=\"sk-estimator-id-3\" type=\"checkbox\" checked><label for=\"sk-estimator-id-3\" class=\"sk-toggleable__label sk-toggleable__label-arrow\">KMeans</label><div class=\"sk-toggleable__content\"><pre>KMeans(n_clusters=3)</pre></div></div></div></div></div>"
      ],
      "text/plain": [
       "KMeans(n_clusters=3)"
      ]
     },
     "execution_count": 28,
     "metadata": {},
     "output_type": "execute_result"
    }
   ],
   "source": [
    "# 做公式   (已知答案有幾種時，K值可以直接選)\n",
    "from sklearn.cluster import KMeans\n",
    "clu= KMeans(n_clusters= 3)   # K值\n",
    "clu.fit(x_train)             # 僅帶入題目"
   ]
  },
  {
   "cell_type": "code",
   "execution_count": 29,
   "metadata": {},
   "outputs": [
    {
     "data": {
      "text/plain": [
       "array([2, 1, 0, 0, 1, 0, 0, 0, 0, 2, 1, 1, 1, 1, 2, 0, 1, 0, 0, 0, 0, 2,\n",
       "       0, 0, 1, 2, 2, 2, 2, 2, 0, 1, 2, 2, 0, 1, 2, 2, 1, 2, 0, 1, 0, 0,\n",
       "       2, 0, 1, 0, 2, 1, 0, 1, 1, 0, 0, 0, 0, 0, 1, 1, 0, 1, 0, 2, 0, 2,\n",
       "       1, 1, 1, 2, 1, 1, 2, 2, 2, 2, 0, 1, 0, 2, 2, 1, 2, 0, 0, 0, 1, 1,\n",
       "       0, 2, 2, 0, 0, 0, 0, 1, 1, 1, 0, 0, 1, 2, 0, 1, 0, 1, 2, 1, 0, 0,\n",
       "       2, 1, 0, 2, 0, 0, 0, 0, 1, 1, 1, 1, 0, 0, 1, 2, 2, 2, 2, 0, 2, 0,\n",
       "       0, 1, 0])"
      ]
     },
     "execution_count": 29,
     "metadata": {},
     "output_type": "execute_result"
    }
   ],
   "source": [
    "# KMeans   (https://scikit-learn.org/stable/modules/generated/sklearn.cluster.KMeans.html)\n",
    "clu.labels_   # 自動依照 K值 分群   # 此處標籤的012 不等於答案的012"
   ]
  },
  {
   "cell_type": "code",
   "execution_count": 30,
   "metadata": {},
   "outputs": [],
   "source": [
    "# 不知道K值 的思考邏輯\n",
    "# a : 與同一個圓中，其他人的平均距離\n",
    "# b : 與最近的圓中，該圓中所有人的平均距離\n",
    "# a <= b 才正常 / 目標，a越小越好 / b越大越好\n",
    "# a * (1/b)   -> a/b 此數值，越小越好\n",
    "# a/b 極端值 : a=0 自己圈中，所有人都在同一點 / a=b 跟自己圈中距離一樣，跟其他圈中距離也一樣 (會不知道該分在哪一類較好)"
   ]
  },
  {
   "cell_type": "code",
   "execution_count": 41,
   "metadata": {},
   "outputs": [
    {
     "name": "stdout",
     "output_type": "stream",
     "text": [
      "K值:  [2, 3, 4, 5]\n",
      "Score:  [0.6810461692117462, 0.5528190123564095, 0.49805050499728737, 0.48874888709310566]\n"
     ]
    }
   ],
   "source": [
    "# silhouette score   (https://scikit-learn.org/stable/modules/generated/sklearn.metrics.silhouette_score.html)\n",
    "from sklearn.metrics import silhouette_score\n",
    "\n",
    "x= df.drop([\"target\"], axis=1)   # 模擬不知道答案，不知道K值\n",
    "\n",
    "plotx= []\n",
    "ploty= []\n",
    "\n",
    "for k in range(2,6):\n",
    "    clu= KMeans(n_clusters=k, n_init=10)    # 將K值，從 2 猜到 5   #(The default value of `n_init` will change from 10 to 'auto' in 1.4. Set the value of `n_init` explicitly to suppress the warning\n",
    "    clu.fit(x)\n",
    "    s= silhouette_score(x, clu.labels_)\n",
    "    plotx.append(k)\n",
    "    ploty.append(s)\n",
    "print(\"K值: \", plotx)\n",
    "print(\"Score: \", ploty)\n"
   ]
  },
  {
   "cell_type": "code",
   "execution_count": 42,
   "metadata": {},
   "outputs": [
    {
     "data": {
      "text/plain": [
       "Text(0, 0.5, 'Score')"
      ]
     },
     "execution_count": 42,
     "metadata": {},
     "output_type": "execute_result"
    },
    {
     "data": {
      "image/png": "[encoded data removed]",
      "text/plain": [
       "<Figure size 640x480 with 1 Axes>"
      ]
     },
     "metadata": {},
     "output_type": "display_data"
    }
   ],
   "source": [
    "import matplotlib.pyplot as plt   #(https://matplotlib.org/3.5.3/api/_as_gen/matplotlib.pyplot.html)\n",
    "plt.plot(plotx, ploty, \"co--\")    # \"\" 顏色, 點圖示, 線圖示\n",
    "plt.title(\"Sihouette Score\")\n",
    "plt.xlabel(\"K\")\n",
    "plt.ylabel(\"Score\")"
   ]
  },
  {
   "attachments": {},
   "cell_type": "markdown",
   "metadata": {},
   "source": [
    "整理  \n",
    "選擇題 : Iris (Classification)  \n",
    "答案 : 類別  \n",
    "判斷標準 : accuracy score 75-80 OK / 80-9- Good  \n",
    "  \n",
    "計算題 : 加州房價 (Regression)\n",
    "答案 : 連續  \n",
    "判斷標準 : r2 score 0.5~ OK / 0.7~ Good  \n",
    "  \n",
    "分群問題 : Iris (KMeans)   (Iris 已知答案 K=3 / 此處問題 K=?)  \n",
    "沒有答案  \n",
    "判斷標準 : 輸出多個K值，比較各個分數"
   ]
  },
  {
   "attachments": {},
   "cell_type": "markdown",
   "metadata": {},
   "source": [
    "sklearn 案例4 單純貝氏 (文字機械學習)"
   ]
  },
  {
   "cell_type": "code",
   "execution_count": 33,
   "metadata": {},
   "outputs": [],
   "source": [
    "# P(A)   事件A 發生的機率\n",
    "# P(A|B)   事件A 在B條件下 發生的機率\n",
    "# 機率數學中，連續發生，慣用* / 同時發生，慣用+\n",
    "\n",
    "# P(A) * P(B|A)   -> A發生機率 * A發生條件下，B發生機率   -> 等於 AB同時發生的機率\n",
    "# P(B) * P(A|B)   -> 會同上 都等於 AB同時發生的機率\n",
    "\n",
    "# P(A)*P(B|A) = P(B)*P(A|B)   往下推導 (同時除以 P(A))\n",
    "# P(B|A) = P(B) / P(A) * P(A|B)\n",
    "\n",
    "# 文字解釋: 看到一篇，我喜歡酒的文章，要推測此文章是李白寫的機率是多少?   (非常難)\n",
    "\n",
    "# 經過單純貝氏 推導 :\n",
    "# 推導 1 \n",
    "# (所有文章挑中作者為李白的機率)\n",
    "# -----------------------------------   *   (設李白所有文章，是我喜歡酒，的機率)\n",
    "# (所有文章中挑中我喜歡酒文章的機率)\n",
    "\n",
    "# (所有文章挑中作者為杜甫的機率)\n",
    "# -----------------------------------   *   (設杜甫所有文章，是我喜歡酒，的機率)\n",
    "# (所有文章中挑中我喜歡酒文章的機率)\n",
    "\n",
    "# 兩者機率比較，可以往下 推測出文章是李白還是杜甫所寫   (比較機率大小，不用精準到兩機率相加為一)\n",
    "\n",
    "\n",
    "# 推導 2\n",
    "# 兩個公式中都有 (所有文章中挑中我喜歡酒文章的機率) 所以約分掉\n",
    "# (所有文章挑中作者為李白的機率) * (設李白所有文章，是我喜歡酒，的機率)\n",
    "# vs\n",
    "# (所有文章挑中作者為杜甫的機率) * (設杜甫所有文章，是我喜歡酒，的機率)\n",
    "\n",
    "\n",
    "# 推導3\n",
    "# (設李白所有文章，是我喜歡酒，的機率)   非常難計算，這邊轉換思考 (資料中，每個詞彙的出現都給予機率)\n",
    "# 所有詞彙中李白寫出:我 的機率 * 李白寫出:喜歡 的機率 * 寫出: 酒 的機率   (連續發生)"
   ]
  },
  {
   "cell_type": "code",
   "execution_count": 34,
   "metadata": {},
   "outputs": [],
   "source": [
    "import pandas as pd\n",
    "traindf= pd.read_csv(\"poem_train.csv\", encoding= \"utf-8\")\n",
    "testdf= pd.read_csv(\"poem_test.csv\", encoding= \"utf-8\")"
   ]
  },
  {
   "cell_type": "code",
   "execution_count": 35,
   "metadata": {},
   "outputs": [
    {
     "name": "stderr",
     "output_type": "stream",
     "text": [
      "Building prefix dict from the default dictionary ...\n",
      "Loading model from cache C:\\Users\\李重誼\\AppData\\Local\\Temp\\jieba.cache\n",
      "Loading model cost 1.491 seconds.\n",
      "Prefix dict has been built successfully.\n"
     ]
    },
    {
     "data": {
      "text/plain": [
       "'青天 有 月 來 幾時'"
      ]
     },
     "execution_count": 35,
     "metadata": {},
     "output_type": "execute_result"
    }
   ],
   "source": [
    "# 使用 jieba 分詞\n",
    "import jieba\n",
    "s= \"青天有月來幾時\"\n",
    "\" \".join(jieba.cut(s))   # cut -> [詞1, 詞2]，並使用join將詞以空白區隔後，組合起來\n"
   ]
  },
  {
   "cell_type": "code",
   "execution_count": 36,
   "metadata": {},
   "outputs": [],
   "source": [
    "# 將 jieba 分詞套入pandas中\n",
    "def poem(s):\n",
    "    # s.replace(\"\\r\", \"\")   # 去除換行符號\n",
    "    # s.replace(\"\\n\", \"\")   # 去除換行符號，簡化如下\n",
    "    s= s.replace(\"\\r\", \"\").replace(\"\\n\", \"\")\n",
    "    return \" \".join(jieba.cut(s))\n",
    "\n",
    "traindf[\"內容\"]= traindf[\"內容\"].apply(poem)\n",
    "testdf[\"內容\"]= testdf[\"內容\"].apply(poem)"
   ]
  },
  {
   "cell_type": "code",
   "execution_count": 37,
   "metadata": {},
   "outputs": [],
   "source": [
    "# scikit-learn: 答案一定要變成整數\n",
    "trans= {\"李白\":0, \"杜甫\":1, \"白居易\":2}\n",
    "traindf[\"作者\"]= traindf[\"作者\"].replace(trans)\n",
    "testdf[\"作者\"]= testdf[\"作者\"].replace(trans)"
   ]
  },
  {
   "cell_type": "code",
   "execution_count": 38,
   "metadata": {},
   "outputs": [],
   "source": [
    "# 將內容的詞，轉換為次數統計，才可以計算全部多少詞彙，以計算某詞彙出現機率\n",
    "from sklearn.feature_extraction.text import CountVectorizer\n",
    "# Vectorizer 的兩個使用方法\n",
    "# fir: 統計 \"多少種\" 標籤\n",
    "# transform: 根據標籤，統計次數\n",
    "\n",
    "# 訓練: fir -> transform   # 邏輯: 訓練時，就決定標籤了\n",
    "# 測試: transform          # 所以: 測試時，看到沒看過的標籤，就忽略不計算\n",
    "\n",
    "vec= CountVectorizer()\n",
    "trainvec= vec.fit_transform(traindf[\"內容\"])\n",
    "# print(trainvec)\n",
    "# 2731 * 51287 sparse matrix -> 2731列資料，有51287種不同詞彙  (稀疏矩陣，僅儲存非0的值)\n",
    "# (0, 15827) 1   第0首詩，第15827詞彙，出現1次\n",
    "# (1, 48882) 1   第1首詩，第48828詞彙，出現1次 ...\n",
    "\n",
    "# print(vec.vocabulary_)   可以看到各個詞彙的標籤號碼\n",
    "\n",
    "testvec= vec.transform(testdf[\"內容\"])\n",
    "# print(testvec)\n",
    "\n",
    "# 至此為止，資料都整理完畢 : 作者，已轉換為0-2 / 內容已分詞 / 對分詞後內容，標籤與統計數量"
   ]
  },
  {
   "cell_type": "code",
   "execution_count": null,
   "metadata": {},
   "outputs": [],
   "source": [
    "# 不同種的單純貝氏   (https://scikit-learn.org/stable/modules/naive_bayes.html)\n",
    "# 需視情況使用   (視 input 的資料而定)\n",
    "\n",
    "# 1 高斯單純貝氏 (Gaussian Naive Bayes) -> \"連續特徵\" (ex iris花瓣長度 寬度)\n",
    "# 通常用於數值特徵，假設特徵是從高斯分布中抽樣得到的。 (鐘形曲線)\n",
    "\n",
    "# 2 多項式單純貝氏 (Multinomial Naive Bayes) -> \"整數特徵\" (ex 詩詞詞彙，擲骰子)\n",
    "# 通常用於文本分類，假設特徵是多個符號或單詞，並且每個符號或單詞可以出現多次。\n",
    "\n",
    "# 3 伯努利單純貝氏 (Bernoulli Naive Bayes) ->  \"2的進化\" (ex 某特徵 出現 or 不出現)\n",
    "# 也用於文本分類，但是假設特徵是二元的，即符號或單詞要麼出現要麼不出現。\n",
    "\n",
    "### 4 多變量單純貝氏 (Multivariate Naive Bayes) -> \n",
    "###  假設特徵之間存在某種相互關係，因此在計算條件概率時，需要同時考慮多個特徵。"
   ]
  },
  {
   "cell_type": "code",
   "execution_count": 57,
   "metadata": {},
   "outputs": [
    {
     "data": {
      "text/html": [
       "<style>#sk-container-id-5 {color: black;background-color: white;}#sk-container-id-5 pre{padding: 0;}#sk-container-id-5 div.sk-toggleable {background-color: white;}#sk-container-id-5 label.sk-toggleable__label {cursor: pointer;display: block;width: 100%;margin-bottom: 0;padding: 0.3em;box-sizing: border-box;text-align: center;}#sk-container-id-5 label.sk-toggleable__label-arrow:before {content: \"▸\";float: left;margin-right: 0.25em;color: #696969;}#sk-container-id-5 label.sk-toggleable__label-arrow:hover:before {color: black;}#sk-container-id-5 div.sk-estimator:hover label.sk-toggleable__label-arrow:before {color: black;}#sk-container-id-5 div.sk-toggleable__content {max-height: 0;max-width: 0;overflow: hidden;text-align: left;background-color: #f0f8ff;}#sk-container-id-5 div.sk-toggleable__content pre {margin: 0.2em;color: black;border-radius: 0.25em;background-color: #f0f8ff;}#sk-container-id-5 input.sk-toggleable__control:checked~div.sk-toggleable__content {max-height: 200px;max-width: 100%;overflow: auto;}#sk-container-id-5 input.sk-toggleable__control:checked~label.sk-toggleable__label-arrow:before {content: \"▾\";}#sk-container-id-5 div.sk-estimator input.sk-toggleable__control:checked~label.sk-toggleable__label {background-color: #d4ebff;}#sk-container-id-5 div.sk-label input.sk-toggleable__control:checked~label.sk-toggleable__label {background-color: #d4ebff;}#sk-container-id-5 input.sk-hidden--visually {border: 0;clip: rect(1px 1px 1px 1px);clip: rect(1px, 1px, 1px, 1px);height: 1px;margin: -1px;overflow: hidden;padding: 0;position: absolute;width: 1px;}#sk-container-id-5 div.sk-estimator {font-family: monospace;background-color: #f0f8ff;border: 1px dotted black;border-radius: 0.25em;box-sizing: border-box;margin-bottom: 0.5em;}#sk-container-id-5 div.sk-estimator:hover {background-color: #d4ebff;}#sk-container-id-5 div.sk-parallel-item::after {content: \"\";width: 100%;border-bottom: 1px solid gray;flex-grow: 1;}#sk-container-id-5 div.sk-label:hover label.sk-toggleable__label {background-color: #d4ebff;}#sk-container-id-5 div.sk-serial::before {content: \"\";position: absolute;border-left: 1px solid gray;box-sizing: border-box;top: 0;bottom: 0;left: 50%;z-index: 0;}#sk-container-id-5 div.sk-serial {display: flex;flex-direction: column;align-items: center;background-color: white;padding-right: 0.2em;padding-left: 0.2em;position: relative;}#sk-container-id-5 div.sk-item {position: relative;z-index: 1;}#sk-container-id-5 div.sk-parallel {display: flex;align-items: stretch;justify-content: center;background-color: white;position: relative;}#sk-container-id-5 div.sk-item::before, #sk-container-id-5 div.sk-parallel-item::before {content: \"\";position: absolute;border-left: 1px solid gray;box-sizing: border-box;top: 0;bottom: 0;left: 50%;z-index: -1;}#sk-container-id-5 div.sk-parallel-item {display: flex;flex-direction: column;z-index: 1;position: relative;background-color: white;}#sk-container-id-5 div.sk-parallel-item:first-child::after {align-self: flex-end;width: 50%;}#sk-container-id-5 div.sk-parallel-item:last-child::after {align-self: flex-start;width: 50%;}#sk-container-id-5 div.sk-parallel-item:only-child::after {width: 0;}#sk-container-id-5 div.sk-dashed-wrapped {border: 1px dashed gray;margin: 0 0.4em 0.5em 0.4em;box-sizing: border-box;padding-bottom: 0.4em;background-color: white;}#sk-container-id-5 div.sk-label label {font-family: monospace;font-weight: bold;display: inline-block;line-height: 1.2em;}#sk-container-id-5 div.sk-label-container {text-align: center;}#sk-container-id-5 div.sk-container {/* jupyter's `normalize.less` sets `[hidden] { display: none; }` but bootstrap.min.css set `[hidden] { display: none !important; }` so we also need the `!important` here to be able to override the default hidden behavior on the sphinx rendered scikit-learn.org. See: https://github.com/scikit-learn/scikit-learn/issues/21755 */display: inline-block !important;position: relative;}#sk-container-id-5 div.sk-text-repr-fallback {display: none;}</style><div id=\"sk-container-id-5\" class=\"sk-top-container\"><div class=\"sk-text-repr-fallback\"><pre>MultinomialNB(alpha=1)</pre><b>In a Jupyter environment, please rerun this cell to show the HTML representation or trust the notebook. <br />On GitHub, the HTML representation is unable to render, please try loading this page with nbviewer.org.</b></div><div class=\"sk-container\" hidden><div class=\"sk-item\"><div class=\"sk-estimator sk-toggleable\"><input class=\"sk-toggleable__control sk-hidden--visually\" id=\"sk-estimator-id-5\" type=\"checkbox\" checked><label for=\"sk-estimator-id-5\" class=\"sk-toggleable__label sk-toggleable__label-arrow\">MultinomialNB</label><div class=\"sk-toggleable__content\"><pre>MultinomialNB(alpha=1)</pre></div></div></div></div></div>"
      ],
      "text/plain": [
       "MultinomialNB(alpha=1)"
      ]
     },
     "execution_count": 57,
     "metadata": {},
     "output_type": "execute_result"
    }
   ],
   "source": [
    "# 做公式出來\n",
    "from sklearn.naive_bayes import MultinomialNB\n",
    "clf= MultinomialNB(alpha=1)   # alpha=1  ->  Laplace smoothing 下方有解釋\n",
    "clf.fit(trainvec, traindf[\"作者\"])"
   ]
  },
  {
   "cell_type": "code",
   "execution_count": 45,
   "metadata": {},
   "outputs": [
    {
     "name": "stdout",
     "output_type": "stream",
     "text": [
      "預測結果:  [0, 0, 0, 0, 0, 2, 0, 0, 0, 1, 1, 1, 1, 0, 1, 1, 1, 1, 1, 2, 0, 2, 2, 2, 2, 2, 2, 2, 2, 1]\n",
      "正確結果:  [0, 0, 0, 0, 0, 0, 0, 0, 0, 0, 1, 1, 1, 1, 1, 1, 1, 1, 1, 1, 2, 2, 2, 2, 2, 2, 2, 2, 2, 2]\n",
      "正確率:  0.8\n"
     ]
    }
   ],
   "source": [
    "# 驗證模型好壞\n",
    "from sklearn.metrics import accuracy_score\n",
    "pre= clf.predict(testvec)\n",
    "print(\"預測結果: \", list(pre))\n",
    "print(\"正確結果: \", list(testdf[\"作者\"]))\n",
    "print(\"正確率: \", accuracy_score(pre, testdf[\"作者\"]))"
   ]
  },
  {
   "cell_type": "code",
   "execution_count": 56,
   "metadata": {},
   "outputs": [
    {
     "name": "stdout",
     "output_type": "stream",
     "text": [
      "預測的作者為: 李白\n"
     ]
    }
   ],
   "source": [
    "s= input(\"來首詩吧: \")\n",
    "# 當我們要predict時，一定要是一個群集 (list or Series)\n",
    "inputs= [poem(s)]   # poem 是上方切割的功能   # 分詞 & 組合成List\n",
    "# 想要測試的詩\n",
    "\n",
    "x= vec.transform(inputs)                      # 放到數詞彙次數的功能鐘\n",
    "#clf.predict(x)                               # predict\n",
    "# 此時返還群集 : array([1]\n",
    "\n",
    "# clf.predict(x)[0]\n",
    "# 此時返還 1\n",
    "\n",
    "reverse_trans= {0:\"李白\", 1:\"杜甫\", 2:\"白居易\"}\n",
    "pre= clf.predict(x)[0]\n",
    "reverse_trans[pre]\n",
    "\n",
    "print(\"預測的作者為:\", reverse_trans[pre])"
   ]
  },
  {
   "cell_type": "code",
   "execution_count": null,
   "metadata": {},
   "outputs": [],
   "source": [
    "# ML 問題: 我們是否需要事先篩選資料特徵?   ex 詩詞預測，需要先篩選掉你我他 這種詞彙嗎?\n",
    "# A: 不需要，這種常用詞，大家使用機率都一樣的話，模型會自動剔除\n",
    "\n",
    "# TfidfVectorizer 依照詞彙出現頻率，給予重要性分數   (越常出現，越不重要)\n",
    "#                         1\n",
    "# 出現次數 * -------------------------------\n",
    "#                      常用程度\n",
    "\n",
    "# 此處介紹此模型，僅用於解釋，我們不用事先對特徵進行篩選。\n",
    "\n",
    "# 額外補充 Multinomial Naive Bayes 公式中，\n",
    "# 分子的阿法: 代表每個詞彙標籤次數+1 分母的阿法代表 標簽數*1\n",
    "# 目的:\n",
    "# 為了避免 某標籤，出現次數為零，導致整體計算機率都為0，所以每個標籤都加一\n",
    "# 分母為 所有標籤出現次數。所以當分子的每個標籤都加一，分母也要同時加上欄位數*1\n",
    "# 可以問ChatGPT   Laplace smoothing 可以得到解釋"
   ]
  }
 ],
 "metadata": {
  "kernelspec": {
   "display_name": "Python 3",
   "language": "python",
   "name": "python3"
  },
  "language_info": {
   "codemirror_mode": {
    "name": "ipython",
    "version": 3
   },
   "file_extension": ".py",
   "mimetype": "text/x-python",
   "name": "python",
   "nbconvert_exporter": "python",
   "pygments_lexer": "ipython3",
   "version": "3.11.1"
  },
  "orig_nbformat": 4,
  "vscode": {
   "interpreter": {
    "hash": "325665846ff21a2cdc261ed1748c28964ac05b6d615482609ff8001970de8042"
   }
  }
 },
 "nbformat": 4,
 "nbformat_minor": 2
}
