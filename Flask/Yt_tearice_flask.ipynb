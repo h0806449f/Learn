{
 "cells": [
  {
   "attachments": {},
   "cell_type": "markdown",
   "metadata": {},
   "source": [
    "Flask"
   ]
  },
  {
   "cell_type": "code",
   "execution_count": null,
   "metadata": {},
   "outputs": [],
   "source": [
    "# 查詢位址\n",
    "!pip show flask"
   ]
  },
  {
   "cell_type": "code",
   "execution_count": null,
   "metadata": {},
   "outputs": [],
   "source": [
    "from flask import Flask\n",
    "\n",
    "app = Flask(__name__)\n",
    "\n",
    "@app.route(\"/\")              # 創造本機的服務端口\n",
    "def index():                 # 呼叫此端口會執行此 function\n",
    "    return \"Hello World\"\n",
    "\n",
    "if __name__ == '__main__':   # 執行此檔案才會執行app.run   被 import 則不會執行\n",
    "    #app.run(host= \"192.168.0.118\")   # 鎖定提供服務的ip\n",
    "    #app.run(host= \"0.0.0.0\")   # 此法，則本地和指定ip都可使用   # port number（埠號) 5000，可更改\n",
    "    app.run(host= \"0.0.0.0\", port= \"8080\")"
   ]
  },
  {
   "cell_type": "code",
   "execution_count": null,
   "metadata": {},
   "outputs": [],
   "source": [
    "# 新增多個路由\n",
    "from flask import Flask\n",
    "app= Flask(__name__)\n",
    "\n",
    "@app.route(\"/\")                  # http://127.0.0.1:5000/ -> Hello World!\n",
    "def index():\n",
    "    return \"Hello World!\"\n",
    "\n",
    "@app.route(\"/David\")             # http://127.0.0.1:5000/David -> Hello David!\n",
    "def index1():\n",
    "    return \"Hello David!\"\n",
    "\n",
    "if __name__ == \"__main__\":\n",
    "    app.run()\n",
    "\n"
   ]
  },
  {
   "cell_type": "code",
   "execution_count": null,
   "metadata": {},
   "outputs": [],
   "source": [
    "# 多個路由，指向同一個頁面\n",
    "from flask import Flask\n",
    "app= Flask(__name__)\n",
    "\n",
    "@app.route(\"/\")\n",
    "@app.route(\"/index\")\n",
    "def index():\n",
    "    return \"Hello World!_This is test for different url direct to same page\"\n",
    "\n",
    "if __name__ == \"__main__\":\n",
    "    app.run()\n"
   ]
  },
  {
   "cell_type": "code",
   "execution_count": null,
   "metadata": {},
   "outputs": [],
   "source": [
    "# 用路由的名稱，帶自訂參數\n",
    "from flask import Flask\n",
    "app = Flask(__name__)\n",
    "\n",
    "@app.route(\"/\")\n",
    "def index():\n",
    "    return \"Hello World!\"\n",
    "\n",
    "@app.route(\"/<name>\")\n",
    "def index1(name):\n",
    "    return f\"Hello, {name}!\"\n",
    "\n",
    "if __name__ == \"__main__\":\n",
    "    app.run()"
   ]
  },
  {
   "cell_type": "code",
   "execution_count": null,
   "metadata": {},
   "outputs": [],
   "source": [
    "# 使用 GET 帶入參數\n",
    "# url -> http://127.0.0.1:5000/?name= David& age= 18\n",
    "\n",
    "from flask import Flask, request\n",
    "app = Flask(__name__)   # 使用Flask __name__ 這個物件 產生app\n",
    "\n",
    "@app.route(\"/\")\n",
    "def index():\n",
    "    name= request.args.get(\"name\")\n",
    "    age= request.args.get(\"age\")\n",
    "    return f\"Hello {name}, you are {age} years old!!\"\n",
    "\n",
    "if __name__ == \"__main__\":\n",
    "    app.run()\n",
    "\n",
    "# 如果要給定預設值\n",
    "\"\"\"\n",
    "    from flask import Flask, request\n",
    "    app = Flask(__name__)   # 使用Flask __name__ 這個物件 產生app\n",
    "\n",
    "    @app.route(\"/\")\n",
    "    def index(name= \"test_name\", age= 0):\n",
    "        name= request.args.get(\"name\", name)\n",
    "        age= request.args.get(\"age\", age)\n",
    "        return f\"Hello {name}, you are {age} years old!!\"\n",
    "\n",
    "    if __name__ == \"__main__\":\n",
    "        app.run()\n",
    "\"\"\""
   ]
  },
  {
   "cell_type": "code",
   "execution_count": null,
   "metadata": {},
   "outputs": [],
   "source": [
    "# GET 參數，但使用表單\n",
    "from flask import Flask, request   # request 使用GET方法需要用到\n",
    "app = Flask(__name__)\n",
    "\n",
    "@app.route(\"/\")   # 根目錄\n",
    "def index():\n",
    "    # if request.method== \"GET\" and request.args.get(\"name\") != None: 以下為較好寫法\n",
    "    # 此方法 : name的參數沒有設置，將返回空值。可能會產生 \"沒有內容\" 的錯誤。\n",
    "    if request.method== \"GET\" and \"name\" in request.args:\n",
    "        name = request.args.get(\"name\")\n",
    "        return f\"Hello, {name}!!\"\n",
    "    else:\n",
    "        return\"\"\"\n",
    "        <form method= \"get\">\n",
    "            <input type= \"text\", name= \"name\">\n",
    "            <botton type= \"submit\">Submit</button>\n",
    "        </form>\n",
    "        \"\"\"\n",
    "        # 這三個 ''' 必須要接在return後面，不能換行\n",
    "\n",
    "if __name__== \"__main__\":\n",
    "    app.run() "
   ]
  },
  {
   "cell_type": "code",
   "execution_count": null,
   "metadata": {},
   "outputs": [],
   "source": [
    "# POST 參數\n",
    "from flask import Flask, request\n",
    "app= Flask(__name__)\n",
    "\n",
    "@app.route(\"/\", methods= [\"GET\", \"POST\"])   # default 為 GET\n",
    "def index():\n",
    "    if request.method== \"POST\":\n",
    "        # 方法一\n",
    "        #name= request.form.get(\"name\")\n",
    "        \n",
    "        # 方法二\n",
    "        name= request.values.get(\"name\")\n",
    "        return f\"Hello, {name}!!\"\n",
    "    else:\n",
    "        return \"\"\"\n",
    "        <form method= \"POST\">\n",
    "            <input type= \"text\" name= \"name\">\n",
    "            <button type= \"submit\">Submit</button>\n",
    "        </form>\n",
    "        \"\"\"\n",
    "\n",
    "if __name__ == \"__main__\":\n",
    "    app.run()\n",
    "\n",
    "# 送出第一個名字後，網址沒有產生變化，可以得知 request mehtod = POST"
   ]
  },
  {
   "cell_type": "code",
   "execution_count": null,
   "metadata": {},
   "outputs": [],
   "source": [
    "# 練習 - BMI計算器\n",
    "from flask import Flask, request\n",
    "app = Flask(__name__)\n",
    "\n",
    "@app.route(\"/\", methods= [\"GET\", \"POST\"])\n",
    "def index():\n",
    "    if request.method== \"POST\":\n",
    "        weight= int(request.values.get(\"weight\"))\n",
    "        height= int(request.values.get(\"height\"))\n",
    "        bmi= weight / (height/100) ** 2\n",
    "        return f\"經計算後的BMI為: {bmi:.2f}\"\n",
    "    else:\n",
    "        return \"\"\"\n",
    "        <form method=\"POST\">\n",
    "            <label for=\"weight\">請輸入體重:</label>\n",
    "            <input type=\"text\" name=\"weight\" id=\"weight\">\n",
    "            <br>\n",
    "            <label for=\"height\">請輸入身高:</label>\n",
    "            <input type=\"text\" name=\"height\" id=\"height\">\n",
    "            <br>\n",
    "            <button type=\"submit\">Submit</button>\n",
    "        </form>\n",
    "        \"\"\"\n",
    "        # <br> 換行符號\n",
    "\n",
    "if __name__== \"__main__\":\n",
    "    app.run()\n",
    "\n",
    "# BMI 計算器自訂函式版\n",
    "\"\"\"\n",
    "    def getBMI(w, h):\n",
    "        bmi = w / (h/100) ** 2\n",
    "        return bmi\n",
    "    h= int(input(\"Enter your height(cm): \"))\n",
    "    w= int(input(\"Enter your weught(kg): \"))\n",
    "    print(f\"Your BMI: {getBMI(w,h):.2f} \")   # :.2f 計算到小數點後兩位\n",
    "\"\"\""
   ]
  },
  {
   "cell_type": "code",
   "execution_count": null,
   "metadata": {},
   "outputs": [],
   "source": [
    "# 練習 - BMI計算器   (需要使用自訂函式)\n",
    "from flask import Flask, request\n",
    "app= Flask(__name__)\n",
    "\n",
    "def get_bmi(weight, height):\n",
    "    bmi = weight / (height / 100) ** 2\n",
    "    return bmi\n",
    "\n",
    "@app.route(\"/\", methods= [\"GET\", \"POST\"])\n",
    "def index():\n",
    "    if request.method == \"POST\":\n",
    "        try:\n",
    "            weight = int(request.form.get(\"weight\"))\n",
    "            height = int(request.form.get(\"height\"))\n",
    "            # 欄位沒有填寫時，request.form[\"weight\"] 會引發 KeyError 錯誤\n",
    "            # 欄位沒有填寫時，request.form.get(\"weight\") 會回傳None\n",
    "            # 所以最好加上判斷式 or try&except\n",
    "            bmi = get_bmi(weight, height)\n",
    "            return f\"經計算後的BMI為: {bmi:.2f}\"\n",
    "        except ValueError:\n",
    "            return \"尚未輸入值\"\n",
    "    else:\n",
    "        return \"\"\"\n",
    "        <form method=\"POST\">\n",
    "            <label for=\"weight\">請輸入體重: </label>\n",
    "            <input type=\"text\" name=\"weight\" id=\"weight\">\n",
    "            <br>\n",
    "            <label for=\"height\">請輸入身高: </label>\n",
    "            <input type=\"text\" name=\"height\" id=\"height\">\n",
    "            <br>\n",
    "            <button type=\"submit\">送出</button>\n",
    "        </form>\n",
    "        \"\"\"\n",
    "\n",
    "if __name__== \"__main__\":\n",
    "    app.run()"
   ]
  },
  {
   "cell_type": "code",
   "execution_count": null,
   "metadata": {},
   "outputs": [],
   "source": [
    "# 將我方這個服務，提供到網路上\n",
    "# ngrok: http://ngrok.com/\n",
    "# 註冊\n",
    "# 取得token\n",
    "# 連接帳號 -> ngrok config add-authtoken   你的token\n",
    "# 啟動服務 -> ngrok http 埠號\n",
    "# 此部分可以再重看影片 : https://www.youtube.com/watch?v=H6_kfABKzq8&t=8467s"
   ]
  },
  {
   "attachments": {},
   "cell_type": "markdown",
   "metadata": {},
   "source": [
    "Line Bot"
   ]
  },
  {
   "cell_type": "code",
   "execution_count": null,
   "metadata": {},
   "outputs": [],
   "source": [
    "# 獲得 Line Bot Messaging API 權限\n",
    "# 1 新增 Massaging API Channel\n",
    "# 2 取得 Channel secret\n",
    "# 3 取得 Channel access token"
   ]
  },
  {
   "cell_type": "code",
   "execution_count": null,
   "metadata": {},
   "outputs": [],
   "source": [
    "# 本機 API 服務的建立 flask & ngrok\n",
    "# 1 flask 本機建立Web API\n",
    "# 2 ngrok 將本機服務推到外部\n",
    "# 3 webhook 設定及測試網址"
   ]
  },
  {
   "cell_type": "code",
   "execution_count": null,
   "metadata": {},
   "outputs": [],
   "source": []
  }
 ],
 "metadata": {
  "kernelspec": {
   "display_name": "Python 3",
   "language": "python",
   "name": "python3"
  },
  "language_info": {
   "codemirror_mode": {
    "name": "ipython",
    "version": 3
   },
   "file_extension": ".py",
   "mimetype": "text/x-python",
   "name": "python",
   "nbconvert_exporter": "python",
   "pygments_lexer": "ipython3",
   "version": "3.11.1"
  },
  "orig_nbformat": 4,
  "vscode": {
   "interpreter": {
    "hash": "325665846ff21a2cdc261ed1748c28964ac05b6d615482609ff8001970de8042"
   }
  }
 },
 "nbformat": 4,
 "nbformat_minor": 2
}
